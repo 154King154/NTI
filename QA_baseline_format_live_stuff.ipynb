{
  "nbformat": 4,
  "nbformat_minor": 0,
  "metadata": {
    "colab": {
      "name": "QA_baseline_format.ipynb",
      "provenance": [],
      "collapsed_sections": [],
      "authorship_tag": "ABX9TyNmztxnxEPH/BB0tBRRaV2o",
      "include_colab_link": true
    },
    "kernelspec": {
      "name": "python3",
      "display_name": "Python 3"
    },
    "accelerator": "GPU",
    "widgets": {
      "application/vnd.jupyter.widget-state+json": {
        "8acff3c86bb3493090824d59362606f2": {
          "model_module": "@jupyter-widgets/controls",
          "model_name": "HBoxModel",
          "state": {
            "_view_name": "HBoxView",
            "_dom_classes": [],
            "_model_name": "HBoxModel",
            "_view_module": "@jupyter-widgets/controls",
            "_model_module_version": "1.5.0",
            "_view_count": null,
            "_view_module_version": "1.5.0",
            "box_style": "",
            "layout": "IPY_MODEL_2343341d18674790b7115f4a1b594420",
            "_model_module": "@jupyter-widgets/controls",
            "children": [
              "IPY_MODEL_0a2646229436415ca67bb0e561442e5c",
              "IPY_MODEL_6ec6d5cbd2194609aa07e2b3f5fc3d89",
              "IPY_MODEL_fc7b624fa935405d941de24cc86cc2c8"
            ]
          }
        },
        "2343341d18674790b7115f4a1b594420": {
          "model_module": "@jupyter-widgets/base",
          "model_name": "LayoutModel",
          "state": {
            "_view_name": "LayoutView",
            "grid_template_rows": null,
            "right": null,
            "justify_content": null,
            "_view_module": "@jupyter-widgets/base",
            "overflow": null,
            "_model_module_version": "1.2.0",
            "_view_count": null,
            "flex_flow": null,
            "width": null,
            "min_width": null,
            "border": null,
            "align_items": null,
            "bottom": null,
            "_model_module": "@jupyter-widgets/base",
            "top": null,
            "grid_column": null,
            "overflow_y": null,
            "overflow_x": null,
            "grid_auto_flow": null,
            "grid_area": null,
            "grid_template_columns": null,
            "flex": null,
            "_model_name": "LayoutModel",
            "justify_items": null,
            "grid_row": null,
            "max_height": null,
            "align_content": null,
            "visibility": null,
            "align_self": null,
            "height": null,
            "min_height": null,
            "padding": null,
            "grid_auto_rows": null,
            "grid_gap": null,
            "max_width": null,
            "order": null,
            "_view_module_version": "1.2.0",
            "grid_template_areas": null,
            "object_position": null,
            "object_fit": null,
            "grid_auto_columns": null,
            "margin": null,
            "display": null,
            "left": null
          }
        },
        "0a2646229436415ca67bb0e561442e5c": {
          "model_module": "@jupyter-widgets/controls",
          "model_name": "HTMLModel",
          "state": {
            "_view_name": "HTMLView",
            "style": "IPY_MODEL_087028c28127455fa717f60d735fd26c",
            "_dom_classes": [],
            "description": "",
            "_model_name": "HTMLModel",
            "placeholder": "​",
            "_view_module": "@jupyter-widgets/controls",
            "_model_module_version": "1.5.0",
            "value": "Downloading: 100%",
            "_view_count": null,
            "_view_module_version": "1.5.0",
            "description_tooltip": null,
            "_model_module": "@jupyter-widgets/controls",
            "layout": "IPY_MODEL_ac888c55fc524b739c0e5a0c90484471"
          }
        },
        "6ec6d5cbd2194609aa07e2b3f5fc3d89": {
          "model_module": "@jupyter-widgets/controls",
          "model_name": "FloatProgressModel",
          "state": {
            "_view_name": "ProgressView",
            "style": "IPY_MODEL_cf239953458e4f16b42b3c388db1d7a8",
            "_dom_classes": [],
            "description": "",
            "_model_name": "FloatProgressModel",
            "bar_style": "success",
            "max": 625,
            "_view_module": "@jupyter-widgets/controls",
            "_model_module_version": "1.5.0",
            "value": 625,
            "_view_count": null,
            "_view_module_version": "1.5.0",
            "orientation": "horizontal",
            "min": 0,
            "description_tooltip": null,
            "_model_module": "@jupyter-widgets/controls",
            "layout": "IPY_MODEL_1a062f8ed89b4824bf1fb28ce312ae76"
          }
        },
        "fc7b624fa935405d941de24cc86cc2c8": {
          "model_module": "@jupyter-widgets/controls",
          "model_name": "HTMLModel",
          "state": {
            "_view_name": "HTMLView",
            "style": "IPY_MODEL_2b0d42dcea194003903807f24e393e40",
            "_dom_classes": [],
            "description": "",
            "_model_name": "HTMLModel",
            "placeholder": "​",
            "_view_module": "@jupyter-widgets/controls",
            "_model_module_version": "1.5.0",
            "value": " 625/625 [00:17&lt;00:00, 35.1B/s]",
            "_view_count": null,
            "_view_module_version": "1.5.0",
            "description_tooltip": null,
            "_model_module": "@jupyter-widgets/controls",
            "layout": "IPY_MODEL_96a1fb8fcb02460bac5fab46501b3438"
          }
        },
        "087028c28127455fa717f60d735fd26c": {
          "model_module": "@jupyter-widgets/controls",
          "model_name": "DescriptionStyleModel",
          "state": {
            "_view_name": "StyleView",
            "_model_name": "DescriptionStyleModel",
            "description_width": "",
            "_view_module": "@jupyter-widgets/base",
            "_model_module_version": "1.5.0",
            "_view_count": null,
            "_view_module_version": "1.2.0",
            "_model_module": "@jupyter-widgets/controls"
          }
        },
        "ac888c55fc524b739c0e5a0c90484471": {
          "model_module": "@jupyter-widgets/base",
          "model_name": "LayoutModel",
          "state": {
            "_view_name": "LayoutView",
            "grid_template_rows": null,
            "right": null,
            "justify_content": null,
            "_view_module": "@jupyter-widgets/base",
            "overflow": null,
            "_model_module_version": "1.2.0",
            "_view_count": null,
            "flex_flow": null,
            "width": null,
            "min_width": null,
            "border": null,
            "align_items": null,
            "bottom": null,
            "_model_module": "@jupyter-widgets/base",
            "top": null,
            "grid_column": null,
            "overflow_y": null,
            "overflow_x": null,
            "grid_auto_flow": null,
            "grid_area": null,
            "grid_template_columns": null,
            "flex": null,
            "_model_name": "LayoutModel",
            "justify_items": null,
            "grid_row": null,
            "max_height": null,
            "align_content": null,
            "visibility": null,
            "align_self": null,
            "height": null,
            "min_height": null,
            "padding": null,
            "grid_auto_rows": null,
            "grid_gap": null,
            "max_width": null,
            "order": null,
            "_view_module_version": "1.2.0",
            "grid_template_areas": null,
            "object_position": null,
            "object_fit": null,
            "grid_auto_columns": null,
            "margin": null,
            "display": null,
            "left": null
          }
        },
        "cf239953458e4f16b42b3c388db1d7a8": {
          "model_module": "@jupyter-widgets/controls",
          "model_name": "ProgressStyleModel",
          "state": {
            "_view_name": "StyleView",
            "_model_name": "ProgressStyleModel",
            "description_width": "",
            "_view_module": "@jupyter-widgets/base",
            "_model_module_version": "1.5.0",
            "_view_count": null,
            "_view_module_version": "1.2.0",
            "bar_color": null,
            "_model_module": "@jupyter-widgets/controls"
          }
        },
        "1a062f8ed89b4824bf1fb28ce312ae76": {
          "model_module": "@jupyter-widgets/base",
          "model_name": "LayoutModel",
          "state": {
            "_view_name": "LayoutView",
            "grid_template_rows": null,
            "right": null,
            "justify_content": null,
            "_view_module": "@jupyter-widgets/base",
            "overflow": null,
            "_model_module_version": "1.2.0",
            "_view_count": null,
            "flex_flow": null,
            "width": null,
            "min_width": null,
            "border": null,
            "align_items": null,
            "bottom": null,
            "_model_module": "@jupyter-widgets/base",
            "top": null,
            "grid_column": null,
            "overflow_y": null,
            "overflow_x": null,
            "grid_auto_flow": null,
            "grid_area": null,
            "grid_template_columns": null,
            "flex": null,
            "_model_name": "LayoutModel",
            "justify_items": null,
            "grid_row": null,
            "max_height": null,
            "align_content": null,
            "visibility": null,
            "align_self": null,
            "height": null,
            "min_height": null,
            "padding": null,
            "grid_auto_rows": null,
            "grid_gap": null,
            "max_width": null,
            "order": null,
            "_view_module_version": "1.2.0",
            "grid_template_areas": null,
            "object_position": null,
            "object_fit": null,
            "grid_auto_columns": null,
            "margin": null,
            "display": null,
            "left": null
          }
        },
        "2b0d42dcea194003903807f24e393e40": {
          "model_module": "@jupyter-widgets/controls",
          "model_name": "DescriptionStyleModel",
          "state": {
            "_view_name": "StyleView",
            "_model_name": "DescriptionStyleModel",
            "description_width": "",
            "_view_module": "@jupyter-widgets/base",
            "_model_module_version": "1.5.0",
            "_view_count": null,
            "_view_module_version": "1.2.0",
            "_model_module": "@jupyter-widgets/controls"
          }
        },
        "96a1fb8fcb02460bac5fab46501b3438": {
          "model_module": "@jupyter-widgets/base",
          "model_name": "LayoutModel",
          "state": {
            "_view_name": "LayoutView",
            "grid_template_rows": null,
            "right": null,
            "justify_content": null,
            "_view_module": "@jupyter-widgets/base",
            "overflow": null,
            "_model_module_version": "1.2.0",
            "_view_count": null,
            "flex_flow": null,
            "width": null,
            "min_width": null,
            "border": null,
            "align_items": null,
            "bottom": null,
            "_model_module": "@jupyter-widgets/base",
            "top": null,
            "grid_column": null,
            "overflow_y": null,
            "overflow_x": null,
            "grid_auto_flow": null,
            "grid_area": null,
            "grid_template_columns": null,
            "flex": null,
            "_model_name": "LayoutModel",
            "justify_items": null,
            "grid_row": null,
            "max_height": null,
            "align_content": null,
            "visibility": null,
            "align_self": null,
            "height": null,
            "min_height": null,
            "padding": null,
            "grid_auto_rows": null,
            "grid_gap": null,
            "max_width": null,
            "order": null,
            "_view_module_version": "1.2.0",
            "grid_template_areas": null,
            "object_position": null,
            "object_fit": null,
            "grid_auto_columns": null,
            "margin": null,
            "display": null,
            "left": null
          }
        },
        "57af97638ea4405caa734c82469a9669": {
          "model_module": "@jupyter-widgets/controls",
          "model_name": "HBoxModel",
          "state": {
            "_view_name": "HBoxView",
            "_dom_classes": [],
            "_model_name": "HBoxModel",
            "_view_module": "@jupyter-widgets/controls",
            "_model_module_version": "1.5.0",
            "_view_count": null,
            "_view_module_version": "1.5.0",
            "box_style": "",
            "layout": "IPY_MODEL_49d0048865d640fda0f705d54ecb98f6",
            "_model_module": "@jupyter-widgets/controls",
            "children": [
              "IPY_MODEL_e3b3f8cc3d424ae6b8dbbbcdaca2c163",
              "IPY_MODEL_ef4c2d519fb64d57989f63d655d5462f",
              "IPY_MODEL_536545c885834f37aa81d56a3b9f13c0"
            ]
          }
        },
        "49d0048865d640fda0f705d54ecb98f6": {
          "model_module": "@jupyter-widgets/base",
          "model_name": "LayoutModel",
          "state": {
            "_view_name": "LayoutView",
            "grid_template_rows": null,
            "right": null,
            "justify_content": null,
            "_view_module": "@jupyter-widgets/base",
            "overflow": null,
            "_model_module_version": "1.2.0",
            "_view_count": null,
            "flex_flow": null,
            "width": null,
            "min_width": null,
            "border": null,
            "align_items": null,
            "bottom": null,
            "_model_module": "@jupyter-widgets/base",
            "top": null,
            "grid_column": null,
            "overflow_y": null,
            "overflow_x": null,
            "grid_auto_flow": null,
            "grid_area": null,
            "grid_template_columns": null,
            "flex": null,
            "_model_name": "LayoutModel",
            "justify_items": null,
            "grid_row": null,
            "max_height": null,
            "align_content": null,
            "visibility": null,
            "align_self": null,
            "height": null,
            "min_height": null,
            "padding": null,
            "grid_auto_rows": null,
            "grid_gap": null,
            "max_width": null,
            "order": null,
            "_view_module_version": "1.2.0",
            "grid_template_areas": null,
            "object_position": null,
            "object_fit": null,
            "grid_auto_columns": null,
            "margin": null,
            "display": null,
            "left": null
          }
        },
        "e3b3f8cc3d424ae6b8dbbbcdaca2c163": {
          "model_module": "@jupyter-widgets/controls",
          "model_name": "HTMLModel",
          "state": {
            "_view_name": "HTMLView",
            "style": "IPY_MODEL_8b87453b88414f849bcbddea1f07b816",
            "_dom_classes": [],
            "description": "",
            "_model_name": "HTMLModel",
            "placeholder": "​",
            "_view_module": "@jupyter-widgets/controls",
            "_model_module_version": "1.5.0",
            "value": "Downloading: 100%",
            "_view_count": null,
            "_view_module_version": "1.5.0",
            "description_tooltip": null,
            "_model_module": "@jupyter-widgets/controls",
            "layout": "IPY_MODEL_255da9fb9e914cef861bdf0232c0a893"
          }
        },
        "ef4c2d519fb64d57989f63d655d5462f": {
          "model_module": "@jupyter-widgets/controls",
          "model_name": "FloatProgressModel",
          "state": {
            "_view_name": "ProgressView",
            "style": "IPY_MODEL_a2c76b11f5d24191953e0220fa74f027",
            "_dom_classes": [],
            "description": "",
            "_model_name": "FloatProgressModel",
            "bar_style": "success",
            "max": 672271273,
            "_view_module": "@jupyter-widgets/controls",
            "_model_module_version": "1.5.0",
            "value": 672271273,
            "_view_count": null,
            "_view_module_version": "1.5.0",
            "orientation": "horizontal",
            "min": 0,
            "description_tooltip": null,
            "_model_module": "@jupyter-widgets/controls",
            "layout": "IPY_MODEL_cf0942af55d14828a8a739d159a3cbe4"
          }
        },
        "536545c885834f37aa81d56a3b9f13c0": {
          "model_module": "@jupyter-widgets/controls",
          "model_name": "HTMLModel",
          "state": {
            "_view_name": "HTMLView",
            "style": "IPY_MODEL_870420d8d78e4e8899cc4932488c278d",
            "_dom_classes": [],
            "description": "",
            "_model_name": "HTMLModel",
            "placeholder": "​",
            "_view_module": "@jupyter-widgets/controls",
            "_model_module_version": "1.5.0",
            "value": " 672M/672M [00:16&lt;00:00, 40.0MB/s]",
            "_view_count": null,
            "_view_module_version": "1.5.0",
            "description_tooltip": null,
            "_model_module": "@jupyter-widgets/controls",
            "layout": "IPY_MODEL_6dd9691b89db45f8a69bf865a1045542"
          }
        },
        "8b87453b88414f849bcbddea1f07b816": {
          "model_module": "@jupyter-widgets/controls",
          "model_name": "DescriptionStyleModel",
          "state": {
            "_view_name": "StyleView",
            "_model_name": "DescriptionStyleModel",
            "description_width": "",
            "_view_module": "@jupyter-widgets/base",
            "_model_module_version": "1.5.0",
            "_view_count": null,
            "_view_module_version": "1.2.0",
            "_model_module": "@jupyter-widgets/controls"
          }
        },
        "255da9fb9e914cef861bdf0232c0a893": {
          "model_module": "@jupyter-widgets/base",
          "model_name": "LayoutModel",
          "state": {
            "_view_name": "LayoutView",
            "grid_template_rows": null,
            "right": null,
            "justify_content": null,
            "_view_module": "@jupyter-widgets/base",
            "overflow": null,
            "_model_module_version": "1.2.0",
            "_view_count": null,
            "flex_flow": null,
            "width": null,
            "min_width": null,
            "border": null,
            "align_items": null,
            "bottom": null,
            "_model_module": "@jupyter-widgets/base",
            "top": null,
            "grid_column": null,
            "overflow_y": null,
            "overflow_x": null,
            "grid_auto_flow": null,
            "grid_area": null,
            "grid_template_columns": null,
            "flex": null,
            "_model_name": "LayoutModel",
            "justify_items": null,
            "grid_row": null,
            "max_height": null,
            "align_content": null,
            "visibility": null,
            "align_self": null,
            "height": null,
            "min_height": null,
            "padding": null,
            "grid_auto_rows": null,
            "grid_gap": null,
            "max_width": null,
            "order": null,
            "_view_module_version": "1.2.0",
            "grid_template_areas": null,
            "object_position": null,
            "object_fit": null,
            "grid_auto_columns": null,
            "margin": null,
            "display": null,
            "left": null
          }
        },
        "a2c76b11f5d24191953e0220fa74f027": {
          "model_module": "@jupyter-widgets/controls",
          "model_name": "ProgressStyleModel",
          "state": {
            "_view_name": "StyleView",
            "_model_name": "ProgressStyleModel",
            "description_width": "",
            "_view_module": "@jupyter-widgets/base",
            "_model_module_version": "1.5.0",
            "_view_count": null,
            "_view_module_version": "1.2.0",
            "bar_color": null,
            "_model_module": "@jupyter-widgets/controls"
          }
        },
        "cf0942af55d14828a8a739d159a3cbe4": {
          "model_module": "@jupyter-widgets/base",
          "model_name": "LayoutModel",
          "state": {
            "_view_name": "LayoutView",
            "grid_template_rows": null,
            "right": null,
            "justify_content": null,
            "_view_module": "@jupyter-widgets/base",
            "overflow": null,
            "_model_module_version": "1.2.0",
            "_view_count": null,
            "flex_flow": null,
            "width": null,
            "min_width": null,
            "border": null,
            "align_items": null,
            "bottom": null,
            "_model_module": "@jupyter-widgets/base",
            "top": null,
            "grid_column": null,
            "overflow_y": null,
            "overflow_x": null,
            "grid_auto_flow": null,
            "grid_area": null,
            "grid_template_columns": null,
            "flex": null,
            "_model_name": "LayoutModel",
            "justify_items": null,
            "grid_row": null,
            "max_height": null,
            "align_content": null,
            "visibility": null,
            "align_self": null,
            "height": null,
            "min_height": null,
            "padding": null,
            "grid_auto_rows": null,
            "grid_gap": null,
            "max_width": null,
            "order": null,
            "_view_module_version": "1.2.0",
            "grid_template_areas": null,
            "object_position": null,
            "object_fit": null,
            "grid_auto_columns": null,
            "margin": null,
            "display": null,
            "left": null
          }
        },
        "870420d8d78e4e8899cc4932488c278d": {
          "model_module": "@jupyter-widgets/controls",
          "model_name": "DescriptionStyleModel",
          "state": {
            "_view_name": "StyleView",
            "_model_name": "DescriptionStyleModel",
            "description_width": "",
            "_view_module": "@jupyter-widgets/base",
            "_model_module_version": "1.5.0",
            "_view_count": null,
            "_view_module_version": "1.2.0",
            "_model_module": "@jupyter-widgets/controls"
          }
        },
        "6dd9691b89db45f8a69bf865a1045542": {
          "model_module": "@jupyter-widgets/base",
          "model_name": "LayoutModel",
          "state": {
            "_view_name": "LayoutView",
            "grid_template_rows": null,
            "right": null,
            "justify_content": null,
            "_view_module": "@jupyter-widgets/base",
            "overflow": null,
            "_model_module_version": "1.2.0",
            "_view_count": null,
            "flex_flow": null,
            "width": null,
            "min_width": null,
            "border": null,
            "align_items": null,
            "bottom": null,
            "_model_module": "@jupyter-widgets/base",
            "top": null,
            "grid_column": null,
            "overflow_y": null,
            "overflow_x": null,
            "grid_auto_flow": null,
            "grid_area": null,
            "grid_template_columns": null,
            "flex": null,
            "_model_name": "LayoutModel",
            "justify_items": null,
            "grid_row": null,
            "max_height": null,
            "align_content": null,
            "visibility": null,
            "align_self": null,
            "height": null,
            "min_height": null,
            "padding": null,
            "grid_auto_rows": null,
            "grid_gap": null,
            "max_width": null,
            "order": null,
            "_view_module_version": "1.2.0",
            "grid_template_areas": null,
            "object_position": null,
            "object_fit": null,
            "grid_auto_columns": null,
            "margin": null,
            "display": null,
            "left": null
          }
        },
        "feaedb68d9b94920bf76cee930f80a9a": {
          "model_module": "@jupyter-widgets/controls",
          "model_name": "HBoxModel",
          "state": {
            "_view_name": "HBoxView",
            "_dom_classes": [],
            "_model_name": "HBoxModel",
            "_view_module": "@jupyter-widgets/controls",
            "_model_module_version": "1.5.0",
            "_view_count": null,
            "_view_module_version": "1.5.0",
            "box_style": "",
            "layout": "IPY_MODEL_901e9ea236104caf9b4d5e98f32e8182",
            "_model_module": "@jupyter-widgets/controls",
            "children": [
              "IPY_MODEL_83544bca263b4ecc86d0da11e771565b",
              "IPY_MODEL_d150e8b1edc548b09cfe8d7c9f173040",
              "IPY_MODEL_67a264ab0a6b4d85856926e9f36a0ed0"
            ]
          }
        },
        "901e9ea236104caf9b4d5e98f32e8182": {
          "model_module": "@jupyter-widgets/base",
          "model_name": "LayoutModel",
          "state": {
            "_view_name": "LayoutView",
            "grid_template_rows": null,
            "right": null,
            "justify_content": null,
            "_view_module": "@jupyter-widgets/base",
            "overflow": null,
            "_model_module_version": "1.2.0",
            "_view_count": null,
            "flex_flow": null,
            "width": null,
            "min_width": null,
            "border": null,
            "align_items": null,
            "bottom": null,
            "_model_module": "@jupyter-widgets/base",
            "top": null,
            "grid_column": null,
            "overflow_y": null,
            "overflow_x": null,
            "grid_auto_flow": null,
            "grid_area": null,
            "grid_template_columns": null,
            "flex": null,
            "_model_name": "LayoutModel",
            "justify_items": null,
            "grid_row": null,
            "max_height": null,
            "align_content": null,
            "visibility": null,
            "align_self": null,
            "height": null,
            "min_height": null,
            "padding": null,
            "grid_auto_rows": null,
            "grid_gap": null,
            "max_width": null,
            "order": null,
            "_view_module_version": "1.2.0",
            "grid_template_areas": null,
            "object_position": null,
            "object_fit": null,
            "grid_auto_columns": null,
            "margin": null,
            "display": null,
            "left": null
          }
        },
        "83544bca263b4ecc86d0da11e771565b": {
          "model_module": "@jupyter-widgets/controls",
          "model_name": "HTMLModel",
          "state": {
            "_view_name": "HTMLView",
            "style": "IPY_MODEL_525360843b3a41eaa4bca76bb5794d88",
            "_dom_classes": [],
            "description": "",
            "_model_name": "HTMLModel",
            "placeholder": "​",
            "_view_module": "@jupyter-widgets/controls",
            "_model_module_version": "1.5.0",
            "value": "Downloading: 100%",
            "_view_count": null,
            "_view_module_version": "1.5.0",
            "description_tooltip": null,
            "_model_module": "@jupyter-widgets/controls",
            "layout": "IPY_MODEL_9c0fafc10012460385bd707c0e9cda68"
          }
        },
        "d150e8b1edc548b09cfe8d7c9f173040": {
          "model_module": "@jupyter-widgets/controls",
          "model_name": "FloatProgressModel",
          "state": {
            "_view_name": "ProgressView",
            "style": "IPY_MODEL_5f6c3547ea394bc5a1e2bab002d9d095",
            "_dom_classes": [],
            "description": "",
            "_model_name": "FloatProgressModel",
            "bar_style": "success",
            "max": 871891,
            "_view_module": "@jupyter-widgets/controls",
            "_model_module_version": "1.5.0",
            "value": 871891,
            "_view_count": null,
            "_view_module_version": "1.5.0",
            "orientation": "horizontal",
            "min": 0,
            "description_tooltip": null,
            "_model_module": "@jupyter-widgets/controls",
            "layout": "IPY_MODEL_53d5d35839144f719e82d81f648d97c1"
          }
        },
        "67a264ab0a6b4d85856926e9f36a0ed0": {
          "model_module": "@jupyter-widgets/controls",
          "model_name": "HTMLModel",
          "state": {
            "_view_name": "HTMLView",
            "style": "IPY_MODEL_b70b55641e41491fb67fb05f407f0326",
            "_dom_classes": [],
            "description": "",
            "_model_name": "HTMLModel",
            "placeholder": "​",
            "_view_module": "@jupyter-widgets/controls",
            "_model_module_version": "1.5.0",
            "value": " 872k/872k [00:00&lt;00:00, 1.89MB/s]",
            "_view_count": null,
            "_view_module_version": "1.5.0",
            "description_tooltip": null,
            "_model_module": "@jupyter-widgets/controls",
            "layout": "IPY_MODEL_9c5c94c2991b46e184d8a0a70fb7728f"
          }
        },
        "525360843b3a41eaa4bca76bb5794d88": {
          "model_module": "@jupyter-widgets/controls",
          "model_name": "DescriptionStyleModel",
          "state": {
            "_view_name": "StyleView",
            "_model_name": "DescriptionStyleModel",
            "description_width": "",
            "_view_module": "@jupyter-widgets/base",
            "_model_module_version": "1.5.0",
            "_view_count": null,
            "_view_module_version": "1.2.0",
            "_model_module": "@jupyter-widgets/controls"
          }
        },
        "9c0fafc10012460385bd707c0e9cda68": {
          "model_module": "@jupyter-widgets/base",
          "model_name": "LayoutModel",
          "state": {
            "_view_name": "LayoutView",
            "grid_template_rows": null,
            "right": null,
            "justify_content": null,
            "_view_module": "@jupyter-widgets/base",
            "overflow": null,
            "_model_module_version": "1.2.0",
            "_view_count": null,
            "flex_flow": null,
            "width": null,
            "min_width": null,
            "border": null,
            "align_items": null,
            "bottom": null,
            "_model_module": "@jupyter-widgets/base",
            "top": null,
            "grid_column": null,
            "overflow_y": null,
            "overflow_x": null,
            "grid_auto_flow": null,
            "grid_area": null,
            "grid_template_columns": null,
            "flex": null,
            "_model_name": "LayoutModel",
            "justify_items": null,
            "grid_row": null,
            "max_height": null,
            "align_content": null,
            "visibility": null,
            "align_self": null,
            "height": null,
            "min_height": null,
            "padding": null,
            "grid_auto_rows": null,
            "grid_gap": null,
            "max_width": null,
            "order": null,
            "_view_module_version": "1.2.0",
            "grid_template_areas": null,
            "object_position": null,
            "object_fit": null,
            "grid_auto_columns": null,
            "margin": null,
            "display": null,
            "left": null
          }
        },
        "5f6c3547ea394bc5a1e2bab002d9d095": {
          "model_module": "@jupyter-widgets/controls",
          "model_name": "ProgressStyleModel",
          "state": {
            "_view_name": "StyleView",
            "_model_name": "ProgressStyleModel",
            "description_width": "",
            "_view_module": "@jupyter-widgets/base",
            "_model_module_version": "1.5.0",
            "_view_count": null,
            "_view_module_version": "1.2.0",
            "bar_color": null,
            "_model_module": "@jupyter-widgets/controls"
          }
        },
        "53d5d35839144f719e82d81f648d97c1": {
          "model_module": "@jupyter-widgets/base",
          "model_name": "LayoutModel",
          "state": {
            "_view_name": "LayoutView",
            "grid_template_rows": null,
            "right": null,
            "justify_content": null,
            "_view_module": "@jupyter-widgets/base",
            "overflow": null,
            "_model_module_version": "1.2.0",
            "_view_count": null,
            "flex_flow": null,
            "width": null,
            "min_width": null,
            "border": null,
            "align_items": null,
            "bottom": null,
            "_model_module": "@jupyter-widgets/base",
            "top": null,
            "grid_column": null,
            "overflow_y": null,
            "overflow_x": null,
            "grid_auto_flow": null,
            "grid_area": null,
            "grid_template_columns": null,
            "flex": null,
            "_model_name": "LayoutModel",
            "justify_items": null,
            "grid_row": null,
            "max_height": null,
            "align_content": null,
            "visibility": null,
            "align_self": null,
            "height": null,
            "min_height": null,
            "padding": null,
            "grid_auto_rows": null,
            "grid_gap": null,
            "max_width": null,
            "order": null,
            "_view_module_version": "1.2.0",
            "grid_template_areas": null,
            "object_position": null,
            "object_fit": null,
            "grid_auto_columns": null,
            "margin": null,
            "display": null,
            "left": null
          }
        },
        "b70b55641e41491fb67fb05f407f0326": {
          "model_module": "@jupyter-widgets/controls",
          "model_name": "DescriptionStyleModel",
          "state": {
            "_view_name": "StyleView",
            "_model_name": "DescriptionStyleModel",
            "description_width": "",
            "_view_module": "@jupyter-widgets/base",
            "_model_module_version": "1.5.0",
            "_view_count": null,
            "_view_module_version": "1.2.0",
            "_model_module": "@jupyter-widgets/controls"
          }
        },
        "9c5c94c2991b46e184d8a0a70fb7728f": {
          "model_module": "@jupyter-widgets/base",
          "model_name": "LayoutModel",
          "state": {
            "_view_name": "LayoutView",
            "grid_template_rows": null,
            "right": null,
            "justify_content": null,
            "_view_module": "@jupyter-widgets/base",
            "overflow": null,
            "_model_module_version": "1.2.0",
            "_view_count": null,
            "flex_flow": null,
            "width": null,
            "min_width": null,
            "border": null,
            "align_items": null,
            "bottom": null,
            "_model_module": "@jupyter-widgets/base",
            "top": null,
            "grid_column": null,
            "overflow_y": null,
            "overflow_x": null,
            "grid_auto_flow": null,
            "grid_area": null,
            "grid_template_columns": null,
            "flex": null,
            "_model_name": "LayoutModel",
            "justify_items": null,
            "grid_row": null,
            "max_height": null,
            "align_content": null,
            "visibility": null,
            "align_self": null,
            "height": null,
            "min_height": null,
            "padding": null,
            "grid_auto_rows": null,
            "grid_gap": null,
            "max_width": null,
            "order": null,
            "_view_module_version": "1.2.0",
            "grid_template_areas": null,
            "object_position": null,
            "object_fit": null,
            "grid_auto_columns": null,
            "margin": null,
            "display": null,
            "left": null
          }
        },
        "3dc81b2f1f584752974fbf0d20039864": {
          "model_module": "@jupyter-widgets/controls",
          "model_name": "HBoxModel",
          "state": {
            "_view_name": "HBoxView",
            "_dom_classes": [],
            "_model_name": "HBoxModel",
            "_view_module": "@jupyter-widgets/controls",
            "_model_module_version": "1.5.0",
            "_view_count": null,
            "_view_module_version": "1.5.0",
            "box_style": "",
            "layout": "IPY_MODEL_5719470cc6fb4b1b818c91b4d9e0c027",
            "_model_module": "@jupyter-widgets/controls",
            "children": [
              "IPY_MODEL_6e9f202e5ab6401f97954659ae7c28f0",
              "IPY_MODEL_41f6d09335d84d0d86a2d6f3a9df3e79",
              "IPY_MODEL_736accf6967d49deaf7dc22b1f20d21d"
            ]
          }
        },
        "5719470cc6fb4b1b818c91b4d9e0c027": {
          "model_module": "@jupyter-widgets/base",
          "model_name": "LayoutModel",
          "state": {
            "_view_name": "LayoutView",
            "grid_template_rows": null,
            "right": null,
            "justify_content": null,
            "_view_module": "@jupyter-widgets/base",
            "overflow": null,
            "_model_module_version": "1.2.0",
            "_view_count": null,
            "flex_flow": null,
            "width": null,
            "min_width": null,
            "border": null,
            "align_items": null,
            "bottom": null,
            "_model_module": "@jupyter-widgets/base",
            "top": null,
            "grid_column": null,
            "overflow_y": null,
            "overflow_x": null,
            "grid_auto_flow": null,
            "grid_area": null,
            "grid_template_columns": null,
            "flex": null,
            "_model_name": "LayoutModel",
            "justify_items": null,
            "grid_row": null,
            "max_height": null,
            "align_content": null,
            "visibility": null,
            "align_self": null,
            "height": null,
            "min_height": null,
            "padding": null,
            "grid_auto_rows": null,
            "grid_gap": null,
            "max_width": null,
            "order": null,
            "_view_module_version": "1.2.0",
            "grid_template_areas": null,
            "object_position": null,
            "object_fit": null,
            "grid_auto_columns": null,
            "margin": null,
            "display": null,
            "left": null
          }
        },
        "6e9f202e5ab6401f97954659ae7c28f0": {
          "model_module": "@jupyter-widgets/controls",
          "model_name": "HTMLModel",
          "state": {
            "_view_name": "HTMLView",
            "style": "IPY_MODEL_8ec4b1b56eb64900af28c0b555d14ad6",
            "_dom_classes": [],
            "description": "",
            "_model_name": "HTMLModel",
            "placeholder": "​",
            "_view_module": "@jupyter-widgets/controls",
            "_model_module_version": "1.5.0",
            "value": "100%",
            "_view_count": null,
            "_view_module_version": "1.5.0",
            "description_tooltip": null,
            "_model_module": "@jupyter-widgets/controls",
            "layout": "IPY_MODEL_27d4f83bb9da4c1db35ef4c99fc33982"
          }
        },
        "41f6d09335d84d0d86a2d6f3a9df3e79": {
          "model_module": "@jupyter-widgets/controls",
          "model_name": "FloatProgressModel",
          "state": {
            "_view_name": "ProgressView",
            "style": "IPY_MODEL_d1a912a5162e4218b189c5de03ae77a3",
            "_dom_classes": [],
            "description": "",
            "_model_name": "FloatProgressModel",
            "bar_style": "success",
            "max": 11950,
            "_view_module": "@jupyter-widgets/controls",
            "_model_module_version": "1.5.0",
            "value": 11950,
            "_view_count": null,
            "_view_module_version": "1.5.0",
            "orientation": "horizontal",
            "min": 0,
            "description_tooltip": null,
            "_model_module": "@jupyter-widgets/controls",
            "layout": "IPY_MODEL_218eeea99a1c40c4b171b2a2989d5faf"
          }
        },
        "736accf6967d49deaf7dc22b1f20d21d": {
          "model_module": "@jupyter-widgets/controls",
          "model_name": "HTMLModel",
          "state": {
            "_view_name": "HTMLView",
            "style": "IPY_MODEL_8327f9d930a045e5817434f085cf1e6e",
            "_dom_classes": [],
            "description": "",
            "_model_name": "HTMLModel",
            "placeholder": "​",
            "_view_module": "@jupyter-widgets/controls",
            "_model_module_version": "1.5.0",
            "value": " 11950/11950 [00:50&lt;00:00, 238.62it/s]",
            "_view_count": null,
            "_view_module_version": "1.5.0",
            "description_tooltip": null,
            "_model_module": "@jupyter-widgets/controls",
            "layout": "IPY_MODEL_de2bb3f466994c96be5a72cf5046f28f"
          }
        },
        "8ec4b1b56eb64900af28c0b555d14ad6": {
          "model_module": "@jupyter-widgets/controls",
          "model_name": "DescriptionStyleModel",
          "state": {
            "_view_name": "StyleView",
            "_model_name": "DescriptionStyleModel",
            "description_width": "",
            "_view_module": "@jupyter-widgets/base",
            "_model_module_version": "1.5.0",
            "_view_count": null,
            "_view_module_version": "1.2.0",
            "_model_module": "@jupyter-widgets/controls"
          }
        },
        "27d4f83bb9da4c1db35ef4c99fc33982": {
          "model_module": "@jupyter-widgets/base",
          "model_name": "LayoutModel",
          "state": {
            "_view_name": "LayoutView",
            "grid_template_rows": null,
            "right": null,
            "justify_content": null,
            "_view_module": "@jupyter-widgets/base",
            "overflow": null,
            "_model_module_version": "1.2.0",
            "_view_count": null,
            "flex_flow": null,
            "width": null,
            "min_width": null,
            "border": null,
            "align_items": null,
            "bottom": null,
            "_model_module": "@jupyter-widgets/base",
            "top": null,
            "grid_column": null,
            "overflow_y": null,
            "overflow_x": null,
            "grid_auto_flow": null,
            "grid_area": null,
            "grid_template_columns": null,
            "flex": null,
            "_model_name": "LayoutModel",
            "justify_items": null,
            "grid_row": null,
            "max_height": null,
            "align_content": null,
            "visibility": null,
            "align_self": null,
            "height": null,
            "min_height": null,
            "padding": null,
            "grid_auto_rows": null,
            "grid_gap": null,
            "max_width": null,
            "order": null,
            "_view_module_version": "1.2.0",
            "grid_template_areas": null,
            "object_position": null,
            "object_fit": null,
            "grid_auto_columns": null,
            "margin": null,
            "display": null,
            "left": null
          }
        },
        "d1a912a5162e4218b189c5de03ae77a3": {
          "model_module": "@jupyter-widgets/controls",
          "model_name": "ProgressStyleModel",
          "state": {
            "_view_name": "StyleView",
            "_model_name": "ProgressStyleModel",
            "description_width": "",
            "_view_module": "@jupyter-widgets/base",
            "_model_module_version": "1.5.0",
            "_view_count": null,
            "_view_module_version": "1.2.0",
            "bar_color": null,
            "_model_module": "@jupyter-widgets/controls"
          }
        },
        "218eeea99a1c40c4b171b2a2989d5faf": {
          "model_module": "@jupyter-widgets/base",
          "model_name": "LayoutModel",
          "state": {
            "_view_name": "LayoutView",
            "grid_template_rows": null,
            "right": null,
            "justify_content": null,
            "_view_module": "@jupyter-widgets/base",
            "overflow": null,
            "_model_module_version": "1.2.0",
            "_view_count": null,
            "flex_flow": null,
            "width": null,
            "min_width": null,
            "border": null,
            "align_items": null,
            "bottom": null,
            "_model_module": "@jupyter-widgets/base",
            "top": null,
            "grid_column": null,
            "overflow_y": null,
            "overflow_x": null,
            "grid_auto_flow": null,
            "grid_area": null,
            "grid_template_columns": null,
            "flex": null,
            "_model_name": "LayoutModel",
            "justify_items": null,
            "grid_row": null,
            "max_height": null,
            "align_content": null,
            "visibility": null,
            "align_self": null,
            "height": null,
            "min_height": null,
            "padding": null,
            "grid_auto_rows": null,
            "grid_gap": null,
            "max_width": null,
            "order": null,
            "_view_module_version": "1.2.0",
            "grid_template_areas": null,
            "object_position": null,
            "object_fit": null,
            "grid_auto_columns": null,
            "margin": null,
            "display": null,
            "left": null
          }
        },
        "8327f9d930a045e5817434f085cf1e6e": {
          "model_module": "@jupyter-widgets/controls",
          "model_name": "DescriptionStyleModel",
          "state": {
            "_view_name": "StyleView",
            "_model_name": "DescriptionStyleModel",
            "description_width": "",
            "_view_module": "@jupyter-widgets/base",
            "_model_module_version": "1.5.0",
            "_view_count": null,
            "_view_module_version": "1.2.0",
            "_model_module": "@jupyter-widgets/controls"
          }
        },
        "de2bb3f466994c96be5a72cf5046f28f": {
          "model_module": "@jupyter-widgets/base",
          "model_name": "LayoutModel",
          "state": {
            "_view_name": "LayoutView",
            "grid_template_rows": null,
            "right": null,
            "justify_content": null,
            "_view_module": "@jupyter-widgets/base",
            "overflow": null,
            "_model_module_version": "1.2.0",
            "_view_count": null,
            "flex_flow": null,
            "width": null,
            "min_width": null,
            "border": null,
            "align_items": null,
            "bottom": null,
            "_model_module": "@jupyter-widgets/base",
            "top": null,
            "grid_column": null,
            "overflow_y": null,
            "overflow_x": null,
            "grid_auto_flow": null,
            "grid_area": null,
            "grid_template_columns": null,
            "flex": null,
            "_model_name": "LayoutModel",
            "justify_items": null,
            "grid_row": null,
            "max_height": null,
            "align_content": null,
            "visibility": null,
            "align_self": null,
            "height": null,
            "min_height": null,
            "padding": null,
            "grid_auto_rows": null,
            "grid_gap": null,
            "max_width": null,
            "order": null,
            "_view_module_version": "1.2.0",
            "grid_template_areas": null,
            "object_position": null,
            "object_fit": null,
            "grid_auto_columns": null,
            "margin": null,
            "display": null,
            "left": null
          }
        },
        "799727c6df364e7ca348617fa15d2f03": {
          "model_module": "@jupyter-widgets/controls",
          "model_name": "HBoxModel",
          "state": {
            "_view_name": "HBoxView",
            "_dom_classes": [],
            "_model_name": "HBoxModel",
            "_view_module": "@jupyter-widgets/controls",
            "_model_module_version": "1.5.0",
            "_view_count": null,
            "_view_module_version": "1.5.0",
            "box_style": "",
            "layout": "IPY_MODEL_2405fefa48804c45923d4436e449f113",
            "_model_module": "@jupyter-widgets/controls",
            "children": [
              "IPY_MODEL_d3c3fcb3cac445daa584c479d3bb86ec",
              "IPY_MODEL_12ba4a91eb574057a2f894048b410650",
              "IPY_MODEL_19a2080585c24c6891b957d72045d75b"
            ]
          }
        },
        "2405fefa48804c45923d4436e449f113": {
          "model_module": "@jupyter-widgets/base",
          "model_name": "LayoutModel",
          "state": {
            "_view_name": "LayoutView",
            "grid_template_rows": null,
            "right": null,
            "justify_content": null,
            "_view_module": "@jupyter-widgets/base",
            "overflow": null,
            "_model_module_version": "1.2.0",
            "_view_count": null,
            "flex_flow": null,
            "width": null,
            "min_width": null,
            "border": null,
            "align_items": null,
            "bottom": null,
            "_model_module": "@jupyter-widgets/base",
            "top": null,
            "grid_column": null,
            "overflow_y": null,
            "overflow_x": null,
            "grid_auto_flow": null,
            "grid_area": null,
            "grid_template_columns": null,
            "flex": null,
            "_model_name": "LayoutModel",
            "justify_items": null,
            "grid_row": null,
            "max_height": null,
            "align_content": null,
            "visibility": null,
            "align_self": null,
            "height": null,
            "min_height": null,
            "padding": null,
            "grid_auto_rows": null,
            "grid_gap": null,
            "max_width": null,
            "order": null,
            "_view_module_version": "1.2.0",
            "grid_template_areas": null,
            "object_position": null,
            "object_fit": null,
            "grid_auto_columns": null,
            "margin": null,
            "display": null,
            "left": null
          }
        },
        "d3c3fcb3cac445daa584c479d3bb86ec": {
          "model_module": "@jupyter-widgets/controls",
          "model_name": "HTMLModel",
          "state": {
            "_view_name": "HTMLView",
            "style": "IPY_MODEL_b787281da8f4458bb451f22fb80ecd8d",
            "_dom_classes": [],
            "description": "",
            "_model_name": "HTMLModel",
            "placeholder": "​",
            "_view_module": "@jupyter-widgets/controls",
            "_model_module_version": "1.5.0",
            "value": "Epoch 1 of 1:   0%",
            "_view_count": null,
            "_view_module_version": "1.5.0",
            "description_tooltip": null,
            "_model_module": "@jupyter-widgets/controls",
            "layout": "IPY_MODEL_bb301f51262f4155a1e8a0a174ad3318"
          }
        },
        "12ba4a91eb574057a2f894048b410650": {
          "model_module": "@jupyter-widgets/controls",
          "model_name": "FloatProgressModel",
          "state": {
            "_view_name": "ProgressView",
            "style": "IPY_MODEL_53030a861af74b2e8ce97a657b7d601d",
            "_dom_classes": [],
            "description": "",
            "_model_name": "FloatProgressModel",
            "bar_style": "",
            "max": 1,
            "_view_module": "@jupyter-widgets/controls",
            "_model_module_version": "1.5.0",
            "value": 0,
            "_view_count": null,
            "_view_module_version": "1.5.0",
            "orientation": "horizontal",
            "min": 0,
            "description_tooltip": null,
            "_model_module": "@jupyter-widgets/controls",
            "layout": "IPY_MODEL_c0834edea61a45d3aedfde2e01d2e9e7"
          }
        },
        "19a2080585c24c6891b957d72045d75b": {
          "model_module": "@jupyter-widgets/controls",
          "model_name": "HTMLModel",
          "state": {
            "_view_name": "HTMLView",
            "style": "IPY_MODEL_6d7f6eb9222c4440977c78b95bb49562",
            "_dom_classes": [],
            "description": "",
            "_model_name": "HTMLModel",
            "placeholder": "​",
            "_view_module": "@jupyter-widgets/controls",
            "_model_module_version": "1.5.0",
            "value": " 0/1 [00:00&lt;?, ?it/s]",
            "_view_count": null,
            "_view_module_version": "1.5.0",
            "description_tooltip": null,
            "_model_module": "@jupyter-widgets/controls",
            "layout": "IPY_MODEL_65ab8d000fab47149f61ace7680a286b"
          }
        },
        "b787281da8f4458bb451f22fb80ecd8d": {
          "model_module": "@jupyter-widgets/controls",
          "model_name": "DescriptionStyleModel",
          "state": {
            "_view_name": "StyleView",
            "_model_name": "DescriptionStyleModel",
            "description_width": "",
            "_view_module": "@jupyter-widgets/base",
            "_model_module_version": "1.5.0",
            "_view_count": null,
            "_view_module_version": "1.2.0",
            "_model_module": "@jupyter-widgets/controls"
          }
        },
        "bb301f51262f4155a1e8a0a174ad3318": {
          "model_module": "@jupyter-widgets/base",
          "model_name": "LayoutModel",
          "state": {
            "_view_name": "LayoutView",
            "grid_template_rows": null,
            "right": null,
            "justify_content": null,
            "_view_module": "@jupyter-widgets/base",
            "overflow": null,
            "_model_module_version": "1.2.0",
            "_view_count": null,
            "flex_flow": null,
            "width": null,
            "min_width": null,
            "border": null,
            "align_items": null,
            "bottom": null,
            "_model_module": "@jupyter-widgets/base",
            "top": null,
            "grid_column": null,
            "overflow_y": null,
            "overflow_x": null,
            "grid_auto_flow": null,
            "grid_area": null,
            "grid_template_columns": null,
            "flex": null,
            "_model_name": "LayoutModel",
            "justify_items": null,
            "grid_row": null,
            "max_height": null,
            "align_content": null,
            "visibility": null,
            "align_self": null,
            "height": null,
            "min_height": null,
            "padding": null,
            "grid_auto_rows": null,
            "grid_gap": null,
            "max_width": null,
            "order": null,
            "_view_module_version": "1.2.0",
            "grid_template_areas": null,
            "object_position": null,
            "object_fit": null,
            "grid_auto_columns": null,
            "margin": null,
            "display": null,
            "left": null
          }
        },
        "53030a861af74b2e8ce97a657b7d601d": {
          "model_module": "@jupyter-widgets/controls",
          "model_name": "ProgressStyleModel",
          "state": {
            "_view_name": "StyleView",
            "_model_name": "ProgressStyleModel",
            "description_width": "",
            "_view_module": "@jupyter-widgets/base",
            "_model_module_version": "1.5.0",
            "_view_count": null,
            "_view_module_version": "1.2.0",
            "bar_color": null,
            "_model_module": "@jupyter-widgets/controls"
          }
        },
        "c0834edea61a45d3aedfde2e01d2e9e7": {
          "model_module": "@jupyter-widgets/base",
          "model_name": "LayoutModel",
          "state": {
            "_view_name": "LayoutView",
            "grid_template_rows": null,
            "right": null,
            "justify_content": null,
            "_view_module": "@jupyter-widgets/base",
            "overflow": null,
            "_model_module_version": "1.2.0",
            "_view_count": null,
            "flex_flow": null,
            "width": null,
            "min_width": null,
            "border": null,
            "align_items": null,
            "bottom": null,
            "_model_module": "@jupyter-widgets/base",
            "top": null,
            "grid_column": null,
            "overflow_y": null,
            "overflow_x": null,
            "grid_auto_flow": null,
            "grid_area": null,
            "grid_template_columns": null,
            "flex": null,
            "_model_name": "LayoutModel",
            "justify_items": null,
            "grid_row": null,
            "max_height": null,
            "align_content": null,
            "visibility": null,
            "align_self": null,
            "height": null,
            "min_height": null,
            "padding": null,
            "grid_auto_rows": null,
            "grid_gap": null,
            "max_width": null,
            "order": null,
            "_view_module_version": "1.2.0",
            "grid_template_areas": null,
            "object_position": null,
            "object_fit": null,
            "grid_auto_columns": null,
            "margin": null,
            "display": null,
            "left": null
          }
        },
        "6d7f6eb9222c4440977c78b95bb49562": {
          "model_module": "@jupyter-widgets/controls",
          "model_name": "DescriptionStyleModel",
          "state": {
            "_view_name": "StyleView",
            "_model_name": "DescriptionStyleModel",
            "description_width": "",
            "_view_module": "@jupyter-widgets/base",
            "_model_module_version": "1.5.0",
            "_view_count": null,
            "_view_module_version": "1.2.0",
            "_model_module": "@jupyter-widgets/controls"
          }
        },
        "65ab8d000fab47149f61ace7680a286b": {
          "model_module": "@jupyter-widgets/base",
          "model_name": "LayoutModel",
          "state": {
            "_view_name": "LayoutView",
            "grid_template_rows": null,
            "right": null,
            "justify_content": null,
            "_view_module": "@jupyter-widgets/base",
            "overflow": null,
            "_model_module_version": "1.2.0",
            "_view_count": null,
            "flex_flow": null,
            "width": null,
            "min_width": null,
            "border": null,
            "align_items": null,
            "bottom": null,
            "_model_module": "@jupyter-widgets/base",
            "top": null,
            "grid_column": null,
            "overflow_y": null,
            "overflow_x": null,
            "grid_auto_flow": null,
            "grid_area": null,
            "grid_template_columns": null,
            "flex": null,
            "_model_name": "LayoutModel",
            "justify_items": null,
            "grid_row": null,
            "max_height": null,
            "align_content": null,
            "visibility": null,
            "align_self": null,
            "height": null,
            "min_height": null,
            "padding": null,
            "grid_auto_rows": null,
            "grid_gap": null,
            "max_width": null,
            "order": null,
            "_view_module_version": "1.2.0",
            "grid_template_areas": null,
            "object_position": null,
            "object_fit": null,
            "grid_auto_columns": null,
            "margin": null,
            "display": null,
            "left": null
          }
        },
        "6814aa0a45f140f5a0e38220ae2f7888": {
          "model_module": "@jupyter-widgets/controls",
          "model_name": "HBoxModel",
          "state": {
            "_view_name": "HBoxView",
            "_dom_classes": [],
            "_model_name": "HBoxModel",
            "_view_module": "@jupyter-widgets/controls",
            "_model_module_version": "1.5.0",
            "_view_count": null,
            "_view_module_version": "1.5.0",
            "box_style": "",
            "layout": "IPY_MODEL_5e1d3b0c36964aa38138bad1e4f050dc",
            "_model_module": "@jupyter-widgets/controls",
            "children": [
              "IPY_MODEL_4c6d46a1bba4483c95098371c83fc295",
              "IPY_MODEL_04ef2e61981948ffa9f91da722529ff6",
              "IPY_MODEL_d5051cfceb394cecb8a252ba05a9a536"
            ]
          }
        },
        "5e1d3b0c36964aa38138bad1e4f050dc": {
          "model_module": "@jupyter-widgets/base",
          "model_name": "LayoutModel",
          "state": {
            "_view_name": "LayoutView",
            "grid_template_rows": null,
            "right": null,
            "justify_content": null,
            "_view_module": "@jupyter-widgets/base",
            "overflow": null,
            "_model_module_version": "1.2.0",
            "_view_count": null,
            "flex_flow": null,
            "width": null,
            "min_width": null,
            "border": null,
            "align_items": null,
            "bottom": null,
            "_model_module": "@jupyter-widgets/base",
            "top": null,
            "grid_column": null,
            "overflow_y": null,
            "overflow_x": null,
            "grid_auto_flow": null,
            "grid_area": null,
            "grid_template_columns": null,
            "flex": null,
            "_model_name": "LayoutModel",
            "justify_items": null,
            "grid_row": null,
            "max_height": null,
            "align_content": null,
            "visibility": null,
            "align_self": null,
            "height": null,
            "min_height": null,
            "padding": null,
            "grid_auto_rows": null,
            "grid_gap": null,
            "max_width": null,
            "order": null,
            "_view_module_version": "1.2.0",
            "grid_template_areas": null,
            "object_position": null,
            "object_fit": null,
            "grid_auto_columns": null,
            "margin": null,
            "display": null,
            "left": null
          }
        },
        "4c6d46a1bba4483c95098371c83fc295": {
          "model_module": "@jupyter-widgets/controls",
          "model_name": "HTMLModel",
          "state": {
            "_view_name": "HTMLView",
            "style": "IPY_MODEL_7e02beb102de4611811fe9e90260fb0f",
            "_dom_classes": [],
            "description": "",
            "_model_name": "HTMLModel",
            "placeholder": "​",
            "_view_module": "@jupyter-widgets/controls",
            "_model_module_version": "1.5.0",
            "value": "Epochs 0/1. Running Loss:    0.6532:   4%",
            "_view_count": null,
            "_view_module_version": "1.5.0",
            "description_tooltip": null,
            "_model_module": "@jupyter-widgets/controls",
            "layout": "IPY_MODEL_9099026c347147e09896ee8fd68e00c9"
          }
        },
        "04ef2e61981948ffa9f91da722529ff6": {
          "model_module": "@jupyter-widgets/controls",
          "model_name": "FloatProgressModel",
          "state": {
            "_view_name": "ProgressView",
            "style": "IPY_MODEL_e49dc36e7cd241a1b01b9d4b1a8fa2d8",
            "_dom_classes": [],
            "description": "",
            "_model_name": "FloatProgressModel",
            "bar_style": "",
            "max": 1494,
            "_view_module": "@jupyter-widgets/controls",
            "_model_module_version": "1.5.0",
            "value": 59,
            "_view_count": null,
            "_view_module_version": "1.5.0",
            "orientation": "horizontal",
            "min": 0,
            "description_tooltip": null,
            "_model_module": "@jupyter-widgets/controls",
            "layout": "IPY_MODEL_39cd4367d6bc4f9e86da87fecba12b7b"
          }
        },
        "d5051cfceb394cecb8a252ba05a9a536": {
          "model_module": "@jupyter-widgets/controls",
          "model_name": "HTMLModel",
          "state": {
            "_view_name": "HTMLView",
            "style": "IPY_MODEL_8d184837e0964bcba832054f32d2d2f4",
            "_dom_classes": [],
            "description": "",
            "_model_name": "HTMLModel",
            "placeholder": "​",
            "_view_module": "@jupyter-widgets/controls",
            "_model_module_version": "1.5.0",
            "value": " 59/1494 [09:02&lt;3:33:41,  8.93s/it]",
            "_view_count": null,
            "_view_module_version": "1.5.0",
            "description_tooltip": null,
            "_model_module": "@jupyter-widgets/controls",
            "layout": "IPY_MODEL_607a970844ad475997162758c7304310"
          }
        },
        "7e02beb102de4611811fe9e90260fb0f": {
          "model_module": "@jupyter-widgets/controls",
          "model_name": "DescriptionStyleModel",
          "state": {
            "_view_name": "StyleView",
            "_model_name": "DescriptionStyleModel",
            "description_width": "",
            "_view_module": "@jupyter-widgets/base",
            "_model_module_version": "1.5.0",
            "_view_count": null,
            "_view_module_version": "1.2.0",
            "_model_module": "@jupyter-widgets/controls"
          }
        },
        "9099026c347147e09896ee8fd68e00c9": {
          "model_module": "@jupyter-widgets/base",
          "model_name": "LayoutModel",
          "state": {
            "_view_name": "LayoutView",
            "grid_template_rows": null,
            "right": null,
            "justify_content": null,
            "_view_module": "@jupyter-widgets/base",
            "overflow": null,
            "_model_module_version": "1.2.0",
            "_view_count": null,
            "flex_flow": null,
            "width": null,
            "min_width": null,
            "border": null,
            "align_items": null,
            "bottom": null,
            "_model_module": "@jupyter-widgets/base",
            "top": null,
            "grid_column": null,
            "overflow_y": null,
            "overflow_x": null,
            "grid_auto_flow": null,
            "grid_area": null,
            "grid_template_columns": null,
            "flex": null,
            "_model_name": "LayoutModel",
            "justify_items": null,
            "grid_row": null,
            "max_height": null,
            "align_content": null,
            "visibility": null,
            "align_self": null,
            "height": null,
            "min_height": null,
            "padding": null,
            "grid_auto_rows": null,
            "grid_gap": null,
            "max_width": null,
            "order": null,
            "_view_module_version": "1.2.0",
            "grid_template_areas": null,
            "object_position": null,
            "object_fit": null,
            "grid_auto_columns": null,
            "margin": null,
            "display": null,
            "left": null
          }
        },
        "e49dc36e7cd241a1b01b9d4b1a8fa2d8": {
          "model_module": "@jupyter-widgets/controls",
          "model_name": "ProgressStyleModel",
          "state": {
            "_view_name": "StyleView",
            "_model_name": "ProgressStyleModel",
            "description_width": "",
            "_view_module": "@jupyter-widgets/base",
            "_model_module_version": "1.5.0",
            "_view_count": null,
            "_view_module_version": "1.2.0",
            "bar_color": null,
            "_model_module": "@jupyter-widgets/controls"
          }
        },
        "39cd4367d6bc4f9e86da87fecba12b7b": {
          "model_module": "@jupyter-widgets/base",
          "model_name": "LayoutModel",
          "state": {
            "_view_name": "LayoutView",
            "grid_template_rows": null,
            "right": null,
            "justify_content": null,
            "_view_module": "@jupyter-widgets/base",
            "overflow": null,
            "_model_module_version": "1.2.0",
            "_view_count": null,
            "flex_flow": null,
            "width": null,
            "min_width": null,
            "border": null,
            "align_items": null,
            "bottom": null,
            "_model_module": "@jupyter-widgets/base",
            "top": null,
            "grid_column": null,
            "overflow_y": null,
            "overflow_x": null,
            "grid_auto_flow": null,
            "grid_area": null,
            "grid_template_columns": null,
            "flex": null,
            "_model_name": "LayoutModel",
            "justify_items": null,
            "grid_row": null,
            "max_height": null,
            "align_content": null,
            "visibility": null,
            "align_self": null,
            "height": null,
            "min_height": null,
            "padding": null,
            "grid_auto_rows": null,
            "grid_gap": null,
            "max_width": null,
            "order": null,
            "_view_module_version": "1.2.0",
            "grid_template_areas": null,
            "object_position": null,
            "object_fit": null,
            "grid_auto_columns": null,
            "margin": null,
            "display": null,
            "left": null
          }
        },
        "8d184837e0964bcba832054f32d2d2f4": {
          "model_module": "@jupyter-widgets/controls",
          "model_name": "DescriptionStyleModel",
          "state": {
            "_view_name": "StyleView",
            "_model_name": "DescriptionStyleModel",
            "description_width": "",
            "_view_module": "@jupyter-widgets/base",
            "_model_module_version": "1.5.0",
            "_view_count": null,
            "_view_module_version": "1.2.0",
            "_model_module": "@jupyter-widgets/controls"
          }
        },
        "607a970844ad475997162758c7304310": {
          "model_module": "@jupyter-widgets/base",
          "model_name": "LayoutModel",
          "state": {
            "_view_name": "LayoutView",
            "grid_template_rows": null,
            "right": null,
            "justify_content": null,
            "_view_module": "@jupyter-widgets/base",
            "overflow": null,
            "_model_module_version": "1.2.0",
            "_view_count": null,
            "flex_flow": null,
            "width": null,
            "min_width": null,
            "border": null,
            "align_items": null,
            "bottom": null,
            "_model_module": "@jupyter-widgets/base",
            "top": null,
            "grid_column": null,
            "overflow_y": null,
            "overflow_x": null,
            "grid_auto_flow": null,
            "grid_area": null,
            "grid_template_columns": null,
            "flex": null,
            "_model_name": "LayoutModel",
            "justify_items": null,
            "grid_row": null,
            "max_height": null,
            "align_content": null,
            "visibility": null,
            "align_self": null,
            "height": null,
            "min_height": null,
            "padding": null,
            "grid_auto_rows": null,
            "grid_gap": null,
            "max_width": null,
            "order": null,
            "_view_module_version": "1.2.0",
            "grid_template_areas": null,
            "object_position": null,
            "object_fit": null,
            "grid_auto_columns": null,
            "margin": null,
            "display": null,
            "left": null
          }
        }
      }
    }
  },
  "cells": [
    {
      "cell_type": "markdown",
      "metadata": {
        "id": "view-in-github",
        "colab_type": "text"
      },
      "source": [
        "<a href=\"https://colab.research.google.com/github/AI-Front/NTI/blob/main/QA_baseline_format_live_stuff.ipynb\" target=\"_parent\"><img src=\"https://colab.research.google.com/assets/colab-badge.svg\" alt=\"Open In Colab\"/></a>"
      ]
    },
    {
      "cell_type": "markdown",
      "metadata": {
        "id": "6jXdtgIIzwP3"
      },
      "source": [
        "## Базовое решение \n",
        "\n",
        "Профиль \"Искусственный интеллект\" 2020\n",
        "\n",
        "Олимпиады Кружкового движения НТИ и Академии искусственного интеллекта для школьников"
      ]
    },
    {
      "cell_type": "markdown",
      "metadata": {
        "id": "yJei3FCGG-r0"
      },
      "source": [
        "### Загрузим данные\n",
        "\n",
        "Тренировочные и валидационные данные, а также этот ноутбук лежат в [репозитории](https://github.com/AI-Front/NTI) "
      ]
    },
    {
      "cell_type": "code",
      "metadata": {
        "colab": {
          "base_uri": "https://localhost:8080/"
        },
        "id": "da7yi7A-zfGN",
        "outputId": "f613a923-8549-4d11-ecf9-6e385c0475dc"
      },
      "source": [
        "!wget https://raw.githubusercontent.com/AI-Front/NTI/main/semifinals/data/train.jsonl"
      ],
      "execution_count": 1,
      "outputs": [
        {
          "output_type": "stream",
          "text": [
            "--2020-12-17 13:09:28--  https://raw.githubusercontent.com/AI-Front/NTI/main/semifinals/data/train.jsonl\n",
            "Resolving raw.githubusercontent.com (raw.githubusercontent.com)... 151.101.0.133, 151.101.64.133, 151.101.128.133, ...\n",
            "Connecting to raw.githubusercontent.com (raw.githubusercontent.com)|151.101.0.133|:443... connected.\n",
            "HTTP request sent, awaiting response... 200 OK\n",
            "Length: 2930172 (2.8M) [text/plain]\n",
            "Saving to: ‘train.jsonl’\n",
            "\n",
            "train.jsonl         100%[===================>]   2.79M  --.-KB/s    in 0.1s    \n",
            "\n",
            "2020-12-17 13:09:28 (22.5 MB/s) - ‘train.jsonl’ saved [2930172/2930172]\n",
            "\n"
          ],
          "name": "stdout"
        }
      ]
    },
    {
      "cell_type": "code",
      "metadata": {
        "colab": {
          "base_uri": "https://localhost:8080/"
        },
        "id": "7VTqI_h6zmaV",
        "outputId": "b68a3d30-06c0-4337-dee8-602c9747bee3"
      },
      "source": [
        "!wget  https://raw.githubusercontent.com/AI-Front/NTI/main/semifinals/data/val.jsonl"
      ],
      "execution_count": 2,
      "outputs": [
        {
          "output_type": "stream",
          "text": [
            "--2020-12-17 13:09:28--  https://raw.githubusercontent.com/AI-Front/NTI/main/semifinals/data/val.jsonl\n",
            "Resolving raw.githubusercontent.com (raw.githubusercontent.com)... 151.101.0.133, 151.101.64.133, 151.101.128.133, ...\n",
            "Connecting to raw.githubusercontent.com (raw.githubusercontent.com)|151.101.0.133|:443... connected.\n",
            "HTTP request sent, awaiting response... 200 OK\n",
            "Length: 566932 (554K) [text/plain]\n",
            "Saving to: ‘val.jsonl’\n",
            "\n",
            "val.jsonl           100%[===================>] 553.64K  --.-KB/s    in 0.04s   \n",
            "\n",
            "2020-12-17 13:09:29 (13.0 MB/s) - ‘val.jsonl’ saved [566932/566932]\n",
            "\n"
          ],
          "name": "stdout"
        }
      ]
    },
    {
      "cell_type": "code",
      "metadata": {
        "colab": {
          "base_uri": "https://localhost:8080/"
        },
        "id": "Ml_b-fyEaGbc",
        "outputId": "0ec1554b-8428-479e-e671-9d2d608976be"
      },
      "source": [
        "!wget  https://raw.githubusercontent.com/AI-Front/NTI/main/semifinals/data/test.jsonl"
      ],
      "execution_count": 3,
      "outputs": [
        {
          "output_type": "stream",
          "text": [
            "--2020-12-17 13:09:29--  https://raw.githubusercontent.com/AI-Front/NTI/main/semifinals/data/test.jsonl\n",
            "Resolving raw.githubusercontent.com (raw.githubusercontent.com)... 151.101.0.133, 151.101.64.133, 151.101.128.133, ...\n",
            "Connecting to raw.githubusercontent.com (raw.githubusercontent.com)|151.101.0.133|:443... connected.\n",
            "HTTP request sent, awaiting response... 200 OK\n",
            "Length: 1739290 (1.7M) [text/plain]\n",
            "Saving to: ‘test.jsonl’\n",
            "\n",
            "test.jsonl          100%[===================>]   1.66M  --.-KB/s    in 0.08s   \n",
            "\n",
            "2020-12-17 13:09:29 (20.3 MB/s) - ‘test.jsonl’ saved [1739290/1739290]\n",
            "\n"
          ],
          "name": "stdout"
        }
      ]
    },
    {
      "cell_type": "markdown",
      "metadata": {
        "id": "1HgdymKRHN1V"
      },
      "source": [
        "## Формат данных\n",
        "\n",
        "Мы имеем дело с jsonl - JSON Lines format"
      ]
    },
    {
      "cell_type": "markdown",
      "metadata": {
        "id": "sNV0XA6Z0C-E"
      },
      "source": [
        "\n",
        "\n",
        "```\n",
        "{\"idx\": 0, \"passage\": {\"text\": \"(1) Самый первый «остров» Архипелага возник в 1923 году на месте Соловецкого монастыря. (2) Затем появились ТОНы — тюрьмы особого назначения и этапы. (3) Люди попадали на Архипелаг разными способами: в вагон-заках, на баржах, пароходах и пешими этапами. (4) В тюрьмы арестованных доставляли в «воронках» — фургончиках чёрного цвета. (5) Роль портов Архипелага играли пересылки, временные лагеря, состоящие из палаток, землянок, бараков или участков земли под открытым небом. (6) На всех пересылках держать «политических» в узде помогали специально отобранные урки, или «социально близкие». (7) Солженицын побывал на пересылке Красная Пресня в 1945 году. (8) Эмигранты, крестьяне и «малые народы» перевозили красными эшелонами. (9) Чаще всего такие эшелоны останав­ливались на пустом месте, посреди степи или тайги, и осуждённые сами строили лагерь. (10) Особо важные заключённые, в основном учёные, перевозились спецконвоем. (11) Так перевозили и Солженицына. (12) Он назвался ядерным физиком, и после Красной Пресни его перевезли в Бутырки.\",\n",
        " \"questions\":\n",
        "  [{\"question\": \"Почему Солженицына перевозили спецконвоем?\", \n",
        "  \"answers\":\n",
        "      [{\"idx\": 0, \n",
        "      \"text\": \"Так перевозили особо важных заключенных.\", \n",
        "      \"label\": 1}, \n",
        "      {\"idx\": 1, \n",
        "      \"text\": \"Потому, что был эмигрантом.\", \n",
        "      \"label\": 0}, \n",
        "      {\"idx\": 2, \n",
        "      \"text\": \"Потому, что он сам вырыл себе землянку.\", \n",
        "      \"label\": 0}, \n",
        "      {\"idx\": 3, \n",
        "      \"text\": \"Потому, что он побывал на пересылке Красная Пресня в 1945 году.\", \n",
        "      \"label\": 0}, \n",
        "      {\"idx\": 4, \n",
        "      \"text\": \"Потому, что он был особо важным заключённым и назвался ядерным физиком.\", \n",
        "      \"label\": 1}], \n",
        "    \"idx\": 0}, \n",
        "  {\"question\": \"Как люди попадали в тюрьмы особого типа на Соловках?\", \n",
        "  \"answers\": \n",
        "      [{\"idx\": 5, \n",
        "      \"text\": \"Люди попадали на архипелаг с помощью дрезин и вертолётов.\", \n",
        "      \"label\": 0}, \n",
        "      {\"idx\": 6, \n",
        "      \"text\": \"Люди попадали на Архипелаг разными способами: в вагон-заках, на баржах, пароходах, пешими этапами, а также спецконвоем.\", \n",
        "      \"label\": 1}, \n",
        "      {\"idx\": 7, \n",
        "      \"text\": \"Люди попадали на архипелаг с помощью специально отобранных пони.\", \n",
        "      \"label\": 0}, \n",
        "      {\"idx\": 8, \n",
        "      \"text\": \"Люди попадали на Соловки с помощью вертолётов и дрезин.\", \n",
        "      \"label\": 0}, \n",
        "      {\"idx\": 9, \n",
        "      \"text\": \"Люди попадали на Соловки с помощью вагон-заков, барж, пароходов, спецконвоев или пешком.\", \n",
        "      \"label\": 1}], \n",
        "      \"idx\": 1}]}}\n",
        "\n",
        "```\n",
        "\n",
        "\n"
      ]
    },
    {
      "cell_type": "markdown",
      "metadata": {
        "id": "7P5sgH-MbR_a"
      },
      "source": [
        "## Как записывать jsonlines ?\n"
      ]
    },
    {
      "cell_type": "code",
      "metadata": {
        "colab": {
          "base_uri": "https://localhost:8080/"
        },
        "id": "paOCJPHlhx90",
        "outputId": "ea788969-d2a1-4bac-e43b-0131b332c515"
      },
      "source": [
        "!pip install jsonlines"
      ],
      "execution_count": 4,
      "outputs": [
        {
          "output_type": "stream",
          "text": [
            "Collecting jsonlines\n",
            "  Downloading https://files.pythonhosted.org/packages/4f/9a/ab96291470e305504aa4b7a2e0ec132e930da89eb3ca7a82fbe03167c131/jsonlines-1.2.0-py2.py3-none-any.whl\n",
            "Requirement already satisfied: six in /usr/local/lib/python3.6/dist-packages (from jsonlines) (1.15.0)\n",
            "Installing collected packages: jsonlines\n",
            "Successfully installed jsonlines-1.2.0\n"
          ],
          "name": "stdout"
        }
      ]
    },
    {
      "cell_type": "code",
      "metadata": {
        "id": "66y-DMrpbReh"
      },
      "source": [
        "import jsonlines\n",
        "\n",
        "items = [] \n",
        "\n",
        "#дальше в этот список записываете словарики с ответами\n",
        "\n",
        "\n",
        "with jsonlines.open('output.jsonl', 'w') as writer:\n",
        "    writer.write_all(items)"
      ],
      "execution_count": null,
      "outputs": []
    },
    {
      "cell_type": "markdown",
      "metadata": {
        "id": "xNoIfko4dTei"
      },
      "source": [
        "## Как сделать и скачать файл сабмита?"
      ]
    },
    {
      "cell_type": "code",
      "metadata": {
        "id": "2iZWmU8WdSy2"
      },
      "source": [
        "# берем тестовый файл\n",
        "import json\n",
        "\n",
        "with open('test.jsonl', 'r') as json_file:\n",
        "        json_list = list(json_file)"
      ],
      "execution_count": 5,
      "outputs": []
    },
    {
      "cell_type": "code",
      "metadata": {
        "colab": {
          "base_uri": "https://localhost:8080/",
          "height": 103
        },
        "id": "ez8x2dXYeIZB",
        "outputId": "0cf11875-2e86-4838-d261-7560072471b7"
      },
      "source": [
        "json_list[0]"
      ],
      "execution_count": 6,
      "outputs": [
        {
          "output_type": "execute_result",
          "data": {
            "application/vnd.google.colaboratory.intrinsic+json": {
              "type": "string"
            },
            "text/plain": [
              "'{\"idx\": 0, \"passage\": {\"text\": \"\\\\\"(1) Издательство Viking Press совместно с компанией TradeMobile выпустят мобильное приложение, посвященное Анне Франк, передает The Daily Telegraph. (2) Программа будет включать в себя фрагменты из дневника Анны, озвученные британской актрисой Хеленой Бонэм Картер. (3) Помимо этого, в приложение войдут фотографии и видеозаписи, документы из архива Фонда Анны Франк, план здания в Амстердаме, где Анна с семьей скрывались от нацистов, и факсимильные копии страниц дневника. (4) Приложение, которое получит название Anne Frank App, выйдет 18 октября. (5) Интерфейс программы будет англоязычным. (6) На каких платформах будет доступно Anne Frank App, не уточняется. Анна Франк родилась в Германии в 1929 году. (7) Когда в стране начались гонения на евреев, Анна с семьей перебрались в Нидерланды. (8) С 1942 года члены семьи Франк и еще несколько человек скрывались от нацистов в потайных комнатах дома в Амстердаме, который занимала компания отца Анны. (9) В 1944 году группу по доносу обнаружили гестаповцы. (10) Обитатели \\\\\"Убежища\\\\\" (так Анна называла дом в дневнике) были отправлены в концлагеря; выжить удалось только отцу девочки Отто Франку. (11) Находясь в \\\\\"Убежище\\\\\", Анна вела дневник, в котором описывала свою жизнь и жизнь своих близких. (12) После ареста книгу с записями сохранила подруга семьи Франк и впоследствии передала ее отцу Анны. (13) Дневник был впервые опубликован в 1947 году. (14) Сейчас он переведен более чем на 60 языков.\\\\\"\", \"questions\": [{\"question\": \"О чем дневник Анны Франк?\", \"answers\": [{\"idx\": 0, \"text\": \"Дневник об отметках Анны.\"}, {\"idx\": 1, \"text\": \"Дневник о школьных годах девочки Анны.\"}, {\"idx\": 2, \"text\": \"О жизни еврейской девочки во время гонения евреев нацистами.\"}, {\"idx\": 3, \"text\": \"Анна описывала свою жизнь и жизнь близких, когда скрывалась от нацистов.\"}], \"idx\": 0}, {\"question\": \"Каким будет приложение Anne Frank App?\", \"answers\": [{\"idx\": 4, \"text\": \"Приложение будет платным.\"}, {\"idx\": 5, \"text\": \"Приложение будет англоязычным.\"}, {\"idx\": 6, \"text\": \"Приложение будет на еврейском языке.\"}, {\"idx\": 7, \"text\": \"Приложение будет посвящено Анне Франк и основано на записях в её дневнике.\"}], \"idx\": 1}, {\"question\": \"Какая информация войдет в новой мобильное приложение?\", \"answers\": [{\"idx\": 8, \"text\": \"Карта Нидерландов.\"}, {\"idx\": 9, \"text\": \"Программа будет включать в себя фрагменты из дневника Анны, озвученные британской актрисой Хеленой Бонэм Картер.\"}, {\"idx\": 10, \"text\": \"Видеозаписи Анны Франк.\"}, {\"idx\": 11, \"text\": \"В приложение войдут фотографии и видеозаписи, документы из архива Фонда Анны Франк, план здания в Амстердаме, где Анна с семьей скрывались от нацистов, и факсимильные копии страниц дневника.\"}], \"idx\": 2}, {\"question\": \"Где скрывались члены семьи Франк и другие евреи?\", \"answers\": [{\"idx\": 12, \"text\": \"В концлагере.\"}, {\"idx\": 13, \"text\": \"В Германии.\"}, {\"idx\": 14, \"text\": \"Они скрывались в \\\\\"Убежище\\\\\".\"}, {\"idx\": 15, \"text\": \"Они скрывались от нацистов в потайных комнатах дома в Амстердаме.\"}], \"idx\": 3}, {\"question\": \"Как Анна называла место, где она и ее семья скрывались от нацистов?\", \"answers\": [{\"idx\": 16, \"text\": \"Она называла его Убежищем.\"}, {\"idx\": 17, \"text\": \"Убежище.\"}, {\"idx\": 18, \"text\": \"Потайная комната.\"}, {\"idx\": 19, \"text\": \"Амстердамом.\"}, {\"idx\": 20, \"text\": \"Концлагерем.\"}], \"idx\": 4}, {\"question\": \"Как будет называться приложение, посвященное Анне Франк и включающее фрагменты ее дневника?\", \"answers\": [{\"idx\": 21, \"text\": \"Отто Франк.\"}, {\"idx\": 22, \"text\": \"Анна Франк.\"}, {\"idx\": 23, \"text\": \"Анна Ванна.\"}, {\"idx\": 24, \"text\": \"Хелена Бонэм Картер.\"}, {\"idx\": 25, \"text\": \"Anne Frank App.\"}], \"idx\": 5}, {\"question\": \"Когда в первый раз была опубликована книга с записями Анны Франк? \", \"answers\": [{\"idx\": 26, \"text\": \"В 1946 году.\"}, {\"idx\": 27, \"text\": \"Тогда был 1948 год.\"}, {\"idx\": 28, \"text\": \"Тогда был 1947 год.\"}, {\"idx\": 29, \"text\": \"В 1947 году.\"}, {\"idx\": 30, \"text\": \"В 1948 году.\"}], \"idx\": 6}, {\"question\": \"На сколько языков переведён дневник?\", \"answers\": [{\"idx\": 31, \"text\": \"Более чем на 60 языков.\"}, {\"idx\": 32, \"text\": \"Более 300.\"}, {\"idx\": 33, \"text\": \"Более 100.\"}, {\"idx\": 34, \"text\": \"Более 60.\"}, {\"idx\": 35, \"text\": \"Более чем на 100 языков.\"}], \"idx\": 7}, {\"question\": \"Кто озвучивал фрагменты книжки с записями, впервые опубликованной в 1947 году?\", \"answers\": [{\"idx\": 36, \"text\": \"Хелена Бонэм Картер.\"}, {\"idx\": 37, \"text\": \"Милена Бонэм Картер.\"}, {\"idx\": 38, \"text\": \"Актриса Анна Картер.\"}, {\"idx\": 39, \"text\": \"Анна Картер.\"}, {\"idx\": 40, \"text\": \"Актриса Хелена Бонэм Картер.\"}], \"idx\": 8}, {\"question\": \"Где родилась автор книги, на основе которой издательство Viking Press выпустит мобильное приложение?\", \"answers\": [{\"idx\": 41, \"text\": \"Девочка родилась в Нидерландах.\"}, {\"idx\": 42, \"text\": \"В Германии.\"}, {\"idx\": 43, \"text\": \"Девочка родилась в Германии.\"}, {\"idx\": 44, \"text\": \"В Польше.\"}, {\"idx\": 45, \"text\": \"В Нидерландах.\"}], \"idx\": 9}]}}\\n'"
            ]
          },
          "metadata": {
            "tags": []
          },
          "execution_count": 6
        }
      ]
    },
    {
      "cell_type": "code",
      "metadata": {
        "colab": {
          "base_uri": "https://localhost:8080/"
        },
        "id": "aE1mEqlpeihS",
        "outputId": "f1f77827-3bf4-4c8e-ca34-592d02109a40"
      },
      "source": [
        "json.loads(json_list[0])"
      ],
      "execution_count": 7,
      "outputs": [
        {
          "output_type": "execute_result",
          "data": {
            "text/plain": [
              "{'idx': 0,\n",
              " 'passage': {'questions': [{'answers': [{'idx': 0,\n",
              "      'text': 'Дневник об отметках Анны.'},\n",
              "     {'idx': 1, 'text': 'Дневник о школьных годах девочки Анны.'},\n",
              "     {'idx': 2,\n",
              "      'text': 'О жизни еврейской девочки во время гонения евреев нацистами.'},\n",
              "     {'idx': 3,\n",
              "      'text': 'Анна описывала свою жизнь и жизнь близких, когда скрывалась от нацистов.'}],\n",
              "    'idx': 0,\n",
              "    'question': 'О чем дневник Анны Франк?'},\n",
              "   {'answers': [{'idx': 4, 'text': 'Приложение будет платным.'},\n",
              "     {'idx': 5, 'text': 'Приложение будет англоязычным.'},\n",
              "     {'idx': 6, 'text': 'Приложение будет на еврейском языке.'},\n",
              "     {'idx': 7,\n",
              "      'text': 'Приложение будет посвящено Анне Франк и основано на записях в её дневнике.'}],\n",
              "    'idx': 1,\n",
              "    'question': 'Каким будет приложение Anne Frank App?'},\n",
              "   {'answers': [{'idx': 8, 'text': 'Карта Нидерландов.'},\n",
              "     {'idx': 9,\n",
              "      'text': 'Программа будет включать в себя фрагменты из дневника Анны, озвученные британской актрисой Хеленой Бонэм Картер.'},\n",
              "     {'idx': 10, 'text': 'Видеозаписи Анны Франк.'},\n",
              "     {'idx': 11,\n",
              "      'text': 'В приложение войдут фотографии и видеозаписи, документы из архива Фонда Анны Франк, план здания в Амстердаме, где Анна с семьей скрывались от нацистов, и факсимильные копии страниц дневника.'}],\n",
              "    'idx': 2,\n",
              "    'question': 'Какая информация войдет в новой мобильное приложение?'},\n",
              "   {'answers': [{'idx': 12, 'text': 'В концлагере.'},\n",
              "     {'idx': 13, 'text': 'В Германии.'},\n",
              "     {'idx': 14, 'text': 'Они скрывались в \"Убежище\".'},\n",
              "     {'idx': 15,\n",
              "      'text': 'Они скрывались от нацистов в потайных комнатах дома в Амстердаме.'}],\n",
              "    'idx': 3,\n",
              "    'question': 'Где скрывались члены семьи Франк и другие евреи?'},\n",
              "   {'answers': [{'idx': 16, 'text': 'Она называла его Убежищем.'},\n",
              "     {'idx': 17, 'text': 'Убежище.'},\n",
              "     {'idx': 18, 'text': 'Потайная комната.'},\n",
              "     {'idx': 19, 'text': 'Амстердамом.'},\n",
              "     {'idx': 20, 'text': 'Концлагерем.'}],\n",
              "    'idx': 4,\n",
              "    'question': 'Как Анна называла место, где она и ее семья скрывались от нацистов?'},\n",
              "   {'answers': [{'idx': 21, 'text': 'Отто Франк.'},\n",
              "     {'idx': 22, 'text': 'Анна Франк.'},\n",
              "     {'idx': 23, 'text': 'Анна Ванна.'},\n",
              "     {'idx': 24, 'text': 'Хелена Бонэм Картер.'},\n",
              "     {'idx': 25, 'text': 'Anne Frank App.'}],\n",
              "    'idx': 5,\n",
              "    'question': 'Как будет называться приложение, посвященное Анне Франк и включающее фрагменты ее дневника?'},\n",
              "   {'answers': [{'idx': 26, 'text': 'В 1946 году.'},\n",
              "     {'idx': 27, 'text': 'Тогда был 1948 год.'},\n",
              "     {'idx': 28, 'text': 'Тогда был 1947 год.'},\n",
              "     {'idx': 29, 'text': 'В 1947 году.'},\n",
              "     {'idx': 30, 'text': 'В 1948 году.'}],\n",
              "    'idx': 6,\n",
              "    'question': 'Когда в первый раз была опубликована книга с записями Анны Франк? '},\n",
              "   {'answers': [{'idx': 31, 'text': 'Более чем на 60 языков.'},\n",
              "     {'idx': 32, 'text': 'Более 300.'},\n",
              "     {'idx': 33, 'text': 'Более 100.'},\n",
              "     {'idx': 34, 'text': 'Более 60.'},\n",
              "     {'idx': 35, 'text': 'Более чем на 100 языков.'}],\n",
              "    'idx': 7,\n",
              "    'question': 'На сколько языков переведён дневник?'},\n",
              "   {'answers': [{'idx': 36, 'text': 'Хелена Бонэм Картер.'},\n",
              "     {'idx': 37, 'text': 'Милена Бонэм Картер.'},\n",
              "     {'idx': 38, 'text': 'Актриса Анна Картер.'},\n",
              "     {'idx': 39, 'text': 'Анна Картер.'},\n",
              "     {'idx': 40, 'text': 'Актриса Хелена Бонэм Картер.'}],\n",
              "    'idx': 8,\n",
              "    'question': 'Кто озвучивал фрагменты книжки с записями, впервые опубликованной в 1947 году?'},\n",
              "   {'answers': [{'idx': 41, 'text': 'Девочка родилась в Нидерландах.'},\n",
              "     {'idx': 42, 'text': 'В Германии.'},\n",
              "     {'idx': 43, 'text': 'Девочка родилась в Германии.'},\n",
              "     {'idx': 44, 'text': 'В Польше.'},\n",
              "     {'idx': 45, 'text': 'В Нидерландах.'}],\n",
              "    'idx': 9,\n",
              "    'question': 'Где родилась автор книги, на основе которой издательство Viking Press выпустит мобильное приложение?'}],\n",
              "  'text': '\"(1) Издательство Viking Press совместно с компанией TradeMobile выпустят мобильное приложение, посвященное Анне Франк, передает The Daily Telegraph. (2) Программа будет включать в себя фрагменты из дневника Анны, озвученные британской актрисой Хеленой Бонэм Картер. (3) Помимо этого, в приложение войдут фотографии и видеозаписи, документы из архива Фонда Анны Франк, план здания в Амстердаме, где Анна с семьей скрывались от нацистов, и факсимильные копии страниц дневника. (4) Приложение, которое получит название Anne Frank App, выйдет 18 октября. (5) Интерфейс программы будет англоязычным. (6) На каких платформах будет доступно Anne Frank App, не уточняется. Анна Франк родилась в Германии в 1929 году. (7) Когда в стране начались гонения на евреев, Анна с семьей перебрались в Нидерланды. (8) С 1942 года члены семьи Франк и еще несколько человек скрывались от нацистов в потайных комнатах дома в Амстердаме, который занимала компания отца Анны. (9) В 1944 году группу по доносу обнаружили гестаповцы. (10) Обитатели \"Убежища\" (так Анна называла дом в дневнике) были отправлены в концлагеря; выжить удалось только отцу девочки Отто Франку. (11) Находясь в \"Убежище\", Анна вела дневник, в котором описывала свою жизнь и жизнь своих близких. (12) После ареста книгу с записями сохранила подруга семьи Франк и впоследствии передала ее отцу Анны. (13) Дневник был впервые опубликован в 1947 году. (14) Сейчас он переведен более чем на 60 языков.\"'}}"
            ]
          },
          "metadata": {
            "tags": []
          },
          "execution_count": 7
        }
      ]
    },
    {
      "cell_type": "code",
      "metadata": {
        "colab": {
          "base_uri": "https://localhost:8080/"
        },
        "id": "RFpI634HeNXo",
        "outputId": "db72bf06-e8d4-49fe-95cd-64dd7be8082b"
      },
      "source": [
        "## задача -- добавить label ответам на вопрос\n",
        "\n",
        "## добавим в label везде 0 или 1 случайным образом\n",
        "\n",
        "import random\n",
        "\n",
        "random.choice([0,1])"
      ],
      "execution_count": 10,
      "outputs": [
        {
          "output_type": "execute_result",
          "data": {
            "text/plain": [
              "0"
            ]
          },
          "metadata": {
            "tags": []
          },
          "execution_count": 10
        }
      ]
    },
    {
      "cell_type": "code",
      "metadata": {
        "id": "nDfxmH24e35e"
      },
      "source": [
        "## переберем все ответы в файле\n",
        "new_test = [json.loads(item) for item in json_list]"
      ],
      "execution_count": 11,
      "outputs": []
    },
    {
      "cell_type": "code",
      "metadata": {
        "id": "b1UZaIQF2vyf",
        "outputId": "4c674a82-02c8-4a10-9d61-e85c1fd7ffd6",
        "colab": {
          "base_uri": "https://localhost:8080/"
        }
      },
      "source": [
        "new_test[0]['passage'].keys()"
      ],
      "execution_count": 15,
      "outputs": [
        {
          "output_type": "execute_result",
          "data": {
            "text/plain": [
              "dict_keys(['text', 'questions'])"
            ]
          },
          "metadata": {
            "tags": []
          },
          "execution_count": 15
        }
      ]
    },
    {
      "cell_type": "code",
      "metadata": {
        "colab": {
          "base_uri": "https://localhost:8080/"
        },
        "id": "WwL1VBW9fwfm",
        "outputId": "b5b6aa29-df74-4491-cc6c-bca7b19e3b92"
      },
      "source": [
        "new_test[0]['passage']['questions'][0]"
      ],
      "execution_count": null,
      "outputs": [
        {
          "output_type": "execute_result",
          "data": {
            "text/plain": [
              "{'answers': [{'idx': 0, 'text': 'Дневник об отметках Анны.'},\n",
              "  {'idx': 1, 'text': 'Дневник о школьных годах девочки Анны.'},\n",
              "  {'idx': 2,\n",
              "   'text': 'О жизни еврейской девочки во время гонения евреев нацистами.'},\n",
              "  {'idx': 3,\n",
              "   'text': 'Анна описывала свою жизнь и жизнь близких, когда скрывалась от нацистов.'}],\n",
              " 'idx': 0,\n",
              " 'question': 'О чем дневник Анны Франк?'}"
            ]
          },
          "metadata": {
            "tags": []
          },
          "execution_count": 34
        }
      ]
    },
    {
      "cell_type": "code",
      "metadata": {
        "id": "-DPLyJx9jSTp"
      },
      "source": [
        "def get_answer(dic):\n",
        "  dic['label'] = random.choice([0,1])\n",
        "  return dic"
      ],
      "execution_count": 16,
      "outputs": []
    },
    {
      "cell_type": "code",
      "metadata": {
        "id": "p-vVPip_3lW0"
      },
      "source": [
        "from tqdm import tqdm"
      ],
      "execution_count": 18,
      "outputs": []
    },
    {
      "cell_type": "code",
      "metadata": {
        "id": "9gkePlZEfy04",
        "outputId": "cc1d73c4-29bc-4b8e-991e-d47769762edd",
        "colab": {
          "base_uri": "https://localhost:8080/"
        }
      },
      "source": [
        "for i in tqdm(range(len(new_test))):\n",
        "    q = new_test[i]['passage']['questions']\n",
        "    for j in range(len(q)):\n",
        "        #print(q[j])\n",
        "        q[j]['answers'] = [get_answer(dic) for dic in q[j]['answers'] ]\n",
        "    new_test[i]['passage']['questions'] = q"
      ],
      "execution_count": 19,
      "outputs": [
        {
          "output_type": "stream",
          "text": [
            "100%|██████████| 322/322 [00:00<00:00, 33410.83it/s]\n"
          ],
          "name": "stderr"
        }
      ]
    },
    {
      "cell_type": "code",
      "metadata": {
        "id": "93SUgxEG4B5v",
        "outputId": "619902e5-a9c9-45b4-fb8a-9768f87be318",
        "colab": {
          "base_uri": "https://localhost:8080/"
        }
      },
      "source": [
        "new_test[0]"
      ],
      "execution_count": 20,
      "outputs": [
        {
          "output_type": "execute_result",
          "data": {
            "text/plain": [
              "{'idx': 0,\n",
              " 'passage': {'questions': [{'answers': [{'idx': 0,\n",
              "      'label': 1,\n",
              "      'text': 'Дневник об отметках Анны.'},\n",
              "     {'idx': 1, 'label': 0, 'text': 'Дневник о школьных годах девочки Анны.'},\n",
              "     {'idx': 2,\n",
              "      'label': 0,\n",
              "      'text': 'О жизни еврейской девочки во время гонения евреев нацистами.'},\n",
              "     {'idx': 3,\n",
              "      'label': 0,\n",
              "      'text': 'Анна описывала свою жизнь и жизнь близких, когда скрывалась от нацистов.'}],\n",
              "    'idx': 0,\n",
              "    'question': 'О чем дневник Анны Франк?'},\n",
              "   {'answers': [{'idx': 4, 'label': 1, 'text': 'Приложение будет платным.'},\n",
              "     {'idx': 5, 'label': 1, 'text': 'Приложение будет англоязычным.'},\n",
              "     {'idx': 6, 'label': 0, 'text': 'Приложение будет на еврейском языке.'},\n",
              "     {'idx': 7,\n",
              "      'label': 1,\n",
              "      'text': 'Приложение будет посвящено Анне Франк и основано на записях в её дневнике.'}],\n",
              "    'idx': 1,\n",
              "    'question': 'Каким будет приложение Anne Frank App?'},\n",
              "   {'answers': [{'idx': 8, 'label': 0, 'text': 'Карта Нидерландов.'},\n",
              "     {'idx': 9,\n",
              "      'label': 0,\n",
              "      'text': 'Программа будет включать в себя фрагменты из дневника Анны, озвученные британской актрисой Хеленой Бонэм Картер.'},\n",
              "     {'idx': 10, 'label': 0, 'text': 'Видеозаписи Анны Франк.'},\n",
              "     {'idx': 11,\n",
              "      'label': 0,\n",
              "      'text': 'В приложение войдут фотографии и видеозаписи, документы из архива Фонда Анны Франк, план здания в Амстердаме, где Анна с семьей скрывались от нацистов, и факсимильные копии страниц дневника.'}],\n",
              "    'idx': 2,\n",
              "    'question': 'Какая информация войдет в новой мобильное приложение?'},\n",
              "   {'answers': [{'idx': 12, 'label': 0, 'text': 'В концлагере.'},\n",
              "     {'idx': 13, 'label': 0, 'text': 'В Германии.'},\n",
              "     {'idx': 14, 'label': 0, 'text': 'Они скрывались в \"Убежище\".'},\n",
              "     {'idx': 15,\n",
              "      'label': 1,\n",
              "      'text': 'Они скрывались от нацистов в потайных комнатах дома в Амстердаме.'}],\n",
              "    'idx': 3,\n",
              "    'question': 'Где скрывались члены семьи Франк и другие евреи?'},\n",
              "   {'answers': [{'idx': 16, 'label': 1, 'text': 'Она называла его Убежищем.'},\n",
              "     {'idx': 17, 'label': 1, 'text': 'Убежище.'},\n",
              "     {'idx': 18, 'label': 1, 'text': 'Потайная комната.'},\n",
              "     {'idx': 19, 'label': 1, 'text': 'Амстердамом.'},\n",
              "     {'idx': 20, 'label': 0, 'text': 'Концлагерем.'}],\n",
              "    'idx': 4,\n",
              "    'question': 'Как Анна называла место, где она и ее семья скрывались от нацистов?'},\n",
              "   {'answers': [{'idx': 21, 'label': 1, 'text': 'Отто Франк.'},\n",
              "     {'idx': 22, 'label': 1, 'text': 'Анна Франк.'},\n",
              "     {'idx': 23, 'label': 1, 'text': 'Анна Ванна.'},\n",
              "     {'idx': 24, 'label': 1, 'text': 'Хелена Бонэм Картер.'},\n",
              "     {'idx': 25, 'label': 1, 'text': 'Anne Frank App.'}],\n",
              "    'idx': 5,\n",
              "    'question': 'Как будет называться приложение, посвященное Анне Франк и включающее фрагменты ее дневника?'},\n",
              "   {'answers': [{'idx': 26, 'label': 0, 'text': 'В 1946 году.'},\n",
              "     {'idx': 27, 'label': 1, 'text': 'Тогда был 1948 год.'},\n",
              "     {'idx': 28, 'label': 0, 'text': 'Тогда был 1947 год.'},\n",
              "     {'idx': 29, 'label': 0, 'text': 'В 1947 году.'},\n",
              "     {'idx': 30, 'label': 0, 'text': 'В 1948 году.'}],\n",
              "    'idx': 6,\n",
              "    'question': 'Когда в первый раз была опубликована книга с записями Анны Франк? '},\n",
              "   {'answers': [{'idx': 31, 'label': 1, 'text': 'Более чем на 60 языков.'},\n",
              "     {'idx': 32, 'label': 0, 'text': 'Более 300.'},\n",
              "     {'idx': 33, 'label': 1, 'text': 'Более 100.'},\n",
              "     {'idx': 34, 'label': 0, 'text': 'Более 60.'},\n",
              "     {'idx': 35, 'label': 1, 'text': 'Более чем на 100 языков.'}],\n",
              "    'idx': 7,\n",
              "    'question': 'На сколько языков переведён дневник?'},\n",
              "   {'answers': [{'idx': 36, 'label': 0, 'text': 'Хелена Бонэм Картер.'},\n",
              "     {'idx': 37, 'label': 1, 'text': 'Милена Бонэм Картер.'},\n",
              "     {'idx': 38, 'label': 0, 'text': 'Актриса Анна Картер.'},\n",
              "     {'idx': 39, 'label': 1, 'text': 'Анна Картер.'},\n",
              "     {'idx': 40, 'label': 0, 'text': 'Актриса Хелена Бонэм Картер.'}],\n",
              "    'idx': 8,\n",
              "    'question': 'Кто озвучивал фрагменты книжки с записями, впервые опубликованной в 1947 году?'},\n",
              "   {'answers': [{'idx': 41,\n",
              "      'label': 0,\n",
              "      'text': 'Девочка родилась в Нидерландах.'},\n",
              "     {'idx': 42, 'label': 0, 'text': 'В Германии.'},\n",
              "     {'idx': 43, 'label': 1, 'text': 'Девочка родилась в Германии.'},\n",
              "     {'idx': 44, 'label': 0, 'text': 'В Польше.'},\n",
              "     {'idx': 45, 'label': 1, 'text': 'В Нидерландах.'}],\n",
              "    'idx': 9,\n",
              "    'question': 'Где родилась автор книги, на основе которой издательство Viking Press выпустит мобильное приложение?'}],\n",
              "  'text': '\"(1) Издательство Viking Press совместно с компанией TradeMobile выпустят мобильное приложение, посвященное Анне Франк, передает The Daily Telegraph. (2) Программа будет включать в себя фрагменты из дневника Анны, озвученные британской актрисой Хеленой Бонэм Картер. (3) Помимо этого, в приложение войдут фотографии и видеозаписи, документы из архива Фонда Анны Франк, план здания в Амстердаме, где Анна с семьей скрывались от нацистов, и факсимильные копии страниц дневника. (4) Приложение, которое получит название Anne Frank App, выйдет 18 октября. (5) Интерфейс программы будет англоязычным. (6) На каких платформах будет доступно Anne Frank App, не уточняется. Анна Франк родилась в Германии в 1929 году. (7) Когда в стране начались гонения на евреев, Анна с семьей перебрались в Нидерланды. (8) С 1942 года члены семьи Франк и еще несколько человек скрывались от нацистов в потайных комнатах дома в Амстердаме, который занимала компания отца Анны. (9) В 1944 году группу по доносу обнаружили гестаповцы. (10) Обитатели \"Убежища\" (так Анна называла дом в дневнике) были отправлены в концлагеря; выжить удалось только отцу девочки Отто Франку. (11) Находясь в \"Убежище\", Анна вела дневник, в котором описывала свою жизнь и жизнь своих близких. (12) После ареста книгу с записями сохранила подруга семьи Франк и впоследствии передала ее отцу Анны. (13) Дневник был впервые опубликован в 1947 году. (14) Сейчас он переведен более чем на 60 языков.\"'}}"
            ]
          },
          "metadata": {
            "tags": []
          },
          "execution_count": 20
        }
      ]
    },
    {
      "cell_type": "markdown",
      "metadata": {
        "id": "QtCRX5Eid9n1"
      },
      "source": [
        "### запишем и скачаем файл"
      ]
    },
    {
      "cell_type": "code",
      "metadata": {
        "id": "vzcavTPz4MED"
      },
      "source": [
        "import jsonlines"
      ],
      "execution_count": 22,
      "outputs": []
    },
    {
      "cell_type": "code",
      "metadata": {
        "id": "jN_GGK0NfBh-"
      },
      "source": [
        "with jsonlines.open('decision_tree.jsonl', 'w') as writer:\n",
        "    writer.write_all(new_test)"
      ],
      "execution_count": 50,
      "outputs": []
    },
    {
      "cell_type": "code",
      "metadata": {
        "colab": {
          "base_uri": "https://localhost:8080/",
          "height": 17
        },
        "id": "no52rWoWdS_A",
        "outputId": "b91c477e-349a-492b-c849-6438f4e40bef"
      },
      "source": [
        "from google.colab import files\n",
        "files.download('decision_tree.jsonl') "
      ],
      "execution_count": 51,
      "outputs": [
        {
          "output_type": "display_data",
          "data": {
            "application/javascript": [
              "\n",
              "    async function download(id, filename, size) {\n",
              "      if (!google.colab.kernel.accessAllowed) {\n",
              "        return;\n",
              "      }\n",
              "      const div = document.createElement('div');\n",
              "      const label = document.createElement('label');\n",
              "      label.textContent = `Downloading \"${filename}\": `;\n",
              "      div.appendChild(label);\n",
              "      const progress = document.createElement('progress');\n",
              "      progress.max = size;\n",
              "      div.appendChild(progress);\n",
              "      document.body.appendChild(div);\n",
              "\n",
              "      const buffers = [];\n",
              "      let downloaded = 0;\n",
              "\n",
              "      const channel = await google.colab.kernel.comms.open(id);\n",
              "      // Send a message to notify the kernel that we're ready.\n",
              "      channel.send({})\n",
              "\n",
              "      for await (const message of channel.messages) {\n",
              "        // Send a message to notify the kernel that we're ready.\n",
              "        channel.send({})\n",
              "        if (message.buffers) {\n",
              "          for (const buffer of message.buffers) {\n",
              "            buffers.push(buffer);\n",
              "            downloaded += buffer.byteLength;\n",
              "            progress.value = downloaded;\n",
              "          }\n",
              "        }\n",
              "      }\n",
              "      const blob = new Blob(buffers, {type: 'application/binary'});\n",
              "      const a = document.createElement('a');\n",
              "      a.href = window.URL.createObjectURL(blob);\n",
              "      a.download = filename;\n",
              "      div.appendChild(a);\n",
              "      a.click();\n",
              "      div.remove();\n",
              "    }\n",
              "  "
            ],
            "text/plain": [
              "<IPython.core.display.Javascript object>"
            ]
          },
          "metadata": {
            "tags": []
          }
        },
        {
          "output_type": "display_data",
          "data": {
            "application/javascript": [
              "download(\"download_8d5e40af-688d-446e-b09c-1e5d6ad56c78\", \"decision_tree.jsonl\", 1830658)"
            ],
            "text/plain": [
              "<IPython.core.display.Javascript object>"
            ]
          },
          "metadata": {
            "tags": []
          }
        }
      ]
    },
    {
      "cell_type": "markdown",
      "metadata": {
        "id": "vArFIiiY1J1A"
      },
      "source": [
        "##Импортируем библиотеки"
      ]
    },
    {
      "cell_type": "code",
      "metadata": {
        "colab": {
          "base_uri": "https://localhost:8080/"
        },
        "id": "EUHD7BD9LwP9",
        "outputId": "8f337073-00be-4afd-992f-cadd08d717c5"
      },
      "source": [
        "import json\n",
        "import os, re\n",
        "import pandas as pd\n",
        "import numpy as np\n",
        "import matplotlib.pyplot as plt\n",
        "import seaborn as sns\n",
        "%pylab inline\n",
        "from sklearn.metrics import *\n",
        "from sklearn.pipeline import Pipeline\n",
        "from sklearn.feature_extraction.text import CountVectorizer, TfidfTransformer\n",
        "\n",
        "from sklearn.svm import SVC\n",
        "from sklearn.tree import DecisionTreeClassifier, ExtraTreeClassifier\n",
        "from sklearn.linear_model import SGDClassifier,LogisticRegression\n",
        "from sklearn.ensemble import RandomForestClassifier\n"
      ],
      "execution_count": 25,
      "outputs": [
        {
          "output_type": "stream",
          "text": [
            "Populating the interactive namespace from numpy and matplotlib\n"
          ],
          "name": "stdout"
        },
        {
          "output_type": "stream",
          "text": [
            "/usr/local/lib/python3.6/dist-packages/IPython/core/magics/pylab.py:161: UserWarning: pylab import has clobbered these variables: ['random']\n",
            "`%matplotlib` prevents importing * from pylab and numpy\n",
            "  \"\\n`%matplotlib` prevents importing * from pylab and numpy\"\n"
          ],
          "name": "stderr"
        }
      ]
    },
    {
      "cell_type": "markdown",
      "metadata": {
        "id": "8Za-ZgxUMfSr"
      },
      "source": [
        "## Подготовим данные\n",
        "\n",
        "Здесь у вас есть большой простор для инженерных решений: \n",
        "\n",
        "*   есть тройки - текст, вопрос, ответ\n",
        "*   есть пары - вопрос и правильный ответ, вопрос и неправильный ответ\n",
        "*   есть пары - вопрос и ответ,\n",
        "*   и т.д.\n",
        "\n",
        "В бейзлайне мы пойдем по самому простому пути - склеим вместе текст, вопрос и ответ - это будет один элемент классификации, к которому приписан лейбл (класс - 0 или 1)"
      ]
    },
    {
      "cell_type": "code",
      "metadata": {
        "id": "Jd8HeoswMj7g"
      },
      "source": [
        "def get_X_y(data_json_file):\n",
        "    X, y = [], []\n",
        "    with open(data_json_file, 'r') as json_file:\n",
        "        json_list = list(json_file)\n",
        "        #print(json_list[0])\n",
        "        for json_str in json_list:\n",
        "            item = json.loads(json_str)\n",
        "            text = item['passage']['text']\n",
        "            #print(item['passage'].keys())\n",
        "            questions = item['passage']['questions']\n",
        "            for q in questions:\n",
        "                query = q['question']\n",
        "                ans = q['answers']\n",
        "                for a in ans:\n",
        "                    X.append(text+' Query: '+query+' Answer: '+a['text'])\n",
        "                    y.append(a['label'])\n",
        "    return X, y"
      ],
      "execution_count": 26,
      "outputs": []
    },
    {
      "cell_type": "code",
      "metadata": {
        "id": "RJDT2A2TLwJ5"
      },
      "source": [
        "X_train, y_train = get_X_y('train.jsonl')\n",
        "X_test, y_test = get_X_y('val.jsonl')\n"
      ],
      "execution_count": 27,
      "outputs": []
    },
    {
      "cell_type": "markdown",
      "metadata": {
        "id": "th9Zvq8GMQuE"
      },
      "source": [
        "\n",
        "Посмотрим на количество примеров и состав классов:\n"
      ]
    },
    {
      "cell_type": "code",
      "metadata": {
        "colab": {
          "base_uri": "https://localhost:8080/"
        },
        "id": "N6kYauUMLwFj",
        "outputId": "70595ccc-c14c-476a-898b-2bde3c4e2098"
      },
      "source": [
        "len(X_train)"
      ],
      "execution_count": 28,
      "outputs": [
        {
          "output_type": "execute_result",
          "data": {
            "text/plain": [
              "11950"
            ]
          },
          "metadata": {
            "tags": []
          },
          "execution_count": 28
        }
      ]
    },
    {
      "cell_type": "code",
      "metadata": {
        "colab": {
          "base_uri": "https://localhost:8080/"
        },
        "id": "_e_eF7v0Slc1",
        "outputId": "542b1441-425d-4a88-9a47-e507a7f9d0b6"
      },
      "source": [
        "len(X_test)"
      ],
      "execution_count": 29,
      "outputs": [
        {
          "output_type": "execute_result",
          "data": {
            "text/plain": [
              "2235"
            ]
          },
          "metadata": {
            "tags": []
          },
          "execution_count": 29
        }
      ]
    },
    {
      "cell_type": "code",
      "metadata": {
        "colab": {
          "base_uri": "https://localhost:8080/"
        },
        "id": "H1rYvNmgWU-x",
        "outputId": "0650ab2c-9221-4607-ecb4-b9c1968a6bf2"
      },
      "source": [
        "from collections import Counter\n",
        "print(Counter(y_train))\n",
        "print(Counter(y_test))"
      ],
      "execution_count": 30,
      "outputs": [
        {
          "output_type": "stream",
          "text": [
            "Counter({0: 6568, 1: 5382})\n",
            "Counter({0: 1242, 1: 993})\n"
          ],
          "name": "stdout"
        }
      ]
    },
    {
      "cell_type": "code",
      "metadata": {
        "id": "j9ioEH9IHiCz",
        "outputId": "66922ea6-b645-4acd-9d74-a424034d607d",
        "colab": {
          "base_uri": "https://localhost:8080/",
          "height": 103
        }
      },
      "source": [
        "new_test[44]['passage']['text']"
      ],
      "execution_count": 69,
      "outputs": [
        {
          "output_type": "execute_result",
          "data": {
            "application/vnd.google.colaboratory.intrinsic+json": {
              "type": "string"
            },
            "text/plain": [
              "'\"(1) Информагентство РИА Новости и газета \"Время новостей\", возобновляющие выпуск издания \"Московские новости\", допустят читателей к редакционной политике. (2) Об этом 4 октября на посвященной перезапуску газеты пресс-конференции сообщила главный редактор агентства Светлана Миронюк. (3) В частности, как рассказала главред РИА Новости, читатели смогут принять участие в разработке идей для \"Московских новостей\". (4) Самым активным из них позволят встретиться с главным редактором газеты, которым стал Владимир Гуревич. (5) По словам Миронюк, в ноябре 2010 года на Facebook будет запущен \"клуб читателей\". (6) Кроме того, Гуревич будет общаться с читателями через Twitter. (7) Англоязычная газета The Moscow News издавалась в Москве с 1930 года. (8) Издание было ориентировано на иностранцев, работающих в СССР. (9) На русском языке \"Московские новости\" стали выходить в 1980 году, с 1986 года её главредом стал Егор Яковлев. (10) В 2008 году выпуск газеты был прекращён. (11) В 2008 же году бренды \"Московские новости\" и The Moscow News у владевшего ими бизнесмена Аркадия Гайдамака приобрело РИА Новости. (12) Агентство начало издавать газету на английском и арабском языках. (13) Теперь РИА Новости в сотрудничестве со \"Временем новостей\" планирует возобновить выпуск издания на русском языке в бумажной версии, в интернете, а также в версии для сотовых телефонов и iPad. (14) По некоторым данным, в 2011 году название \"Московские новости\" будет присвоено газете \"Время новостей\".\"'"
            ]
          },
          "metadata": {
            "tags": []
          },
          "execution_count": 69
        }
      ]
    },
    {
      "cell_type": "code",
      "metadata": {
        "id": "1f0p3FcQHxlG",
        "outputId": "b84c50b8-9c92-4580-be46-9dd6b9621cac",
        "colab": {
          "base_uri": "https://localhost:8080/"
        }
      },
      "source": [
        "new_test[44]['passage']['questions'][0]"
      ],
      "execution_count": 70,
      "outputs": [
        {
          "output_type": "execute_result",
          "data": {
            "text/plain": [
              "{'answers': [{'idx': 1626,\n",
              "   'label': 0,\n",
              "   'text': 'По словам Миронюк, читатели смогут принять участие в разработке идей для \"Московских новостей\".'},\n",
              "  {'idx': 1627,\n",
              "   'label': 1,\n",
              "   'text': 'Читатели присвоят газете новое название в 2011 году.'},\n",
              "  {'idx': 1628,\n",
              "   'label': 1,\n",
              "   'text': 'Читатели будут проводить пресс-конференции.'},\n",
              "  {'idx': 1629,\n",
              "   'label': 1,\n",
              "   'text': 'Главный редактор газеты Гуревич будет общаться с читателями лично, а также в \"клубе читателей\" на Facebook и через Twitter.'},\n",
              "  {'idx': 1630,\n",
              "   'label': 1,\n",
              "   'text': 'Читатели будут общаться с иностранцами, работающими в СССР.'}],\n",
              " 'idx': 368,\n",
              " 'question': 'Каким образом читатели будут допущены к редакционной политике?'}"
            ]
          },
          "metadata": {
            "tags": []
          },
          "execution_count": 70
        }
      ]
    },
    {
      "cell_type": "markdown",
      "metadata": {
        "id": "OU-IMOZ61z1B"
      },
      "source": [
        "## Запуск baseline \n",
        "\n",
        "Перебор моделей и параметров - классический подход\n",
        "\n",
        "Попробуем модели разного типа, выберем лучший классификатор из простых, а потом будем перебирать его настройки"
      ]
    },
    {
      "cell_type": "code",
      "metadata": {
        "id": "jRMUH4cN1JLh"
      },
      "source": [
        "rs = 42\n",
        "\n",
        "clf = LogisticRegression(random_state=rs)   \n",
        "clf2 = RandomForestClassifier(random_state=rs, n_jobs =-1)\n",
        "clf3 = SGDClassifier()\n",
        "clf4 = SVC(random_state =rs)\n",
        "clf5 = DecisionTreeClassifier(random_state=rs)\n",
        "\"\"\"clf6 =  SVC(class_weight=\"balanced\", random_state =rs)\n",
        "clf7 = DecisionTreeClassifier()\n",
        "clf8 = ExtraTreeClassifier()\n",
        "clf9 = LinearRegression() \n",
        "clf10 = LogisticRegressionCV()\n",
        "clf11 = GradientBoostingClassifier(random_state =rs)\"\"\"\n",
        "clflist = [clf, clf2, clf3, clf4, clf5]"
      ],
      "execution_count": 54,
      "outputs": []
    },
    {
      "cell_type": "markdown",
      "metadata": {
        "id": "RHqq0_gy2tjp"
      },
      "source": [
        "## Запустим и оценим решение"
      ]
    },
    {
      "cell_type": "code",
      "metadata": {
        "id": "zHFYyaKI6Pe7"
      },
      "source": [
        "clf = Pipeline([\n",
        "    ('vect', CountVectorizer(ngram_range=(1,3), analyzer='word', max_features=10000)),\n",
        "    ('tfidf', TfidfTransformer(sublinear_tf=True)),\n",
        "    #('reducer', TruncatedSVD(n_components=300)),\n",
        "    ('clf', clf),\n",
        "    ])\n",
        "clf.fit(X_train, y_train)\n",
        "predictions = clf.predict(X_test)\n",
        "\n"
      ],
      "execution_count": 55,
      "outputs": []
    },
    {
      "cell_type": "code",
      "metadata": {
        "id": "Z_3gNiEq6r7s",
        "outputId": "2bee2f2e-a376-4c9f-b389-64ca2cd13eb9",
        "colab": {
          "base_uri": "https://localhost:8080/",
          "height": 502
        }
      },
      "source": [
        "print(\"Precision: {0:6.2f}\".format(precision_score(y_test, predictions, average='macro')))\n",
        "print(\"Recall: {0:6.2f}\".format(recall_score(y_test, predictions, average='macro')))\n",
        "print(\"F1-measure: {0:6.2f}\".format(f1_score(y_test, predictions, average='macro')))\n",
        "print(\"Accuracy: {0:6.2f}\".format(accuracy_score(y_test, predictions)))\n",
        "print(classification_report(y_test, predictions))\n",
        "labels = clf.classes_\n",
        "sns.heatmap(data=confusion_matrix(y_test, predictions), annot=True, fmt=\"d\", cbar=False, xticklabels=labels, yticklabels=labels)\n",
        "plt.title(\"Confusion matrix\")\n",
        "plt.show()"
      ],
      "execution_count": 56,
      "outputs": [
        {
          "output_type": "stream",
          "text": [
            "Precision:   0.50\n",
            "Recall:   0.50\n",
            "F1-measure:   0.40\n",
            "Accuracy:   0.55\n",
            "              precision    recall  f1-score   support\n",
            "\n",
            "           0       0.56      0.94      0.70      1242\n",
            "           1       0.45      0.06      0.11       993\n",
            "\n",
            "    accuracy                           0.55      2235\n",
            "   macro avg       0.50      0.50      0.40      2235\n",
            "weighted avg       0.51      0.55      0.44      2235\n",
            "\n"
          ],
          "name": "stdout"
        },
        {
          "output_type": "display_data",
          "data": {
            "image/png": "[encoded data removed]",
            "text/plain": [
              "<Figure size 432x288 with 1 Axes>"
            ]
          },
          "metadata": {
            "tags": [],
            "needs_background": "light"
          }
        }
      ]
    },
    {
      "cell_type": "code",
      "metadata": {
        "id": "gvLcKwpk7SAI",
        "outputId": "8a599c02-385d-4080-f65a-05a081d3603e",
        "colab": {
          "base_uri": "https://localhost:8080/",
          "height": 103
        }
      },
      "source": [
        "new_test[0]['passage']['text']"
      ],
      "execution_count": 36,
      "outputs": [
        {
          "output_type": "execute_result",
          "data": {
            "application/vnd.google.colaboratory.intrinsic+json": {
              "type": "string"
            },
            "text/plain": [
              "'\"(1) Издательство Viking Press совместно с компанией TradeMobile выпустят мобильное приложение, посвященное Анне Франк, передает The Daily Telegraph. (2) Программа будет включать в себя фрагменты из дневника Анны, озвученные британской актрисой Хеленой Бонэм Картер. (3) Помимо этого, в приложение войдут фотографии и видеозаписи, документы из архива Фонда Анны Франк, план здания в Амстердаме, где Анна с семьей скрывались от нацистов, и факсимильные копии страниц дневника. (4) Приложение, которое получит название Anne Frank App, выйдет 18 октября. (5) Интерфейс программы будет англоязычным. (6) На каких платформах будет доступно Anne Frank App, не уточняется. Анна Франк родилась в Германии в 1929 году. (7) Когда в стране начались гонения на евреев, Анна с семьей перебрались в Нидерланды. (8) С 1942 года члены семьи Франк и еще несколько человек скрывались от нацистов в потайных комнатах дома в Амстердаме, который занимала компания отца Анны. (9) В 1944 году группу по доносу обнаружили гестаповцы. (10) Обитатели \"Убежища\" (так Анна называла дом в дневнике) были отправлены в концлагеря; выжить удалось только отцу девочки Отто Франку. (11) Находясь в \"Убежище\", Анна вела дневник, в котором описывала свою жизнь и жизнь своих близких. (12) После ареста книгу с записями сохранила подруга семьи Франк и впоследствии передала ее отцу Анны. (13) Дневник был впервые опубликован в 1947 году. (14) Сейчас он переведен более чем на 60 языков.\"'"
            ]
          },
          "metadata": {
            "tags": []
          },
          "execution_count": 36
        }
      ]
    },
    {
      "cell_type": "code",
      "metadata": {
        "id": "g_YRXz7r7bN4",
        "outputId": "0303942a-f653-4e69-b57f-655b44085b23",
        "colab": {
          "base_uri": "https://localhost:8080/",
          "height": 35
        }
      },
      "source": [
        "new_test[0]['passage']['questions'][0]['question']"
      ],
      "execution_count": 38,
      "outputs": [
        {
          "output_type": "execute_result",
          "data": {
            "application/vnd.google.colaboratory.intrinsic+json": {
              "type": "string"
            },
            "text/plain": [
              "'О чем дневник Анны Франк?'"
            ]
          },
          "metadata": {
            "tags": []
          },
          "execution_count": 38
        }
      ]
    },
    {
      "cell_type": "code",
      "metadata": {
        "id": "Zy0TR6z77kVm",
        "outputId": "1c2c699a-a165-4e7e-954a-37922a233235",
        "colab": {
          "base_uri": "https://localhost:8080/",
          "height": 35
        }
      },
      "source": [
        "new_test[0]['passage']['questions'][0]['answers'][0]['text']"
      ],
      "execution_count": 40,
      "outputs": [
        {
          "output_type": "execute_result",
          "data": {
            "application/vnd.google.colaboratory.intrinsic+json": {
              "type": "string"
            },
            "text/plain": [
              "'Дневник об отметках Анны.'"
            ]
          },
          "metadata": {
            "tags": []
          },
          "execution_count": 40
        }
      ]
    },
    {
      "cell_type": "code",
      "metadata": {
        "id": "opV8ZpSs6xPk"
      },
      "source": [
        "def get_answer(dic, question, text, clf=clf):\n",
        "  answer = dic['text']\n",
        "  full_text = text+' Query: '+question+' Answer: '+answer\n",
        "  dic['label'] = int(clf.predict([full_text])[0])\n",
        "  return dic"
      ],
      "execution_count": 47,
      "outputs": []
    },
    {
      "cell_type": "code",
      "metadata": {
        "id": "UmGmgG97_Yqe"
      },
      "source": [
        ""
      ],
      "execution_count": null,
      "outputs": []
    },
    {
      "cell_type": "code",
      "metadata": {
        "id": "I28ewF4s8ghd",
        "outputId": "a43e5774-e336-4798-a6d9-49088666abaf",
        "colab": {
          "base_uri": "https://localhost:8080/"
        }
      },
      "source": [
        "new_test[0]['passage']['questions'][0]['answers'][0]"
      ],
      "execution_count": 42,
      "outputs": [
        {
          "output_type": "execute_result",
          "data": {
            "text/plain": [
              "{'idx': 0, 'label': 1, 'text': 'Дневник об отметках Анны.'}"
            ]
          },
          "metadata": {
            "tags": []
          },
          "execution_count": 42
        }
      ]
    },
    {
      "cell_type": "code",
      "metadata": {
        "id": "lBZwSInj8YNA",
        "outputId": "b338baa8-e876-4065-cb23-96dadc4aa300",
        "colab": {
          "base_uri": "https://localhost:8080/"
        }
      },
      "source": [
        "dic = new_test[0]['passage']['questions'][0]['answers'][0]\n",
        "question = new_test[0]['passage']['questions'][0]['question']\n",
        "text = new_test[0]['passage']['text']\n",
        "get_answer(dic, question, text, clf=clf)"
      ],
      "execution_count": 43,
      "outputs": [
        {
          "output_type": "execute_result",
          "data": {
            "text/plain": [
              "{'idx': 0, 'label': 1, 'text': 'Дневник об отметках Анны.'}"
            ]
          },
          "metadata": {
            "tags": []
          },
          "execution_count": 43
        }
      ]
    },
    {
      "cell_type": "code",
      "metadata": {
        "id": "xC_RUdKv_jZR",
        "outputId": "71b860fa-a255-4fdd-9668-a40e002d02d0",
        "colab": {
          "base_uri": "https://localhost:8080/"
        }
      },
      "source": [
        "dic = new_test[0]['passage']['questions'][0]['answers'][0]\n",
        "question = new_test[0]['passage']['questions'][0]['question']\n",
        "text = new_test[0]['passage']['text']\n",
        "answer = dic['text']\n",
        "full_text = text+' Query: '+question+' Answer: '+answer\n",
        "clf.predict_proba([full_text])[0][1]"
      ],
      "execution_count": 59,
      "outputs": [
        {
          "output_type": "execute_result",
          "data": {
            "text/plain": [
              "0.4382412041676226"
            ]
          },
          "metadata": {
            "tags": []
          },
          "execution_count": 59
        }
      ]
    },
    {
      "cell_type": "code",
      "metadata": {
        "id": "4fxZe2PRBWId",
        "outputId": "6d875ff1-f635-4eab-e970-8ce466037a64",
        "colab": {
          "base_uri": "https://localhost:8080/"
        }
      },
      "source": [
        "import numpy as np\n",
        "np.argmax([1,2,0])"
      ],
      "execution_count": 60,
      "outputs": [
        {
          "output_type": "execute_result",
          "data": {
            "text/plain": [
              "1"
            ]
          },
          "metadata": {
            "tags": []
          },
          "execution_count": 60
        }
      ]
    },
    {
      "cell_type": "code",
      "metadata": {
        "id": "ycbCChpL_0Ex"
      },
      "source": [
        "def range_answers(dic_list, question, text, clf=clf):\n",
        "  answers = [dic['text'] for dic in dic_list]\n",
        "  probas = []\n",
        "  for a in answers:\n",
        "      full_text = text+' Query: '+question+' Answer: '+answer\n",
        "      probas.append(clf.predict_proba([full_text])[0][1])\n",
        "  correct_answer = np.argmax(probas)\n",
        "  for i  in range(len(dic_list)):\n",
        "      if i==correct_answer:\n",
        "          dic_list[i]['label'] = 1\n",
        "      else:\n",
        "          dic_list[i]['label'] = 0\n",
        "  return dic_list"
      ],
      "execution_count": 61,
      "outputs": []
    },
    {
      "cell_type": "code",
      "metadata": {
        "id": "ysssY_uR_0WE"
      },
      "source": [
        ""
      ],
      "execution_count": null,
      "outputs": []
    },
    {
      "cell_type": "code",
      "metadata": {
        "id": "IEjKztkJ85Lr",
        "outputId": "7e9cf34f-a640-494a-f1ee-41510fc92119",
        "colab": {
          "base_uri": "https://localhost:8080/"
        }
      },
      "source": [
        "for i in tqdm(range(len(new_test))):\n",
        "    q = new_test[i]['passage']['questions']\n",
        "    text = new_test[i]['passage']['text']\n",
        "    for j in range(len(q)):\n",
        "        question = q[j]['question']\n",
        "        q[j]['answers'] = [get_answer(dic, question, text) for dic in q[j]['answers'] ]\n",
        "    new_test[i]['passage']['questions'] = q"
      ],
      "execution_count": 48,
      "outputs": [
        {
          "output_type": "stream",
          "text": [
            "100%|██████████| 322/322 [00:10<00:00, 30.55it/s]\n"
          ],
          "name": "stderr"
        }
      ]
    },
    {
      "cell_type": "code",
      "metadata": {
        "id": "ZSyiLOdw9qqa",
        "outputId": "528c30ee-a021-4b32-c35e-1e0886b90a93",
        "colab": {
          "base_uri": "https://localhost:8080/"
        }
      },
      "source": [
        "new_test[0]"
      ],
      "execution_count": 49,
      "outputs": [
        {
          "output_type": "execute_result",
          "data": {
            "text/plain": [
              "{'idx': 0,\n",
              " 'passage': {'questions': [{'answers': [{'idx': 0,\n",
              "      'label': 1,\n",
              "      'text': 'Дневник об отметках Анны.'},\n",
              "     {'idx': 1, 'label': 1, 'text': 'Дневник о школьных годах девочки Анны.'},\n",
              "     {'idx': 2,\n",
              "      'label': 1,\n",
              "      'text': 'О жизни еврейской девочки во время гонения евреев нацистами.'},\n",
              "     {'idx': 3,\n",
              "      'label': 1,\n",
              "      'text': 'Анна описывала свою жизнь и жизнь близких, когда скрывалась от нацистов.'}],\n",
              "    'idx': 0,\n",
              "    'question': 'О чем дневник Анны Франк?'},\n",
              "   {'answers': [{'idx': 4, 'label': 1, 'text': 'Приложение будет платным.'},\n",
              "     {'idx': 5, 'label': 1, 'text': 'Приложение будет англоязычным.'},\n",
              "     {'idx': 6, 'label': 1, 'text': 'Приложение будет на еврейском языке.'},\n",
              "     {'idx': 7,\n",
              "      'label': 1,\n",
              "      'text': 'Приложение будет посвящено Анне Франк и основано на записях в её дневнике.'}],\n",
              "    'idx': 1,\n",
              "    'question': 'Каким будет приложение Anne Frank App?'},\n",
              "   {'answers': [{'idx': 8, 'label': 1, 'text': 'Карта Нидерландов.'},\n",
              "     {'idx': 9,\n",
              "      'label': 1,\n",
              "      'text': 'Программа будет включать в себя фрагменты из дневника Анны, озвученные британской актрисой Хеленой Бонэм Картер.'},\n",
              "     {'idx': 10, 'label': 1, 'text': 'Видеозаписи Анны Франк.'},\n",
              "     {'idx': 11,\n",
              "      'label': 1,\n",
              "      'text': 'В приложение войдут фотографии и видеозаписи, документы из архива Фонда Анны Франк, план здания в Амстердаме, где Анна с семьей скрывались от нацистов, и факсимильные копии страниц дневника.'}],\n",
              "    'idx': 2,\n",
              "    'question': 'Какая информация войдет в новой мобильное приложение?'},\n",
              "   {'answers': [{'idx': 12, 'label': 1, 'text': 'В концлагере.'},\n",
              "     {'idx': 13, 'label': 1, 'text': 'В Германии.'},\n",
              "     {'idx': 14, 'label': 1, 'text': 'Они скрывались в \"Убежище\".'},\n",
              "     {'idx': 15,\n",
              "      'label': 1,\n",
              "      'text': 'Они скрывались от нацистов в потайных комнатах дома в Амстердаме.'}],\n",
              "    'idx': 3,\n",
              "    'question': 'Где скрывались члены семьи Франк и другие евреи?'},\n",
              "   {'answers': [{'idx': 16, 'label': 1, 'text': 'Она называла его Убежищем.'},\n",
              "     {'idx': 17, 'label': 1, 'text': 'Убежище.'},\n",
              "     {'idx': 18, 'label': 1, 'text': 'Потайная комната.'},\n",
              "     {'idx': 19, 'label': 1, 'text': 'Амстердамом.'},\n",
              "     {'idx': 20, 'label': 1, 'text': 'Концлагерем.'}],\n",
              "    'idx': 4,\n",
              "    'question': 'Как Анна называла место, где она и ее семья скрывались от нацистов?'},\n",
              "   {'answers': [{'idx': 21, 'label': 1, 'text': 'Отто Франк.'},\n",
              "     {'idx': 22, 'label': 1, 'text': 'Анна Франк.'},\n",
              "     {'idx': 23, 'label': 1, 'text': 'Анна Ванна.'},\n",
              "     {'idx': 24, 'label': 1, 'text': 'Хелена Бонэм Картер.'},\n",
              "     {'idx': 25, 'label': 1, 'text': 'Anne Frank App.'}],\n",
              "    'idx': 5,\n",
              "    'question': 'Как будет называться приложение, посвященное Анне Франк и включающее фрагменты ее дневника?'},\n",
              "   {'answers': [{'idx': 26, 'label': 1, 'text': 'В 1946 году.'},\n",
              "     {'idx': 27, 'label': 1, 'text': 'Тогда был 1948 год.'},\n",
              "     {'idx': 28, 'label': 1, 'text': 'Тогда был 1947 год.'},\n",
              "     {'idx': 29, 'label': 1, 'text': 'В 1947 году.'},\n",
              "     {'idx': 30, 'label': 1, 'text': 'В 1948 году.'}],\n",
              "    'idx': 6,\n",
              "    'question': 'Когда в первый раз была опубликована книга с записями Анны Франк? '},\n",
              "   {'answers': [{'idx': 31, 'label': 1, 'text': 'Более чем на 60 языков.'},\n",
              "     {'idx': 32, 'label': 1, 'text': 'Более 300.'},\n",
              "     {'idx': 33, 'label': 1, 'text': 'Более 100.'},\n",
              "     {'idx': 34, 'label': 1, 'text': 'Более 60.'},\n",
              "     {'idx': 35, 'label': 1, 'text': 'Более чем на 100 языков.'}],\n",
              "    'idx': 7,\n",
              "    'question': 'На сколько языков переведён дневник?'},\n",
              "   {'answers': [{'idx': 36, 'label': 1, 'text': 'Хелена Бонэм Картер.'},\n",
              "     {'idx': 37, 'label': 1, 'text': 'Милена Бонэм Картер.'},\n",
              "     {'idx': 38, 'label': 1, 'text': 'Актриса Анна Картер.'},\n",
              "     {'idx': 39, 'label': 1, 'text': 'Анна Картер.'},\n",
              "     {'idx': 40, 'label': 1, 'text': 'Актриса Хелена Бонэм Картер.'}],\n",
              "    'idx': 8,\n",
              "    'question': 'Кто озвучивал фрагменты книжки с записями, впервые опубликованной в 1947 году?'},\n",
              "   {'answers': [{'idx': 41,\n",
              "      'label': 1,\n",
              "      'text': 'Девочка родилась в Нидерландах.'},\n",
              "     {'idx': 42, 'label': 1, 'text': 'В Германии.'},\n",
              "     {'idx': 43, 'label': 1, 'text': 'Девочка родилась в Германии.'},\n",
              "     {'idx': 44, 'label': 1, 'text': 'В Польше.'},\n",
              "     {'idx': 45, 'label': 1, 'text': 'В Нидерландах.'}],\n",
              "    'idx': 9,\n",
              "    'question': 'Где родилась автор книги, на основе которой издательство Viking Press выпустит мобильное приложение?'}],\n",
              "  'text': '\"(1) Издательство Viking Press совместно с компанией TradeMobile выпустят мобильное приложение, посвященное Анне Франк, передает The Daily Telegraph. (2) Программа будет включать в себя фрагменты из дневника Анны, озвученные британской актрисой Хеленой Бонэм Картер. (3) Помимо этого, в приложение войдут фотографии и видеозаписи, документы из архива Фонда Анны Франк, план здания в Амстердаме, где Анна с семьей скрывались от нацистов, и факсимильные копии страниц дневника. (4) Приложение, которое получит название Anne Frank App, выйдет 18 октября. (5) Интерфейс программы будет англоязычным. (6) На каких платформах будет доступно Anne Frank App, не уточняется. Анна Франк родилась в Германии в 1929 году. (7) Когда в стране начались гонения на евреев, Анна с семьей перебрались в Нидерланды. (8) С 1942 года члены семьи Франк и еще несколько человек скрывались от нацистов в потайных комнатах дома в Амстердаме, который занимала компания отца Анны. (9) В 1944 году группу по доносу обнаружили гестаповцы. (10) Обитатели \"Убежища\" (так Анна называла дом в дневнике) были отправлены в концлагеря; выжить удалось только отцу девочки Отто Франку. (11) Находясь в \"Убежище\", Анна вела дневник, в котором описывала свою жизнь и жизнь своих близких. (12) После ареста книгу с записями сохранила подруга семьи Франк и впоследствии передала ее отцу Анны. (13) Дневник был впервые опубликован в 1947 году. (14) Сейчас он переведен более чем на 60 языков.\"'}}"
            ]
          },
          "metadata": {
            "tags": []
          },
          "execution_count": 49
        }
      ]
    },
    {
      "cell_type": "code",
      "metadata": {
        "id": "V57p5rp56dvT"
      },
      "source": [
        "predictions = clf.predict(X_test)"
      ],
      "execution_count": null,
      "outputs": []
    },
    {
      "cell_type": "code",
      "metadata": {
        "colab": {
          "base_uri": "https://localhost:8080/",
          "height": 1000
        },
        "id": "NChMmUqq0CPd",
        "outputId": "8fe976e3-e769-49ea-f968-987da3ce1be9"
      },
      "source": [
        "for classif in clflist:\n",
        "    clf = Pipeline([\n",
        "    ('vect', CountVectorizer(ngram_range=(1,3), analyzer='word', max_features=10000)),\n",
        "    ('tfidf', TfidfTransformer(sublinear_tf=True)),\n",
        "    #('reducer', TruncatedSVD(n_components=Val3)),\n",
        "    ('clf', classif),\n",
        "    ])\n",
        "    clf.fit(X_train, y_train)\n",
        "    predictions = clf.predict(X_test)\n",
        "    print(classif)\n",
        "    print(\"Precision: {0:6.2f}\".format(precision_score(y_test, predictions, average='macro')))\n",
        "    print(\"Recall: {0:6.2f}\".format(recall_score(y_test, predictions, average='macro')))\n",
        "    print(\"F1-measure: {0:6.2f}\".format(f1_score(y_test, predictions, average='macro')))\n",
        "    print(\"Accuracy: {0:6.2f}\".format(accuracy_score(y_test, predictions)))\n",
        "    print(classification_report(y_test, predictions))\n",
        "    labels = clf.classes_\n",
        "    sns.heatmap(data=confusion_matrix(y_test, predictions), annot=True, fmt=\"d\", cbar=False, xticklabels=labels, yticklabels=labels)\n",
        "    plt.title(\"Confusion matrix\")\n",
        "    plt.show()"
      ],
      "execution_count": null,
      "outputs": [
        {
          "output_type": "stream",
          "text": [
            "LogisticRegression(C=1.0, class_weight=None, dual=False, fit_intercept=True,\n",
            "                   intercept_scaling=1, l1_ratio=None, max_iter=100,\n",
            "                   multi_class='auto', n_jobs=None, penalty='l2',\n",
            "                   random_state=42, solver='lbfgs', tol=0.0001, verbose=0,\n",
            "                   warm_start=False)\n",
            "Precision:   0.50\n",
            "Recall:   0.50\n",
            "F1-measure:   0.40\n",
            "Accuracy:   0.55\n",
            "              precision    recall  f1-score   support\n",
            "\n",
            "           0       0.56      0.94      0.70      1242\n",
            "           1       0.45      0.06      0.11       993\n",
            "\n",
            "    accuracy                           0.55      2235\n",
            "   macro avg       0.50      0.50      0.40      2235\n",
            "weighted avg       0.51      0.55      0.44      2235\n",
            "\n"
          ],
          "name": "stdout"
        },
        {
          "output_type": "display_data",
          "data": {
            "image/png": "[encoded data removed]",
            "text/plain": [
              "<Figure size 432x288 with 1 Axes>"
            ]
          },
          "metadata": {
            "tags": [],
            "needs_background": "light"
          }
        },
        {
          "output_type": "stream",
          "text": [
            "RandomForestClassifier(bootstrap=True, ccp_alpha=0.0, class_weight=None,\n",
            "                       criterion='gini', max_depth=None, max_features='auto',\n",
            "                       max_leaf_nodes=None, max_samples=None,\n",
            "                       min_impurity_decrease=0.0, min_impurity_split=None,\n",
            "                       min_samples_leaf=1, min_samples_split=2,\n",
            "                       min_weight_fraction_leaf=0.0, n_estimators=100,\n",
            "                       n_jobs=-1, oob_score=False, random_state=42, verbose=0,\n",
            "                       warm_start=False)\n",
            "Precision:   0.52\n",
            "Recall:   0.51\n",
            "F1-measure:   0.50\n",
            "Accuracy:   0.50\n",
            "              precision    recall  f1-score   support\n",
            "\n",
            "           0       0.57      0.42      0.48      1242\n",
            "           1       0.46      0.61      0.52       993\n",
            "\n",
            "    accuracy                           0.50      2235\n",
            "   macro avg       0.52      0.51      0.50      2235\n",
            "weighted avg       0.52      0.50      0.50      2235\n",
            "\n"
          ],
          "name": "stdout"
        },
        {
          "output_type": "display_data",
          "data": {
            "image/png": "[encoded data removed]",
            "text/plain": [
              "<Figure size 432x288 with 1 Axes>"
            ]
          },
          "metadata": {
            "tags": [],
            "needs_background": "light"
          }
        },
        {
          "output_type": "stream",
          "text": [
            "SGDClassifier(alpha=0.0001, average=False, class_weight=None,\n",
            "              early_stopping=False, epsilon=0.1, eta0=0.0, fit_intercept=True,\n",
            "              l1_ratio=0.15, learning_rate='optimal', loss='hinge',\n",
            "              max_iter=1000, n_iter_no_change=5, n_jobs=None, penalty='l2',\n",
            "              power_t=0.5, random_state=None, shuffle=True, tol=0.001,\n",
            "              validation_fraction=0.1, verbose=0, warm_start=False)\n",
            "Precision:   0.53\n",
            "Recall:   0.50\n",
            "F1-measure:   0.36\n",
            "Accuracy:   0.56\n",
            "              precision    recall  f1-score   support\n",
            "\n",
            "           0       0.56      1.00      0.71      1242\n",
            "           1       0.50      0.00      0.00       993\n",
            "\n",
            "    accuracy                           0.56      2235\n",
            "   macro avg       0.53      0.50      0.36      2235\n",
            "weighted avg       0.53      0.56      0.40      2235\n",
            "\n"
          ],
          "name": "stdout"
        },
        {
          "output_type": "display_data",
          "data": {
            "image/png": "[encoded data removed]",
            "text/plain": [
              "<Figure size 432x288 with 1 Axes>"
            ]
          },
          "metadata": {
            "tags": [],
            "needs_background": "light"
          }
        },
        {
          "output_type": "stream",
          "text": [
            "SVC(C=1.0, break_ties=False, cache_size=200, class_weight=None, coef0=0.0,\n",
            "    decision_function_shape='ovr', degree=3, gamma='scale', kernel='rbf',\n",
            "    max_iter=-1, probability=False, random_state=42, shrinking=True, tol=0.001,\n",
            "    verbose=False)\n",
            "Precision:   0.28\n",
            "Recall:   0.50\n",
            "F1-measure:   0.36\n",
            "Accuracy:   0.56\n",
            "              precision    recall  f1-score   support\n",
            "\n",
            "           0       0.56      1.00      0.71      1242\n",
            "           1       0.00      0.00      0.00       993\n",
            "\n",
            "    accuracy                           0.56      2235\n",
            "   macro avg       0.28      0.50      0.36      2235\n",
            "weighted avg       0.31      0.56      0.40      2235\n",
            "\n"
          ],
          "name": "stdout"
        },
        {
          "output_type": "stream",
          "text": [
            "/usr/local/lib/python3.6/dist-packages/sklearn/metrics/_classification.py:1272: UndefinedMetricWarning: Precision is ill-defined and being set to 0.0 in labels with no predicted samples. Use `zero_division` parameter to control this behavior.\n",
            "  _warn_prf(average, modifier, msg_start, len(result))\n",
            "/usr/local/lib/python3.6/dist-packages/sklearn/metrics/_classification.py:1272: UndefinedMetricWarning: Precision and F-score are ill-defined and being set to 0.0 in labels with no predicted samples. Use `zero_division` parameter to control this behavior.\n",
            "  _warn_prf(average, modifier, msg_start, len(result))\n"
          ],
          "name": "stderr"
        },
        {
          "output_type": "display_data",
          "data": {
            "image/png": "[encoded data removed]",
            "text/plain": [
              "<Figure size 432x288 with 1 Axes>"
            ]
          },
          "metadata": {
            "tags": [],
            "needs_background": "light"
          }
        },
        {
          "output_type": "stream",
          "text": [
            "DecisionTreeClassifier(ccp_alpha=0.0, class_weight=None, criterion='gini',\n",
            "                       max_depth=None, max_features=None, max_leaf_nodes=None,\n",
            "                       min_impurity_decrease=0.0, min_impurity_split=None,\n",
            "                       min_samples_leaf=1, min_samples_split=2,\n",
            "                       min_weight_fraction_leaf=0.0, presort='deprecated',\n",
            "                       random_state=42, splitter='best')\n",
            "Precision:   0.50\n",
            "Recall:   0.50\n",
            "F1-measure:   0.50\n",
            "Accuracy:   0.51\n",
            "              precision    recall  f1-score   support\n",
            "\n",
            "           0       0.56      0.54      0.55      1242\n",
            "           1       0.45      0.46      0.45       993\n",
            "\n",
            "    accuracy                           0.51      2235\n",
            "   macro avg       0.50      0.50      0.50      2235\n",
            "weighted avg       0.51      0.51      0.51      2235\n",
            "\n"
          ],
          "name": "stdout"
        },
        {
          "output_type": "display_data",
          "data": {
            "image/png": "[encoded data removed]",
            "text/plain": [
              "<Figure size 432x288 with 1 Axes>"
            ]
          },
          "metadata": {
            "tags": [],
            "needs_background": "light"
          }
        }
      ]
    },
    {
      "cell_type": "markdown",
      "metadata": {
        "id": "I4ux4sWjNHDt"
      },
      "source": [
        "## Место для ваших экспериментов\n",
        "\n",
        "*   Что будет, если попробовать другие настройки tf-idf, другое количество признаков?\n",
        "*   Почему бы не использовать вектора word2vec для текстов? [Пример](http://nadbordrozd.github.io/blog/2016/05/20/text-classification-with-word2vec/) \n",
        "*   Подумайте, какие ограничения есть у линейных моделей, в которые мы передаем один вектор на все: текст, вопрос, ответ\n",
        "*   Предложите свои методики проверки соответствия ответа содержанию текста [Пример1](http://docs.deeppavlov.ai/en/0.0.6.5/components/tfidf_ranking.html) [Пример2](https://medium.com/deeppavlov/open-domain-question-answering-with-deeppavlov-c665d2ee4d65)\n",
        "\n"
      ]
    },
    {
      "cell_type": "code",
      "metadata": {
        "id": "Vq-OkAH8NHab"
      },
      "source": [
        ""
      ],
      "execution_count": null,
      "outputs": []
    },
    {
      "cell_type": "markdown",
      "metadata": {
        "id": "VRk8O3czWnDL"
      },
      "source": [
        "## Попробуем BERT\n",
        "\n",
        "Перезапустите среду выполнения! И тут лучше переключиться на GPU!\n",
        "\n",
        "Установите все библиотеки ниже, и затем заново загрузите данные, импортируйте sklearn - так вы избежите конфликта версий"
      ]
    },
    {
      "cell_type": "code",
      "metadata": {
        "colab": {
          "base_uri": "https://localhost:8080/",
          "height": 1000
        },
        "id": "k9WPQJzfWrqm",
        "outputId": "628fd0b4-474f-4667-d385-cc1af8d584e0"
      },
      "source": [
        "!pip install transformers\n",
        "!pip install tensorboardx\n",
        "!pip install simpletransformers"
      ],
      "execution_count": null,
      "outputs": [
        {
          "output_type": "stream",
          "text": [
            "Collecting transformers\n",
            "\u001b[?25l  Downloading https://files.pythonhosted.org/packages/3a/83/e74092e7f24a08d751aa59b37a9fc572b2e4af3918cb66f7766c3affb1b4/transformers-3.5.1-py3-none-any.whl (1.3MB)\n",
            "\u001b[K     |████████████████████████████████| 1.3MB 7.4MB/s \n",
            "\u001b[?25hRequirement already satisfied: numpy in /usr/local/lib/python3.6/dist-packages (from transformers) (1.18.5)\n",
            "Requirement already satisfied: packaging in /usr/local/lib/python3.6/dist-packages (from transformers) (20.4)\n",
            "Requirement already satisfied: protobuf in /usr/local/lib/python3.6/dist-packages (from transformers) (3.12.4)\n",
            "Requirement already satisfied: requests in /usr/local/lib/python3.6/dist-packages (from transformers) (2.23.0)\n",
            "Collecting sacremoses\n",
            "\u001b[?25l  Downloading https://files.pythonhosted.org/packages/7d/34/09d19aff26edcc8eb2a01bed8e98f13a1537005d31e95233fd48216eed10/sacremoses-0.0.43.tar.gz (883kB)\n",
            "\u001b[K     |████████████████████████████████| 890kB 38.0MB/s \n",
            "\u001b[?25hRequirement already satisfied: dataclasses; python_version < \"3.7\" in /usr/local/lib/python3.6/dist-packages (from transformers) (0.8)\n",
            "Collecting sentencepiece==0.1.91\n",
            "\u001b[?25l  Downloading https://files.pythonhosted.org/packages/d4/a4/d0a884c4300004a78cca907a6ff9a5e9fe4f090f5d95ab341c53d28cbc58/sentencepiece-0.1.91-cp36-cp36m-manylinux1_x86_64.whl (1.1MB)\n",
            "\u001b[K     |████████████████████████████████| 1.1MB 44.7MB/s \n",
            "\u001b[?25hCollecting tokenizers==0.9.3\n",
            "\u001b[?25l  Downloading https://files.pythonhosted.org/packages/4c/34/b39eb9994bc3c999270b69c9eea40ecc6f0e97991dba28282b9fd32d44ee/tokenizers-0.9.3-cp36-cp36m-manylinux1_x86_64.whl (2.9MB)\n",
            "\u001b[K     |████████████████████████████████| 2.9MB 51.6MB/s \n",
            "\u001b[?25hRequirement already satisfied: regex!=2019.12.17 in /usr/local/lib/python3.6/dist-packages (from transformers) (2019.12.20)\n",
            "Requirement already satisfied: filelock in /usr/local/lib/python3.6/dist-packages (from transformers) (3.0.12)\n",
            "Requirement already satisfied: tqdm>=4.27 in /usr/local/lib/python3.6/dist-packages (from transformers) (4.41.1)\n",
            "Requirement already satisfied: pyparsing>=2.0.2 in /usr/local/lib/python3.6/dist-packages (from packaging->transformers) (2.4.7)\n",
            "Requirement already satisfied: six in /usr/local/lib/python3.6/dist-packages (from packaging->transformers) (1.15.0)\n",
            "Requirement already satisfied: setuptools in /usr/local/lib/python3.6/dist-packages (from protobuf->transformers) (50.3.2)\n",
            "Requirement already satisfied: chardet<4,>=3.0.2 in /usr/local/lib/python3.6/dist-packages (from requests->transformers) (3.0.4)\n",
            "Requirement already satisfied: idna<3,>=2.5 in /usr/local/lib/python3.6/dist-packages (from requests->transformers) (2.10)\n",
            "Requirement already satisfied: certifi>=2017.4.17 in /usr/local/lib/python3.6/dist-packages (from requests->transformers) (2020.11.8)\n",
            "Requirement already satisfied: urllib3!=1.25.0,!=1.25.1,<1.26,>=1.21.1 in /usr/local/lib/python3.6/dist-packages (from requests->transformers) (1.24.3)\n",
            "Requirement already satisfied: click in /usr/local/lib/python3.6/dist-packages (from sacremoses->transformers) (7.1.2)\n",
            "Requirement already satisfied: joblib in /usr/local/lib/python3.6/dist-packages (from sacremoses->transformers) (0.17.0)\n",
            "Building wheels for collected packages: sacremoses\n",
            "  Building wheel for sacremoses (setup.py) ... \u001b[?25l\u001b[?25hdone\n",
            "  Created wheel for sacremoses: filename=sacremoses-0.0.43-cp36-none-any.whl size=893257 sha256=fbabc76fd9c3695c855c97a718e881e8ec0a45688446ffdb1c00d65fe2e0919d\n",
            "  Stored in directory: /root/.cache/pip/wheels/29/3c/fd/7ce5c3f0666dab31a50123635e6fb5e19ceb42ce38d4e58f45\n",
            "Successfully built sacremoses\n",
            "Installing collected packages: sacremoses, sentencepiece, tokenizers, transformers\n",
            "Successfully installed sacremoses-0.0.43 sentencepiece-0.1.91 tokenizers-0.9.3 transformers-3.5.1\n",
            "Collecting tensorboardx\n",
            "\u001b[?25l  Downloading https://files.pythonhosted.org/packages/af/0c/4f41bcd45db376e6fe5c619c01100e9b7531c55791b7244815bac6eac32c/tensorboardX-2.1-py2.py3-none-any.whl (308kB)\n",
            "\u001b[K     |████████████████████████████████| 317kB 9.0MB/s \n",
            "\u001b[?25hRequirement already satisfied: protobuf>=3.8.0 in /usr/local/lib/python3.6/dist-packages (from tensorboardx) (3.12.4)\n",
            "Requirement already satisfied: six in /usr/local/lib/python3.6/dist-packages (from tensorboardx) (1.15.0)\n",
            "Requirement already satisfied: numpy in /usr/local/lib/python3.6/dist-packages (from tensorboardx) (1.18.5)\n",
            "Requirement already satisfied: setuptools in /usr/local/lib/python3.6/dist-packages (from protobuf>=3.8.0->tensorboardx) (50.3.2)\n",
            "Installing collected packages: tensorboardx\n",
            "Successfully installed tensorboardx-2.1\n",
            "Collecting simpletransformers\n",
            "\u001b[?25l  Downloading https://files.pythonhosted.org/packages/5f/df/84cbfdeb2d49b48265e6186219147c379b98e2caa67ed5b735e0a03f4336/simpletransformers-0.49.3-py3-none-any.whl (219kB)\n",
            "\u001b[K     |████████████████████████████████| 225kB 8.1MB/s \n",
            "\u001b[?25hCollecting tqdm>=4.47.0\n",
            "\u001b[?25l  Downloading https://files.pythonhosted.org/packages/02/bc/857fff709f7ce9eabdc502d6fa71f4b7e964200b1bcd00f0a2f59667d1bf/tqdm-4.53.0-py2.py3-none-any.whl (70kB)\n",
            "\u001b[K     |████████████████████████████████| 71kB 5.4MB/s \n",
            "\u001b[?25hRequirement already satisfied: scikit-learn in /usr/local/lib/python3.6/dist-packages (from simpletransformers) (0.22.2.post1)\n",
            "Requirement already satisfied: numpy in /usr/local/lib/python3.6/dist-packages (from simpletransformers) (1.18.5)\n",
            "Collecting seqeval\n",
            "\u001b[?25l  Downloading https://files.pythonhosted.org/packages/9d/2d/233c79d5b4e5ab1dbf111242299153f3caddddbb691219f363ad55ce783d/seqeval-1.2.2.tar.gz (43kB)\n",
            "\u001b[K     |████████████████████████████████| 51kB 6.3MB/s \n",
            "\u001b[?25hRequirement already satisfied: pandas in /usr/local/lib/python3.6/dist-packages (from simpletransformers) (1.1.4)\n",
            "Requirement already satisfied: scipy in /usr/local/lib/python3.6/dist-packages (from simpletransformers) (1.4.1)\n",
            "Requirement already satisfied: tensorboardx in /usr/local/lib/python3.6/dist-packages (from simpletransformers) (2.1)\n",
            "Collecting wandb\n",
            "\u001b[?25l  Downloading https://files.pythonhosted.org/packages/93/7c/bf3cba8513f02c92fff0f0dab49846f1aa3da93c71fb4de7f34f501d15f0/wandb-0.10.11-py2.py3-none-any.whl (1.8MB)\n",
            "\u001b[K     |████████████████████████████████| 1.8MB 12.5MB/s \n",
            "\u001b[?25hRequirement already satisfied: transformers>=3.0.2 in /usr/local/lib/python3.6/dist-packages (from simpletransformers) (3.5.1)\n",
            "Requirement already satisfied: requests in /usr/local/lib/python3.6/dist-packages (from simpletransformers) (2.23.0)\n",
            "Requirement already satisfied: tokenizers in /usr/local/lib/python3.6/dist-packages (from simpletransformers) (0.9.3)\n",
            "Requirement already satisfied: regex in /usr/local/lib/python3.6/dist-packages (from simpletransformers) (2019.12.20)\n",
            "Collecting streamlit\n",
            "\u001b[?25l  Downloading https://files.pythonhosted.org/packages/f9/91/5b62c39a4e382e1c376405e73891c4426af576f507281bc2bb896ac1d028/streamlit-0.71.0-py2.py3-none-any.whl (7.4MB)\n",
            "\u001b[K     |████████████████████████████████| 7.4MB 37.4MB/s \n",
            "\u001b[?25hRequirement already satisfied: joblib>=0.11 in /usr/local/lib/python3.6/dist-packages (from scikit-learn->simpletransformers) (0.17.0)\n",
            "Requirement already satisfied: python-dateutil>=2.7.3 in /usr/local/lib/python3.6/dist-packages (from pandas->simpletransformers) (2.8.1)\n",
            "Requirement already satisfied: pytz>=2017.2 in /usr/local/lib/python3.6/dist-packages (from pandas->simpletransformers) (2018.9)\n",
            "Requirement already satisfied: six in /usr/local/lib/python3.6/dist-packages (from tensorboardx->simpletransformers) (1.15.0)\n",
            "Requirement already satisfied: protobuf>=3.8.0 in /usr/local/lib/python3.6/dist-packages (from tensorboardx->simpletransformers) (3.12.4)\n",
            "Collecting watchdog>=0.8.3\n",
            "\u001b[?25l  Downloading https://files.pythonhosted.org/packages/6f/10/500580a0987363a0d9e1f3dd5cb1bba94a47e19266c6ce9dfb6cdd455758/watchdog-0.10.4.tar.gz (98kB)\n",
            "\u001b[K     |████████████████████████████████| 102kB 14.0MB/s \n",
            "\u001b[?25hRequirement already satisfied: psutil>=5.0.0 in /usr/local/lib/python3.6/dist-packages (from wandb->simpletransformers) (5.4.8)\n",
            "Collecting shortuuid>=0.5.0\n",
            "  Downloading https://files.pythonhosted.org/packages/25/a6/2ecc1daa6a304e7f1b216f0896b26156b78e7c38e1211e9b798b4716c53d/shortuuid-1.0.1-py3-none-any.whl\n",
            "Requirement already satisfied: PyYAML in /usr/local/lib/python3.6/dist-packages (from wandb->simpletransformers) (3.13)\n",
            "Collecting GitPython>=1.0.0\n",
            "\u001b[?25l  Downloading https://files.pythonhosted.org/packages/24/d1/a7f8fe3df258549b303415157328bfcc63e9b11d06a7ad7a3327f3d32606/GitPython-3.1.11-py3-none-any.whl (159kB)\n",
            "\u001b[K     |████████████████████████████████| 163kB 58.2MB/s \n",
            "\u001b[?25hRequirement already satisfied: promise<3,>=2.0 in /usr/local/lib/python3.6/dist-packages (from wandb->simpletransformers) (2.3)\n",
            "Collecting docker-pycreds>=0.4.0\n",
            "  Downloading https://files.pythonhosted.org/packages/f5/e8/f6bd1eee09314e7e6dee49cbe2c5e22314ccdb38db16c9fc72d2fa80d054/docker_pycreds-0.4.0-py2.py3-none-any.whl\n",
            "Collecting subprocess32>=3.5.3\n",
            "\u001b[?25l  Downloading https://files.pythonhosted.org/packages/32/c8/564be4d12629b912ea431f1a50eb8b3b9d00f1a0b1ceff17f266be190007/subprocess32-3.5.4.tar.gz (97kB)\n",
            "\u001b[K     |████████████████████████████████| 102kB 13.2MB/s \n",
            "\u001b[?25hCollecting configparser>=3.8.1\n",
            "  Downloading https://files.pythonhosted.org/packages/08/b2/ef713e0e67f6e7ec7d59aea3ee78d05b39c15930057e724cc6d362a8c3bb/configparser-5.0.1-py3-none-any.whl\n",
            "Requirement already satisfied: Click>=7.0 in /usr/local/lib/python3.6/dist-packages (from wandb->simpletransformers) (7.1.2)\n",
            "Collecting sentry-sdk>=0.4.0\n",
            "\u001b[?25l  Downloading https://files.pythonhosted.org/packages/61/e1/3a9f8ca1009fc6a1e850801f2386e9d88b95147218cbe8c33bc4d60b3695/sentry_sdk-0.19.4-py2.py3-none-any.whl (128kB)\n",
            "\u001b[K     |████████████████████████████████| 133kB 52.5MB/s \n",
            "\u001b[?25hRequirement already satisfied: sentencepiece==0.1.91 in /usr/local/lib/python3.6/dist-packages (from transformers>=3.0.2->simpletransformers) (0.1.91)\n",
            "Requirement already satisfied: dataclasses; python_version < \"3.7\" in /usr/local/lib/python3.6/dist-packages (from transformers>=3.0.2->simpletransformers) (0.8)\n",
            "Requirement already satisfied: filelock in /usr/local/lib/python3.6/dist-packages (from transformers>=3.0.2->simpletransformers) (3.0.12)\n",
            "Requirement already satisfied: sacremoses in /usr/local/lib/python3.6/dist-packages (from transformers>=3.0.2->simpletransformers) (0.0.43)\n",
            "Requirement already satisfied: packaging in /usr/local/lib/python3.6/dist-packages (from transformers>=3.0.2->simpletransformers) (20.4)\n",
            "Requirement already satisfied: urllib3!=1.25.0,!=1.25.1,<1.26,>=1.21.1 in /usr/local/lib/python3.6/dist-packages (from requests->simpletransformers) (1.24.3)\n",
            "Requirement already satisfied: idna<3,>=2.5 in /usr/local/lib/python3.6/dist-packages (from requests->simpletransformers) (2.10)\n",
            "Requirement already satisfied: chardet<4,>=3.0.2 in /usr/local/lib/python3.6/dist-packages (from requests->simpletransformers) (3.0.4)\n",
            "Requirement already satisfied: certifi>=2017.4.17 in /usr/local/lib/python3.6/dist-packages (from requests->simpletransformers) (2020.11.8)\n",
            "Collecting botocore>=1.13.44\n",
            "\u001b[?25l  Downloading https://files.pythonhosted.org/packages/ef/d5/c0c33ca15e31062220ac5964f3492409eaf90a5cf5399503cd8264f2f8e9/botocore-1.19.25-py2.py3-none-any.whl (6.9MB)\n",
            "\u001b[K     |████████████████████████████████| 6.9MB 40.2MB/s \n",
            "\u001b[?25hRequirement already satisfied: toml in /usr/local/lib/python3.6/dist-packages (from streamlit->simpletransformers) (0.10.2)\n",
            "Requirement already satisfied: cachetools>=4.0 in /usr/local/lib/python3.6/dist-packages (from streamlit->simpletransformers) (4.1.1)\n",
            "Requirement already satisfied: astor in /usr/local/lib/python3.6/dist-packages (from streamlit->simpletransformers) (0.8.1)\n",
            "Collecting validators\n",
            "  Downloading https://files.pythonhosted.org/packages/41/4a/3360ff3cf2b4a1b9721ac1fbff5f84663f41047d9874b3aa1ac82e862c44/validators-0.18.1-py3-none-any.whl\n",
            "Requirement already satisfied: pyarrow in /usr/local/lib/python3.6/dist-packages (from streamlit->simpletransformers) (0.14.1)\n",
            "Requirement already satisfied: pillow>=6.2.0 in /usr/local/lib/python3.6/dist-packages (from streamlit->simpletransformers) (7.0.0)\n",
            "Collecting pydeck>=0.1.dev5\n",
            "\u001b[?25l  Downloading https://files.pythonhosted.org/packages/9e/9d/8fbf1f56cc5891e6c3295bf94fc176e9ab0a3ffdd090cc8b354ac2640f9a/pydeck-0.5.0-py2.py3-none-any.whl (4.5MB)\n",
            "\u001b[K     |████████████████████████████████| 4.5MB 59.2MB/s \n",
            "\u001b[?25hRequirement already satisfied: altair>=3.2.0 in /usr/local/lib/python3.6/dist-packages (from streamlit->simpletransformers) (4.1.0)\n",
            "Requirement already satisfied: tornado>=5.0 in /usr/local/lib/python3.6/dist-packages (from streamlit->simpletransformers) (5.1.1)\n",
            "Collecting enum-compat\n",
            "  Downloading https://files.pythonhosted.org/packages/55/ae/467bc4509246283bb59746e21a1a2f5a8aecbef56b1fa6eaca78cd438c8b/enum_compat-0.0.3-py3-none-any.whl\n",
            "Collecting blinker\n",
            "\u001b[?25l  Downloading https://files.pythonhosted.org/packages/1b/51/e2a9f3b757eb802f61dc1f2b09c8c99f6eb01cf06416c0671253536517b6/blinker-1.4.tar.gz (111kB)\n",
            "\u001b[K     |████████████████████████████████| 112kB 54.4MB/s \n",
            "\u001b[?25hCollecting base58\n",
            "  Downloading https://files.pythonhosted.org/packages/3c/03/58572025c77b9e6027155b272a1b96298e711cd4f95c24967f7137ab0c4b/base58-2.0.1-py3-none-any.whl\n",
            "Requirement already satisfied: tzlocal in /usr/local/lib/python3.6/dist-packages (from streamlit->simpletransformers) (1.5.1)\n",
            "Collecting boto3\n",
            "\u001b[?25l  Downloading https://files.pythonhosted.org/packages/59/7f/4ade91fbb684c6f28a6e56028d9f9d2de4297761850d083579779f07c0de/boto3-1.16.25-py2.py3-none-any.whl (129kB)\n",
            "\u001b[K     |████████████████████████████████| 133kB 62.8MB/s \n",
            "\u001b[?25hRequirement already satisfied: setuptools in /usr/local/lib/python3.6/dist-packages (from protobuf>=3.8.0->tensorboardx->simpletransformers) (50.3.2)\n",
            "Collecting pathtools>=0.1.1\n",
            "  Downloading https://files.pythonhosted.org/packages/e7/7f/470d6fcdf23f9f3518f6b0b76be9df16dcc8630ad409947f8be2eb0ed13a/pathtools-0.1.2.tar.gz\n",
            "Collecting gitdb<5,>=4.0.1\n",
            "\u001b[?25l  Downloading https://files.pythonhosted.org/packages/48/11/d1800bca0a3bae820b84b7d813ad1eff15a48a64caea9c823fc8c1b119e8/gitdb-4.0.5-py3-none-any.whl (63kB)\n",
            "\u001b[K     |████████████████████████████████| 71kB 10.8MB/s \n",
            "\u001b[?25hRequirement already satisfied: pyparsing>=2.0.2 in /usr/local/lib/python3.6/dist-packages (from packaging->transformers>=3.0.2->simpletransformers) (2.4.7)\n",
            "Collecting jmespath<1.0.0,>=0.7.1\n",
            "  Downloading https://files.pythonhosted.org/packages/07/cb/5f001272b6faeb23c1c9e0acc04d48eaaf5c862c17709d20e3469c6e0139/jmespath-0.10.0-py2.py3-none-any.whl\n",
            "Requirement already satisfied: decorator>=3.4.0 in /usr/local/lib/python3.6/dist-packages (from validators->streamlit->simpletransformers) (4.4.2)\n",
            "Requirement already satisfied: ipywidgets>=7.0.0 in /usr/local/lib/python3.6/dist-packages (from pydeck>=0.1.dev5->streamlit->simpletransformers) (7.5.1)\n",
            "Collecting ipykernel>=5.1.2; python_version >= \"3.4\"\n",
            "\u001b[?25l  Downloading https://files.pythonhosted.org/packages/52/19/c2812690d8b340987eecd2cbc18549b1d130b94c5d97fcbe49f5f8710edf/ipykernel-5.3.4-py3-none-any.whl (120kB)\n",
            "\u001b[K     |████████████████████████████████| 122kB 56.6MB/s \n",
            "\u001b[?25hRequirement already satisfied: traitlets>=4.3.2 in /usr/local/lib/python3.6/dist-packages (from pydeck>=0.1.dev5->streamlit->simpletransformers) (4.3.3)\n",
            "Requirement already satisfied: jinja2>=2.10.1 in /usr/local/lib/python3.6/dist-packages (from pydeck>=0.1.dev5->streamlit->simpletransformers) (2.11.2)\n",
            "Requirement already satisfied: toolz in /usr/local/lib/python3.6/dist-packages (from altair>=3.2.0->streamlit->simpletransformers) (0.11.1)\n",
            "Requirement already satisfied: entrypoints in /usr/local/lib/python3.6/dist-packages (from altair>=3.2.0->streamlit->simpletransformers) (0.3)\n",
            "Requirement already satisfied: jsonschema in /usr/local/lib/python3.6/dist-packages (from altair>=3.2.0->streamlit->simpletransformers) (2.6.0)\n",
            "Collecting s3transfer<0.4.0,>=0.3.0\n",
            "\u001b[?25l  Downloading https://files.pythonhosted.org/packages/69/79/e6afb3d8b0b4e96cefbdc690f741d7dd24547ff1f94240c997a26fa908d3/s3transfer-0.3.3-py2.py3-none-any.whl (69kB)\n",
            "\u001b[K     |████████████████████████████████| 71kB 11.4MB/s \n",
            "\u001b[?25hCollecting smmap<4,>=3.0.1\n",
            "  Downloading https://files.pythonhosted.org/packages/b0/9a/4d409a6234eb940e6a78dfdfc66156e7522262f5f2fecca07dc55915952d/smmap-3.0.4-py2.py3-none-any.whl\n",
            "Requirement already satisfied: ipython>=4.0.0; python_version >= \"3.3\" in /usr/local/lib/python3.6/dist-packages (from ipywidgets>=7.0.0->pydeck>=0.1.dev5->streamlit->simpletransformers) (5.5.0)\n",
            "Requirement already satisfied: widgetsnbextension~=3.5.0 in /usr/local/lib/python3.6/dist-packages (from ipywidgets>=7.0.0->pydeck>=0.1.dev5->streamlit->simpletransformers) (3.5.1)\n",
            "Requirement already satisfied: nbformat>=4.2.0 in /usr/local/lib/python3.6/dist-packages (from ipywidgets>=7.0.0->pydeck>=0.1.dev5->streamlit->simpletransformers) (5.0.8)\n",
            "Requirement already satisfied: jupyter-client in /usr/local/lib/python3.6/dist-packages (from ipykernel>=5.1.2; python_version >= \"3.4\"->pydeck>=0.1.dev5->streamlit->simpletransformers) (5.3.5)\n",
            "Requirement already satisfied: ipython-genutils in /usr/local/lib/python3.6/dist-packages (from traitlets>=4.3.2->pydeck>=0.1.dev5->streamlit->simpletransformers) (0.2.0)\n",
            "Requirement already satisfied: MarkupSafe>=0.23 in /usr/local/lib/python3.6/dist-packages (from jinja2>=2.10.1->pydeck>=0.1.dev5->streamlit->simpletransformers) (1.1.1)\n",
            "Requirement already satisfied: prompt-toolkit<2.0.0,>=1.0.4 in /usr/local/lib/python3.6/dist-packages (from ipython>=4.0.0; python_version >= \"3.3\"->ipywidgets>=7.0.0->pydeck>=0.1.dev5->streamlit->simpletransformers) (1.0.18)\n",
            "Requirement already satisfied: pickleshare in /usr/local/lib/python3.6/dist-packages (from ipython>=4.0.0; python_version >= \"3.3\"->ipywidgets>=7.0.0->pydeck>=0.1.dev5->streamlit->simpletransformers) (0.7.5)\n",
            "Requirement already satisfied: simplegeneric>0.8 in /usr/local/lib/python3.6/dist-packages (from ipython>=4.0.0; python_version >= \"3.3\"->ipywidgets>=7.0.0->pydeck>=0.1.dev5->streamlit->simpletransformers) (0.8.1)\n",
            "Requirement already satisfied: pygments in /usr/local/lib/python3.6/dist-packages (from ipython>=4.0.0; python_version >= \"3.3\"->ipywidgets>=7.0.0->pydeck>=0.1.dev5->streamlit->simpletransformers) (2.6.1)\n",
            "Requirement already satisfied: pexpect; sys_platform != \"win32\" in /usr/local/lib/python3.6/dist-packages (from ipython>=4.0.0; python_version >= \"3.3\"->ipywidgets>=7.0.0->pydeck>=0.1.dev5->streamlit->simpletransformers) (4.8.0)\n",
            "Requirement already satisfied: notebook>=4.4.1 in /usr/local/lib/python3.6/dist-packages (from widgetsnbextension~=3.5.0->ipywidgets>=7.0.0->pydeck>=0.1.dev5->streamlit->simpletransformers) (5.3.1)\n",
            "Requirement already satisfied: jupyter-core in /usr/local/lib/python3.6/dist-packages (from nbformat>=4.2.0->ipywidgets>=7.0.0->pydeck>=0.1.dev5->streamlit->simpletransformers) (4.7.0)\n",
            "Requirement already satisfied: pyzmq>=13 in /usr/local/lib/python3.6/dist-packages (from jupyter-client->ipykernel>=5.1.2; python_version >= \"3.4\"->pydeck>=0.1.dev5->streamlit->simpletransformers) (20.0.0)\n",
            "Requirement already satisfied: wcwidth in /usr/local/lib/python3.6/dist-packages (from prompt-toolkit<2.0.0,>=1.0.4->ipython>=4.0.0; python_version >= \"3.3\"->ipywidgets>=7.0.0->pydeck>=0.1.dev5->streamlit->simpletransformers) (0.2.5)\n",
            "Requirement already satisfied: ptyprocess>=0.5 in /usr/local/lib/python3.6/dist-packages (from pexpect; sys_platform != \"win32\"->ipython>=4.0.0; python_version >= \"3.3\"->ipywidgets>=7.0.0->pydeck>=0.1.dev5->streamlit->simpletransformers) (0.6.0)\n",
            "Requirement already satisfied: Send2Trash in /usr/local/lib/python3.6/dist-packages (from notebook>=4.4.1->widgetsnbextension~=3.5.0->ipywidgets>=7.0.0->pydeck>=0.1.dev5->streamlit->simpletransformers) (1.5.0)\n",
            "Requirement already satisfied: nbconvert in /usr/local/lib/python3.6/dist-packages (from notebook>=4.4.1->widgetsnbextension~=3.5.0->ipywidgets>=7.0.0->pydeck>=0.1.dev5->streamlit->simpletransformers) (5.6.1)\n",
            "Requirement already satisfied: terminado>=0.8.1 in /usr/local/lib/python3.6/dist-packages (from notebook>=4.4.1->widgetsnbextension~=3.5.0->ipywidgets>=7.0.0->pydeck>=0.1.dev5->streamlit->simpletransformers) (0.9.1)\n",
            "Requirement already satisfied: testpath in /usr/local/lib/python3.6/dist-packages (from nbconvert->notebook>=4.4.1->widgetsnbextension~=3.5.0->ipywidgets>=7.0.0->pydeck>=0.1.dev5->streamlit->simpletransformers) (0.4.4)\n",
            "Requirement already satisfied: bleach in /usr/local/lib/python3.6/dist-packages (from nbconvert->notebook>=4.4.1->widgetsnbextension~=3.5.0->ipywidgets>=7.0.0->pydeck>=0.1.dev5->streamlit->simpletransformers) (3.2.1)\n",
            "Requirement already satisfied: pandocfilters>=1.4.1 in /usr/local/lib/python3.6/dist-packages (from nbconvert->notebook>=4.4.1->widgetsnbextension~=3.5.0->ipywidgets>=7.0.0->pydeck>=0.1.dev5->streamlit->simpletransformers) (1.4.3)\n",
            "Requirement already satisfied: defusedxml in /usr/local/lib/python3.6/dist-packages (from nbconvert->notebook>=4.4.1->widgetsnbextension~=3.5.0->ipywidgets>=7.0.0->pydeck>=0.1.dev5->streamlit->simpletransformers) (0.6.0)\n",
            "Requirement already satisfied: mistune<2,>=0.8.1 in /usr/local/lib/python3.6/dist-packages (from nbconvert->notebook>=4.4.1->widgetsnbextension~=3.5.0->ipywidgets>=7.0.0->pydeck>=0.1.dev5->streamlit->simpletransformers) (0.8.4)\n",
            "Requirement already satisfied: webencodings in /usr/local/lib/python3.6/dist-packages (from bleach->nbconvert->notebook>=4.4.1->widgetsnbextension~=3.5.0->ipywidgets>=7.0.0->pydeck>=0.1.dev5->streamlit->simpletransformers) (0.5.1)\n",
            "Building wheels for collected packages: seqeval, watchdog, subprocess32, blinker, pathtools\n",
            "  Building wheel for seqeval (setup.py) ... \u001b[?25l\u001b[?25hdone\n",
            "  Created wheel for seqeval: filename=seqeval-1.2.2-cp36-none-any.whl size=16171 sha256=8c09f2118802f74978a07293d91b4012113642db8ec40389d4108545b8c59451\n",
            "  Stored in directory: /root/.cache/pip/wheels/52/df/1b/45d75646c37428f7e626214704a0e35bd3cfc32eda37e59e5f\n",
            "  Building wheel for watchdog (setup.py) ... \u001b[?25l\u001b[?25hdone\n",
            "  Created wheel for watchdog: filename=watchdog-0.10.4-cp36-none-any.whl size=74841 sha256=e93342bda143e2a0c482cbb3e658cd708b667c58ac4cdeb9138c9d0f7f5417ab\n",
            "  Stored in directory: /root/.cache/pip/wheels/9e/11/04/5160b8815b0cc7cf574bdc6d053e510169ec264c8791b4ec3a\n",
            "  Building wheel for subprocess32 (setup.py) ... \u001b[?25l\u001b[?25hdone\n",
            "  Created wheel for subprocess32: filename=subprocess32-3.5.4-cp36-none-any.whl size=6489 sha256=ee9caa02bc79e26f6af96066e7dd26e5abe8815680a51e0e05e5db02ae79a0b3\n",
            "  Stored in directory: /root/.cache/pip/wheels/68/39/1a/5e402bdfdf004af1786c8b853fd92f8c4a04f22aad179654d1\n",
            "  Building wheel for blinker (setup.py) ... \u001b[?25l\u001b[?25hdone\n",
            "  Created wheel for blinker: filename=blinker-1.4-cp36-none-any.whl size=13450 sha256=78fedf905938577111711ebaee3085da5bd06ef1f8a5fa19652dc7db6ecefe5b\n",
            "  Stored in directory: /root/.cache/pip/wheels/92/a0/00/8690a57883956a301d91cf4ec999cc0b258b01e3f548f86e89\n",
            "  Building wheel for pathtools (setup.py) ... \u001b[?25l\u001b[?25hdone\n",
            "  Created wheel for pathtools: filename=pathtools-0.1.2-cp36-none-any.whl size=8785 sha256=881cc5f260e47f6eb50d18f35a7461af6a47b338a422daf2a3ffa58f9ea1599b\n",
            "  Stored in directory: /root/.cache/pip/wheels/0b/04/79/c3b0c3a0266a3cb4376da31e5bfe8bba0c489246968a68e843\n",
            "Successfully built seqeval watchdog subprocess32 blinker pathtools\n",
            "\u001b[31mERROR: google-colab 1.0.0 has requirement ipykernel~=4.10, but you'll have ipykernel 5.3.4 which is incompatible.\u001b[0m\n",
            "\u001b[31mERROR: botocore 1.19.25 has requirement urllib3<1.27,>=1.25.4; python_version != \"3.4\", but you'll have urllib3 1.24.3 which is incompatible.\u001b[0m\n",
            "Installing collected packages: tqdm, seqeval, pathtools, watchdog, shortuuid, smmap, gitdb, GitPython, docker-pycreds, subprocess32, configparser, sentry-sdk, wandb, jmespath, botocore, validators, ipykernel, pydeck, enum-compat, blinker, base58, s3transfer, boto3, streamlit, simpletransformers\n",
            "  Found existing installation: tqdm 4.41.1\n",
            "    Uninstalling tqdm-4.41.1:\n",
            "      Successfully uninstalled tqdm-4.41.1\n",
            "  Found existing installation: ipykernel 4.10.1\n",
            "    Uninstalling ipykernel-4.10.1:\n",
            "      Successfully uninstalled ipykernel-4.10.1\n",
            "Successfully installed GitPython-3.1.11 base58-2.0.1 blinker-1.4 boto3-1.16.25 botocore-1.19.25 configparser-5.0.1 docker-pycreds-0.4.0 enum-compat-0.0.3 gitdb-4.0.5 ipykernel-5.3.4 jmespath-0.10.0 pathtools-0.1.2 pydeck-0.5.0 s3transfer-0.3.3 sentry-sdk-0.19.4 seqeval-1.2.2 shortuuid-1.0.1 simpletransformers-0.49.3 smmap-3.0.4 streamlit-0.71.0 subprocess32-3.5.4 tqdm-4.53.0 validators-0.18.1 wandb-0.10.11 watchdog-0.10.4\n"
          ],
          "name": "stdout"
        },
        {
          "output_type": "display_data",
          "data": {
            "application/vnd.colab-display-data+json": {
              "pip_warning": {
                "packages": [
                  "ipykernel"
                ]
              }
            }
          },
          "metadata": {
            "tags": []
          }
        }
      ]
    },
    {
      "cell_type": "code",
      "metadata": {
        "colab": {
          "base_uri": "https://localhost:8080/"
        },
        "id": "W4OfN_I6X0W8",
        "outputId": "40267b8f-12ac-4d70-ddaf-4126de3c28c2"
      },
      "source": [
        "train_df = pd.DataFrame({\n",
        "    'text': X_train,\n",
        "    'label':y_train\n",
        "})\n",
        "\n",
        "print(train_df.head())\n",
        "\n",
        "eval_df = pd.DataFrame({\n",
        "    'text': X_test,\n",
        "    'label': y_test\n",
        "})\n",
        "\n",
        "print(eval_df.head())"
      ],
      "execution_count": null,
      "outputs": [
        {
          "output_type": "stream",
          "text": [
            "                                                text  label\n",
            "0  (1) Но люди не могут существовать без природы,...      1\n",
            "1  (1) Но люди не могут существовать без природы,...      0\n",
            "2  (1) Но люди не могут существовать без природы,...      0\n",
            "3  (1) Но люди не могут существовать без природы,...      1\n",
            "4  (1) Но люди не могут существовать без природы,...      0\n",
            "                                                text  label\n",
            "0  (1) Самый первый «остров» Архипелага возник в ...      1\n",
            "1  (1) Самый первый «остров» Архипелага возник в ...      0\n",
            "2  (1) Самый первый «остров» Архипелага возник в ...      0\n",
            "3  (1) Самый первый «остров» Архипелага возник в ...      0\n",
            "4  (1) Самый первый «остров» Архипелага возник в ...      1\n"
          ],
          "name": "stdout"
        }
      ]
    },
    {
      "cell_type": "code",
      "metadata": {
        "id": "u5Cq9F1Vae7N"
      },
      "source": [
        "from simpletransformers.classification import ClassificationModel"
      ],
      "execution_count": null,
      "outputs": []
    },
    {
      "cell_type": "code",
      "metadata": {
        "colab": {
          "base_uri": "https://localhost:8080/",
          "height": 416,
          "referenced_widgets": [
            "8acff3c86bb3493090824d59362606f2",
            "2343341d18674790b7115f4a1b594420",
            "0a2646229436415ca67bb0e561442e5c",
            "6ec6d5cbd2194609aa07e2b3f5fc3d89",
            "fc7b624fa935405d941de24cc86cc2c8",
            "087028c28127455fa717f60d735fd26c",
            "ac888c55fc524b739c0e5a0c90484471",
            "cf239953458e4f16b42b3c388db1d7a8",
            "1a062f8ed89b4824bf1fb28ce312ae76",
            "2b0d42dcea194003903807f24e393e40",
            "96a1fb8fcb02460bac5fab46501b3438",
            "57af97638ea4405caa734c82469a9669",
            "49d0048865d640fda0f705d54ecb98f6",
            "e3b3f8cc3d424ae6b8dbbbcdaca2c163",
            "ef4c2d519fb64d57989f63d655d5462f",
            "536545c885834f37aa81d56a3b9f13c0",
            "8b87453b88414f849bcbddea1f07b816",
            "255da9fb9e914cef861bdf0232c0a893",
            "a2c76b11f5d24191953e0220fa74f027",
            "cf0942af55d14828a8a739d159a3cbe4",
            "870420d8d78e4e8899cc4932488c278d",
            "6dd9691b89db45f8a69bf865a1045542",
            "feaedb68d9b94920bf76cee930f80a9a",
            "901e9ea236104caf9b4d5e98f32e8182",
            "83544bca263b4ecc86d0da11e771565b",
            "d150e8b1edc548b09cfe8d7c9f173040",
            "67a264ab0a6b4d85856926e9f36a0ed0",
            "525360843b3a41eaa4bca76bb5794d88",
            "9c0fafc10012460385bd707c0e9cda68",
            "5f6c3547ea394bc5a1e2bab002d9d095",
            "53d5d35839144f719e82d81f648d97c1",
            "b70b55641e41491fb67fb05f407f0326",
            "9c5c94c2991b46e184d8a0a70fb7728f",
            "3dc81b2f1f584752974fbf0d20039864",
            "5719470cc6fb4b1b818c91b4d9e0c027",
            "6e9f202e5ab6401f97954659ae7c28f0",
            "41f6d09335d84d0d86a2d6f3a9df3e79",
            "736accf6967d49deaf7dc22b1f20d21d",
            "8ec4b1b56eb64900af28c0b555d14ad6",
            "27d4f83bb9da4c1db35ef4c99fc33982",
            "d1a912a5162e4218b189c5de03ae77a3",
            "218eeea99a1c40c4b171b2a2989d5faf",
            "8327f9d930a045e5817434f085cf1e6e",
            "de2bb3f466994c96be5a72cf5046f28f",
            "799727c6df364e7ca348617fa15d2f03",
            "2405fefa48804c45923d4436e449f113",
            "d3c3fcb3cac445daa584c479d3bb86ec",
            "12ba4a91eb574057a2f894048b410650",
            "19a2080585c24c6891b957d72045d75b",
            "b787281da8f4458bb451f22fb80ecd8d",
            "bb301f51262f4155a1e8a0a174ad3318",
            "53030a861af74b2e8ce97a657b7d601d",
            "c0834edea61a45d3aedfde2e01d2e9e7",
            "6d7f6eb9222c4440977c78b95bb49562",
            "65ab8d000fab47149f61ace7680a286b",
            "6814aa0a45f140f5a0e38220ae2f7888",
            "5e1d3b0c36964aa38138bad1e4f050dc",
            "4c6d46a1bba4483c95098371c83fc295",
            "04ef2e61981948ffa9f91da722529ff6",
            "d5051cfceb394cecb8a252ba05a9a536",
            "7e02beb102de4611811fe9e90260fb0f",
            "9099026c347147e09896ee8fd68e00c9",
            "e49dc36e7cd241a1b01b9d4b1a8fa2d8",
            "39cd4367d6bc4f9e86da87fecba12b7b",
            "8d184837e0964bcba832054f32d2d2f4",
            "607a970844ad475997162758c7304310"
          ]
        },
        "id": "iN0ZRJZeXr4A",
        "outputId": "ef929540-20e0-4b7c-b0c0-88abd0696808"
      },
      "source": [
        "# Create a TransformerModel\n",
        "model = ClassificationModel('bert', 'bert-base-multilingual-uncased',use_cuda=False)\n",
        "\n",
        "# Train the model\n",
        "model.train_model(train_df)\n",
        "\n",
        "# Evaluate the model\n",
        "result, model_outputs, wrong_predictions = model.eval_model(eval_df)"
      ],
      "execution_count": null,
      "outputs": [
        {
          "output_type": "display_data",
          "data": {
            "application/vnd.jupyter.widget-view+json": {
              "model_id": "8acff3c86bb3493090824d59362606f2",
              "version_minor": 0,
              "version_major": 2
            },
            "text/plain": [
              "HBox(children=(HTML(value='Downloading'), FloatProgress(value=0.0, max=625.0), HTML(value='')))"
            ]
          },
          "metadata": {
            "tags": []
          }
        },
        {
          "output_type": "stream",
          "text": [
            "\n"
          ],
          "name": "stdout"
        },
        {
          "output_type": "display_data",
          "data": {
            "application/vnd.jupyter.widget-view+json": {
              "model_id": "57af97638ea4405caa734c82469a9669",
              "version_minor": 0,
              "version_major": 2
            },
            "text/plain": [
              "HBox(children=(HTML(value='Downloading'), FloatProgress(value=0.0, max=672271273.0), HTML(value='')))"
            ]
          },
          "metadata": {
            "tags": []
          }
        },
        {
          "output_type": "stream",
          "text": [
            "\n"
          ],
          "name": "stdout"
        },
        {
          "output_type": "stream",
          "text": [
            "Some weights of the model checkpoint at bert-base-multilingual-uncased were not used when initializing BertForSequenceClassification: ['cls.predictions.bias', 'cls.predictions.transform.dense.weight', 'cls.predictions.transform.dense.bias', 'cls.predictions.decoder.weight', 'cls.seq_relationship.weight', 'cls.seq_relationship.bias', 'cls.predictions.transform.LayerNorm.weight', 'cls.predictions.transform.LayerNorm.bias']\n",
            "- This IS expected if you are initializing BertForSequenceClassification from the checkpoint of a model trained on another task or with another architecture (e.g. initializing a BertForSequenceClassification model from a BertForPreTraining model).\n",
            "- This IS NOT expected if you are initializing BertForSequenceClassification from the checkpoint of a model that you expect to be exactly identical (initializing a BertForSequenceClassification model from a BertForSequenceClassification model).\n",
            "Some weights of BertForSequenceClassification were not initialized from the model checkpoint at bert-base-multilingual-uncased and are newly initialized: ['classifier.weight', 'classifier.bias']\n",
            "You should probably TRAIN this model on a down-stream task to be able to use it for predictions and inference.\n"
          ],
          "name": "stderr"
        },
        {
          "output_type": "display_data",
          "data": {
            "application/vnd.jupyter.widget-view+json": {
              "model_id": "feaedb68d9b94920bf76cee930f80a9a",
              "version_minor": 0,
              "version_major": 2
            },
            "text/plain": [
              "HBox(children=(HTML(value='Downloading'), FloatProgress(value=0.0, max=871891.0), HTML(value='')))"
            ]
          },
          "metadata": {
            "tags": []
          }
        },
        {
          "output_type": "stream",
          "text": [
            "\n"
          ],
          "name": "stdout"
        },
        {
          "output_type": "stream",
          "text": [
            "/usr/local/lib/python3.6/dist-packages/simpletransformers/classification/classification_model.py:380: UserWarning: Dataframe headers not specified. Falling back to using column 0 as text and column 1 as labels.\n",
            "  \"Dataframe headers not specified. Falling back to using column 0 as text and column 1 as labels.\"\n"
          ],
          "name": "stderr"
        },
        {
          "output_type": "display_data",
          "data": {
            "application/vnd.jupyter.widget-view+json": {
              "model_id": "3dc81b2f1f584752974fbf0d20039864",
              "version_minor": 0,
              "version_major": 2
            },
            "text/plain": [
              "HBox(children=(HTML(value=''), FloatProgress(value=0.0, max=11950.0), HTML(value='')))"
            ]
          },
          "metadata": {
            "tags": []
          }
        },
        {
          "output_type": "stream",
          "text": [
            "\n"
          ],
          "name": "stdout"
        },
        {
          "output_type": "display_data",
          "data": {
            "application/vnd.jupyter.widget-view+json": {
              "model_id": "799727c6df364e7ca348617fa15d2f03",
              "version_minor": 0,
              "version_major": 2
            },
            "text/plain": [
              "HBox(children=(HTML(value='Epoch'), FloatProgress(value=0.0, max=1.0), HTML(value='')))"
            ]
          },
          "metadata": {
            "tags": []
          }
        },
        {
          "output_type": "display_data",
          "data": {
            "application/vnd.jupyter.widget-view+json": {
              "model_id": "6814aa0a45f140f5a0e38220ae2f7888",
              "version_minor": 0,
              "version_major": 2
            },
            "text/plain": [
              "HBox(children=(HTML(value='Running Epoch 0 of 1'), FloatProgress(value=0.0, max=1494.0), HTML(value='')))"
            ]
          },
          "metadata": {
            "tags": []
          }
        }
      ]
    },
    {
      "cell_type": "code",
      "metadata": {
        "id": "2741Ic29YSGd"
      },
      "source": [
        "predictions, raw_outputs = model.predict(X_test)"
      ],
      "execution_count": null,
      "outputs": []
    },
    {
      "cell_type": "code",
      "metadata": {
        "id": "Li_XK4udcqXT"
      },
      "source": [
        "print(\"Precision: {0:6.2f}\".format(precision_score(y_test, predictions, average='macro')))\n",
        "print(\"Recall: {0:6.2f}\".format(recall_score(y_test, predictions, average='macro')))\n",
        "print(\"F1-measure: {0:6.2f}\".format(f1_score(y_test, predictions, average='macro')))\n",
        "print(\"Accuracy: {0:6.2f}\".format(accuracy_score(y_test, predictions)))\n",
        "print(classification_report(y_test, predictions))\n",
        "confusion_matrix(y_test, predictions)"
      ],
      "execution_count": null,
      "outputs": []
    },
    {
      "cell_type": "markdown",
      "metadata": {
        "id": "IC0798f9PXhL"
      },
      "source": [
        "## Что еще можно улучшить?\n",
        "\n",
        "Ограничение модели BERT - обработка только первых 512 токенов текста\n",
        "\n",
        "Нам это не очень подходит - если обрезать тексты по 512 слову, как это происходит в simple transformers, но мы можем обрезать и вопрос, и ответ! Тогда наш классификатор не сможет научиться различать неправильные ответы.\n",
        "\n",
        "Обрежем тексты по началу, а не по концу:"
      ]
    },
    {
      "cell_type": "code",
      "metadata": {
        "id": "NOvD5hb7PuqA"
      },
      "source": [
        "def text_splitter(text, amount=500): \n",
        "    tokens = text.split(' ')\n",
        "    new_text = ' '.join(tokens[-amount:])\n",
        "    return new_text\n",
        "\n",
        "def get_X_y_for_bert(data_json_file):\n",
        "    X, y = [], []\n",
        "    with open(data_json_file, 'r') as json_file:\n",
        "        json_list = list(json_file)\n",
        "        #print(json_list[0])\n",
        "        for json_str in json_list:\n",
        "            item = json.loads(json_str)\n",
        "            text = item['passage']['text']\n",
        "            questions = item['passage']['questions']\n",
        "            for q in questions:\n",
        "                query = q['question']\n",
        "                ans = q['answers']\n",
        "                for a in ans:\n",
        "                    X.append(text_splitter(text+' Query: '+query+' Answer: '+a['text']))\n",
        "                    y.append(a['label'])\n",
        "    return X, y\n"
      ],
      "execution_count": null,
      "outputs": []
    },
    {
      "cell_type": "markdown",
      "metadata": {
        "id": "wcFSRJpKP2AC"
      },
      "source": [
        "## Еще идеи:\n",
        "\n",
        "\n",
        "\n",
        "*   больше эпох обучения\n",
        "*   попробовать другие модели для классификации документов из simple transformers - только мультиязычные! См [документацию](https://simpletransformers.ai/docs/classification-models/) \n",
        "\n"
      ]
    },
    {
      "cell_type": "markdown",
      "metadata": {
        "id": "Qe7Nf61BuVZW"
      },
      "source": [
        "## Косинусная мера - простой вариант\n"
      ]
    },
    {
      "cell_type": "code",
      "metadata": {
        "colab": {
          "base_uri": "https://localhost:8080/"
        },
        "id": "jPoh3YY9w-m6",
        "outputId": "8f9c9ebe-e601-46f7-9b87-9ab72e0659f2"
      },
      "source": [
        "!pip install nltk\n"
      ],
      "execution_count": 63,
      "outputs": [
        {
          "output_type": "stream",
          "text": [
            "Requirement already satisfied: nltk in /usr/local/lib/python3.6/dist-packages (3.2.5)\n",
            "Requirement already satisfied: six in /usr/local/lib/python3.6/dist-packages (from nltk) (1.15.0)\n"
          ],
          "name": "stdout"
        }
      ]
    },
    {
      "cell_type": "code",
      "metadata": {
        "colab": {
          "base_uri": "https://localhost:8080/"
        },
        "id": "Nwm7JgrIxDxL",
        "outputId": "a7544675-d884-43eb-b2df-b1f71b5bde37"
      },
      "source": [
        "import nltk\n",
        "nltk.download(\"all\")"
      ],
      "execution_count": 66,
      "outputs": [
        {
          "output_type": "stream",
          "text": [
            "[nltk_data] Downloading collection 'all'\n",
            "[nltk_data]    | \n",
            "[nltk_data]    | Downloading package abc to /root/nltk_data...\n",
            "[nltk_data]    |   Unzipping corpora/abc.zip.\n",
            "[nltk_data]    | Downloading package alpino to /root/nltk_data...\n",
            "[nltk_data]    |   Unzipping corpora/alpino.zip.\n",
            "[nltk_data]    | Downloading package biocreative_ppi to\n",
            "[nltk_data]    |     /root/nltk_data...\n",
            "[nltk_data]    |   Unzipping corpora/biocreative_ppi.zip.\n",
            "[nltk_data]    | Downloading package brown to /root/nltk_data...\n",
            "[nltk_data]    |   Unzipping corpora/brown.zip.\n",
            "[nltk_data]    | Downloading package brown_tei to /root/nltk_data...\n",
            "[nltk_data]    |   Unzipping corpora/brown_tei.zip.\n",
            "[nltk_data]    | Downloading package cess_cat to /root/nltk_data...\n",
            "[nltk_data]    |   Unzipping corpora/cess_cat.zip.\n",
            "[nltk_data]    | Downloading package cess_esp to /root/nltk_data...\n",
            "[nltk_data]    |   Unzipping corpora/cess_esp.zip.\n",
            "[nltk_data]    | Downloading package chat80 to /root/nltk_data...\n",
            "[nltk_data]    |   Unzipping corpora/chat80.zip.\n",
            "[nltk_data]    | Downloading package city_database to\n",
            "[nltk_data]    |     /root/nltk_data...\n",
            "[nltk_data]    |   Unzipping corpora/city_database.zip.\n",
            "[nltk_data]    | Downloading package cmudict to /root/nltk_data...\n",
            "[nltk_data]    |   Unzipping corpora/cmudict.zip.\n",
            "[nltk_data]    | Downloading package comparative_sentences to\n",
            "[nltk_data]    |     /root/nltk_data...\n",
            "[nltk_data]    |   Unzipping corpora/comparative_sentences.zip.\n",
            "[nltk_data]    | Downloading package comtrans to /root/nltk_data...\n",
            "[nltk_data]    | Downloading package conll2000 to /root/nltk_data...\n",
            "[nltk_data]    |   Unzipping corpora/conll2000.zip.\n",
            "[nltk_data]    | Downloading package conll2002 to /root/nltk_data...\n",
            "[nltk_data]    |   Unzipping corpora/conll2002.zip.\n",
            "[nltk_data]    | Downloading package conll2007 to /root/nltk_data...\n",
            "[nltk_data]    | Downloading package crubadan to /root/nltk_data...\n",
            "[nltk_data]    |   Unzipping corpora/crubadan.zip.\n",
            "[nltk_data]    | Downloading package dependency_treebank to\n",
            "[nltk_data]    |     /root/nltk_data...\n",
            "[nltk_data]    |   Unzipping corpora/dependency_treebank.zip.\n",
            "[nltk_data]    | Downloading package dolch to /root/nltk_data...\n",
            "[nltk_data]    |   Unzipping corpora/dolch.zip.\n",
            "[nltk_data]    | Downloading package europarl_raw to\n",
            "[nltk_data]    |     /root/nltk_data...\n",
            "[nltk_data]    |   Unzipping corpora/europarl_raw.zip.\n",
            "[nltk_data]    | Downloading package floresta to /root/nltk_data...\n",
            "[nltk_data]    |   Unzipping corpora/floresta.zip.\n",
            "[nltk_data]    | Downloading package framenet_v15 to\n",
            "[nltk_data]    |     /root/nltk_data...\n",
            "[nltk_data]    |   Unzipping corpora/framenet_v15.zip.\n",
            "[nltk_data]    | Downloading package framenet_v17 to\n",
            "[nltk_data]    |     /root/nltk_data...\n",
            "[nltk_data]    |   Unzipping corpora/framenet_v17.zip.\n",
            "[nltk_data]    | Downloading package gazetteers to /root/nltk_data...\n",
            "[nltk_data]    |   Unzipping corpora/gazetteers.zip.\n",
            "[nltk_data]    | Downloading package genesis to /root/nltk_data...\n",
            "[nltk_data]    |   Unzipping corpora/genesis.zip.\n",
            "[nltk_data]    | Downloading package gutenberg to /root/nltk_data...\n",
            "[nltk_data]    |   Unzipping corpora/gutenberg.zip.\n",
            "[nltk_data]    | Downloading package ieer to /root/nltk_data...\n",
            "[nltk_data]    |   Unzipping corpora/ieer.zip.\n",
            "[nltk_data]    | Downloading package inaugural to /root/nltk_data...\n",
            "[nltk_data]    |   Unzipping corpora/inaugural.zip.\n",
            "[nltk_data]    | Downloading package indian to /root/nltk_data...\n",
            "[nltk_data]    |   Unzipping corpora/indian.zip.\n",
            "[nltk_data]    | Downloading package jeita to /root/nltk_data...\n",
            "[nltk_data]    | Downloading package kimmo to /root/nltk_data...\n",
            "[nltk_data]    |   Unzipping corpora/kimmo.zip.\n",
            "[nltk_data]    | Downloading package knbc to /root/nltk_data...\n",
            "[nltk_data]    | Downloading package lin_thesaurus to\n",
            "[nltk_data]    |     /root/nltk_data...\n",
            "[nltk_data]    |   Unzipping corpora/lin_thesaurus.zip.\n",
            "[nltk_data]    | Downloading package mac_morpho to /root/nltk_data...\n",
            "[nltk_data]    |   Unzipping corpora/mac_morpho.zip.\n",
            "[nltk_data]    | Downloading package machado to /root/nltk_data...\n",
            "[nltk_data]    | Downloading package masc_tagged to /root/nltk_data...\n",
            "[nltk_data]    | Downloading package moses_sample to\n",
            "[nltk_data]    |     /root/nltk_data...\n",
            "[nltk_data]    |   Unzipping models/moses_sample.zip.\n",
            "[nltk_data]    | Downloading package movie_reviews to\n",
            "[nltk_data]    |     /root/nltk_data...\n",
            "[nltk_data]    |   Unzipping corpora/movie_reviews.zip.\n",
            "[nltk_data]    | Downloading package names to /root/nltk_data...\n",
            "[nltk_data]    |   Unzipping corpora/names.zip.\n",
            "[nltk_data]    | Downloading package nombank.1.0 to /root/nltk_data...\n",
            "[nltk_data]    | Downloading package nps_chat to /root/nltk_data...\n",
            "[nltk_data]    |   Unzipping corpora/nps_chat.zip.\n",
            "[nltk_data]    | Downloading package omw to /root/nltk_data...\n",
            "[nltk_data]    |   Unzipping corpora/omw.zip.\n",
            "[nltk_data]    | Downloading package opinion_lexicon to\n",
            "[nltk_data]    |     /root/nltk_data...\n",
            "[nltk_data]    |   Unzipping corpora/opinion_lexicon.zip.\n",
            "[nltk_data]    | Downloading package paradigms to /root/nltk_data...\n",
            "[nltk_data]    |   Unzipping corpora/paradigms.zip.\n",
            "[nltk_data]    | Downloading package pil to /root/nltk_data...\n",
            "[nltk_data]    |   Unzipping corpora/pil.zip.\n",
            "[nltk_data]    | Downloading package pl196x to /root/nltk_data...\n",
            "[nltk_data]    |   Unzipping corpora/pl196x.zip.\n",
            "[nltk_data]    | Downloading package ppattach to /root/nltk_data...\n",
            "[nltk_data]    |   Unzipping corpora/ppattach.zip.\n",
            "[nltk_data]    | Downloading package problem_reports to\n",
            "[nltk_data]    |     /root/nltk_data...\n",
            "[nltk_data]    |   Unzipping corpora/problem_reports.zip.\n",
            "[nltk_data]    | Downloading package propbank to /root/nltk_data...\n",
            "[nltk_data]    | Downloading package ptb to /root/nltk_data...\n",
            "[nltk_data]    |   Unzipping corpora/ptb.zip.\n",
            "[nltk_data]    | Downloading package product_reviews_1 to\n",
            "[nltk_data]    |     /root/nltk_data...\n",
            "[nltk_data]    |   Unzipping corpora/product_reviews_1.zip.\n",
            "[nltk_data]    | Downloading package product_reviews_2 to\n",
            "[nltk_data]    |     /root/nltk_data...\n",
            "[nltk_data]    |   Unzipping corpora/product_reviews_2.zip.\n",
            "[nltk_data]    | Downloading package pros_cons to /root/nltk_data...\n",
            "[nltk_data]    |   Unzipping corpora/pros_cons.zip.\n",
            "[nltk_data]    | Downloading package qc to /root/nltk_data...\n",
            "[nltk_data]    |   Unzipping corpora/qc.zip.\n",
            "[nltk_data]    | Downloading package reuters to /root/nltk_data...\n",
            "[nltk_data]    | Downloading package rte to /root/nltk_data...\n",
            "[nltk_data]    |   Unzipping corpora/rte.zip.\n",
            "[nltk_data]    | Downloading package semcor to /root/nltk_data...\n",
            "[nltk_data]    | Downloading package senseval to /root/nltk_data...\n",
            "[nltk_data]    |   Unzipping corpora/senseval.zip.\n",
            "[nltk_data]    | Downloading package sentiwordnet to\n",
            "[nltk_data]    |     /root/nltk_data...\n",
            "[nltk_data]    |   Unzipping corpora/sentiwordnet.zip.\n",
            "[nltk_data]    | Downloading package sentence_polarity to\n",
            "[nltk_data]    |     /root/nltk_data...\n",
            "[nltk_data]    |   Unzipping corpora/sentence_polarity.zip.\n",
            "[nltk_data]    | Downloading package shakespeare to /root/nltk_data...\n",
            "[nltk_data]    |   Unzipping corpora/shakespeare.zip.\n",
            "[nltk_data]    | Downloading package sinica_treebank to\n",
            "[nltk_data]    |     /root/nltk_data...\n",
            "[nltk_data]    |   Unzipping corpora/sinica_treebank.zip.\n",
            "[nltk_data]    | Downloading package smultron to /root/nltk_data...\n",
            "[nltk_data]    |   Unzipping corpora/smultron.zip.\n",
            "[nltk_data]    | Downloading package state_union to /root/nltk_data...\n",
            "[nltk_data]    |   Unzipping corpora/state_union.zip.\n",
            "[nltk_data]    | Downloading package stopwords to /root/nltk_data...\n",
            "[nltk_data]    |   Unzipping corpora/stopwords.zip.\n",
            "[nltk_data]    | Downloading package subjectivity to\n",
            "[nltk_data]    |     /root/nltk_data...\n",
            "[nltk_data]    |   Unzipping corpora/subjectivity.zip.\n",
            "[nltk_data]    | Downloading package swadesh to /root/nltk_data...\n",
            "[nltk_data]    |   Unzipping corpora/swadesh.zip.\n",
            "[nltk_data]    | Downloading package switchboard to /root/nltk_data...\n",
            "[nltk_data]    |   Unzipping corpora/switchboard.zip.\n",
            "[nltk_data]    | Downloading package timit to /root/nltk_data...\n",
            "[nltk_data]    |   Unzipping corpora/timit.zip.\n",
            "[nltk_data]    | Downloading package toolbox to /root/nltk_data...\n",
            "[nltk_data]    |   Unzipping corpora/toolbox.zip.\n",
            "[nltk_data]    | Downloading package treebank to /root/nltk_data...\n",
            "[nltk_data]    |   Unzipping corpora/treebank.zip.\n",
            "[nltk_data]    | Downloading package twitter_samples to\n",
            "[nltk_data]    |     /root/nltk_data...\n",
            "[nltk_data]    |   Unzipping corpora/twitter_samples.zip.\n",
            "[nltk_data]    | Downloading package udhr to /root/nltk_data...\n",
            "[nltk_data]    |   Unzipping corpora/udhr.zip.\n",
            "[nltk_data]    | Downloading package udhr2 to /root/nltk_data...\n",
            "[nltk_data]    |   Unzipping corpora/udhr2.zip.\n",
            "[nltk_data]    | Downloading package unicode_samples to\n",
            "[nltk_data]    |     /root/nltk_data...\n",
            "[nltk_data]    |   Unzipping corpora/unicode_samples.zip.\n",
            "[nltk_data]    | Downloading package universal_treebanks_v20 to\n",
            "[nltk_data]    |     /root/nltk_data...\n",
            "[nltk_data]    | Downloading package verbnet to /root/nltk_data...\n",
            "[nltk_data]    |   Unzipping corpora/verbnet.zip.\n",
            "[nltk_data]    | Downloading package verbnet3 to /root/nltk_data...\n",
            "[nltk_data]    |   Unzipping corpora/verbnet3.zip.\n",
            "[nltk_data]    | Downloading package webtext to /root/nltk_data...\n",
            "[nltk_data]    |   Unzipping corpora/webtext.zip.\n",
            "[nltk_data]    | Downloading package wordnet to /root/nltk_data...\n",
            "[nltk_data]    |   Unzipping corpora/wordnet.zip.\n",
            "[nltk_data]    | Downloading package wordnet_ic to /root/nltk_data...\n",
            "[nltk_data]    |   Unzipping corpora/wordnet_ic.zip.\n",
            "[nltk_data]    | Downloading package words to /root/nltk_data...\n",
            "[nltk_data]    |   Unzipping corpora/words.zip.\n",
            "[nltk_data]    | Downloading package ycoe to /root/nltk_data...\n",
            "[nltk_data]    |   Unzipping corpora/ycoe.zip.\n",
            "[nltk_data]    | Downloading package rslp to /root/nltk_data...\n",
            "[nltk_data]    |   Unzipping stemmers/rslp.zip.\n",
            "[nltk_data]    | Downloading package maxent_treebank_pos_tagger to\n",
            "[nltk_data]    |     /root/nltk_data...\n",
            "[nltk_data]    |   Unzipping taggers/maxent_treebank_pos_tagger.zip.\n",
            "[nltk_data]    | Downloading package universal_tagset to\n",
            "[nltk_data]    |     /root/nltk_data...\n",
            "[nltk_data]    |   Unzipping taggers/universal_tagset.zip.\n",
            "[nltk_data]    | Downloading package maxent_ne_chunker to\n",
            "[nltk_data]    |     /root/nltk_data...\n",
            "[nltk_data]    |   Unzipping chunkers/maxent_ne_chunker.zip.\n",
            "[nltk_data]    | Downloading package punkt to /root/nltk_data...\n",
            "[nltk_data]    |   Unzipping tokenizers/punkt.zip.\n",
            "[nltk_data]    | Downloading package book_grammars to\n",
            "[nltk_data]    |     /root/nltk_data...\n",
            "[nltk_data]    |   Unzipping grammars/book_grammars.zip.\n",
            "[nltk_data]    | Downloading package sample_grammars to\n",
            "[nltk_data]    |     /root/nltk_data...\n",
            "[nltk_data]    |   Unzipping grammars/sample_grammars.zip.\n",
            "[nltk_data]    | Downloading package spanish_grammars to\n",
            "[nltk_data]    |     /root/nltk_data...\n",
            "[nltk_data]    |   Unzipping grammars/spanish_grammars.zip.\n",
            "[nltk_data]    | Downloading package basque_grammars to\n",
            "[nltk_data]    |     /root/nltk_data...\n",
            "[nltk_data]    |   Unzipping grammars/basque_grammars.zip.\n",
            "[nltk_data]    | Downloading package large_grammars to\n",
            "[nltk_data]    |     /root/nltk_data...\n",
            "[nltk_data]    |   Unzipping grammars/large_grammars.zip.\n",
            "[nltk_data]    | Downloading package tagsets to /root/nltk_data...\n",
            "[nltk_data]    |   Unzipping help/tagsets.zip.\n",
            "[nltk_data]    | Downloading package snowball_data to\n",
            "[nltk_data]    |     /root/nltk_data...\n",
            "[nltk_data]    | Downloading package bllip_wsj_no_aux to\n",
            "[nltk_data]    |     /root/nltk_data...\n",
            "[nltk_data]    |   Unzipping models/bllip_wsj_no_aux.zip.\n",
            "[nltk_data]    | Downloading package word2vec_sample to\n",
            "[nltk_data]    |     /root/nltk_data...\n",
            "[nltk_data]    |   Unzipping models/word2vec_sample.zip.\n",
            "[nltk_data]    | Downloading package panlex_swadesh to\n",
            "[nltk_data]    |     /root/nltk_data...\n",
            "[nltk_data]    | Downloading package mte_teip5 to /root/nltk_data...\n",
            "[nltk_data]    |   Unzipping corpora/mte_teip5.zip.\n",
            "[nltk_data]    | Downloading package averaged_perceptron_tagger to\n",
            "[nltk_data]    |     /root/nltk_data...\n",
            "[nltk_data]    |   Unzipping taggers/averaged_perceptron_tagger.zip.\n",
            "[nltk_data]    | Downloading package averaged_perceptron_tagger_ru to\n",
            "[nltk_data]    |     /root/nltk_data...\n",
            "[nltk_data]    |   Unzipping\n",
            "[nltk_data]    |       taggers/averaged_perceptron_tagger_ru.zip.\n",
            "[nltk_data]    | Downloading package perluniprops to\n",
            "[nltk_data]    |     /root/nltk_data...\n",
            "[nltk_data]    |   Unzipping misc/perluniprops.zip.\n",
            "[nltk_data]    | Downloading package nonbreaking_prefixes to\n",
            "[nltk_data]    |     /root/nltk_data...\n",
            "[nltk_data]    |   Unzipping corpora/nonbreaking_prefixes.zip.\n",
            "[nltk_data]    | Downloading package vader_lexicon to\n",
            "[nltk_data]    |     /root/nltk_data...\n",
            "[nltk_data]    | Downloading package porter_test to /root/nltk_data...\n",
            "[nltk_data]    |   Unzipping stemmers/porter_test.zip.\n",
            "[nltk_data]    | Downloading package wmt15_eval to /root/nltk_data...\n",
            "[nltk_data]    |   Unzipping models/wmt15_eval.zip.\n",
            "[nltk_data]    | Downloading package mwa_ppdb to /root/nltk_data...\n",
            "[nltk_data]    |   Unzipping misc/mwa_ppdb.zip.\n",
            "[nltk_data]    | \n",
            "[nltk_data]  Done downloading collection all\n"
          ],
          "name": "stdout"
        },
        {
          "output_type": "execute_result",
          "data": {
            "text/plain": [
              "True"
            ]
          },
          "metadata": {
            "tags": []
          },
          "execution_count": 66
        }
      ]
    },
    {
      "cell_type": "code",
      "metadata": {
        "id": "nqq6LH6gw3o8",
        "outputId": "4ef279ae-4919-422b-9793-163cd9b20b28",
        "colab": {
          "base_uri": "https://localhost:8080/"
        }
      },
      "source": [
        "from nltk.corpus import stopwords \n",
        "from nltk.tokenize import word_tokenize \n",
        "  \n",
        "# X = input(\"Enter first string: \").lower() \n",
        "# Y = input(\"Enter second string: \").lower() \n",
        "X =\"I love horror movies\"\n",
        "Y =\"Lights out is a horror movie\"\n",
        "  \n",
        "# tokenization \n",
        "X_list = word_tokenize(X)  \n",
        "Y_list = word_tokenize(Y) \n",
        "  \n",
        "# sw contains the list of stopwords \n",
        "sw = stopwords.words('english')  \n",
        "l1 =[];l2 =[] \n",
        "  \n",
        "# remove stop words from the string \n",
        "X_set = {w for w in X_list if not w in sw}  \n",
        "Y_set = {w for w in Y_list if not w in sw} \n",
        "  \n",
        "# form a set containing keywords of both strings  \n",
        "rvector = X_set.union(Y_set)  \n",
        "for w in rvector: \n",
        "    if w in X_set: l1.append(1) # create a vector \n",
        "    else: l1.append(0) \n",
        "    if w in Y_set: l2.append(1) \n",
        "    else: l2.append(0) \n",
        "c = 0\n",
        "  \n",
        "# cosine formula  \n",
        "for i in range(len(rvector)): \n",
        "        c+= l1[i]*l2[i] \n",
        "cosine = c / float((sum(l1)*sum(l2))**0.5) \n",
        "print(\"similarity: \", cosine) "
      ],
      "execution_count": 67,
      "outputs": [
        {
          "output_type": "stream",
          "text": [
            "similarity:  0.2886751345948129\n"
          ],
          "name": "stdout"
        }
      ]
    }
  ]
}